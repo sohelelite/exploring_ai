{
 "cells": [
  {
   "cell_type": "code",
   "execution_count": 2,
   "metadata": {},
   "outputs": [],
   "source": [
    "import os\n",
    "import random\n",
    "import shutil\n",
    "import tensorflow as tf\n",
    "from tensorflow.keras.preprocessing.image import ImageDataGenerator\n",
    "from shutil import copyfile\n",
    "import matplotlib.pyplot as plt"
   ]
  },
  {
   "cell_type": "code",
   "execution_count": 6,
   "metadata": {},
   "outputs": [
    {
     "name": "stdout",
     "output_type": "stream",
     "text": [
      "There are 12501 images of dogs.\n",
      "There are 12501 images of cats.\n"
     ]
    }
   ],
   "source": [
    "source_path = 'data/tmp/PetImages'\n",
    "\n",
    "current_dir = os.getcwd()\n",
    "\n",
    "source_path_dogs = os.path.join(current_dir, \"data/tmp/PetImages/Dog\")\n",
    "source_path_cats = os.path.join(current_dir,\"data/tmp/PetImages/Cat\")\n",
    "\n",
    "print(f'There are {len(os.listdir(source_path_dogs))} images of dogs.')\n",
    "print(f'There are {len(os.listdir(source_path_cats))} images of cats.')"
   ]
  },
  {
   "cell_type": "code",
   "execution_count": 18,
   "metadata": {},
   "outputs": [],
   "source": [
    "root_dir = 'data/tmp/cats-v-dogs'\n",
    "\n",
    "# Empty directory to prevent FileExistsError is the function is run several times\n",
    "if os.path.exists(root_dir):\n",
    "    shutil.rmtree(root_dir)\n",
    "\n",
    "# create_train_val_dirs\n",
    "def create_train_val_dirs(root_dir):\n",
    "    # Create Parent Directory\n",
    "    os.mkdir(root_dir)\n",
    "\n",
    "    for x in [\"training\", \"validation\"]:\n",
    "        os.mkdir(root_dir + '/' + x)\n",
    "\n",
    "        for y in [\"cats\", \"dogs\"]:\n",
    "            os.mkdir(root_dir + '/' + x + '/' + y)\n",
    "\n",
    "try:\n",
    "    create_train_val_dirs(root_dir=root_dir)\n",
    "except FileExistsError:\n",
    "    print(\"You should not be seeing this since the upper directory is removed beforehand\")"
   ]
  },
  {
   "cell_type": "code",
   "execution_count": 20,
   "metadata": {},
   "outputs": [
    {
     "name": "stdout",
     "output_type": "stream",
     "text": [
      "data/tmp/cats-v-dogs/training\n",
      "data/tmp/cats-v-dogs/validation\n",
      "data/tmp/cats-v-dogs/training/dogs\n",
      "data/tmp/cats-v-dogs/training/cats\n",
      "data/tmp/cats-v-dogs/validation/dogs\n",
      "data/tmp/cats-v-dogs/validation/cats\n"
     ]
    }
   ],
   "source": [
    "# Test your create_train_val_dirs function\n",
    "for rootdir, dirs, files in os.walk(root_dir):\n",
    "    for subdir in dirs:\n",
    "        print(os.path.join(rootdir, subdir))"
   ]
  },
  {
   "cell_type": "code",
   "execution_count": 53,
   "metadata": {},
   "outputs": [],
   "source": [
    "# split_data\n",
    "def split_data(SOURCE_DIR, TRAINING_DIR, VALIDATION_DIR, SPLIT_SIZE):\n",
    "    \"\"\"\n",
    "    Splits the data into train and test sets\n",
    "\n",
    "    Args:\n",
    "        SOURCE_DIR (string): directory path containing the images\n",
    "        TRAINING_DIR (string): directory path to be used for training\n",
    "        VALIDATION_DIR (string): directory path to be used for validation\n",
    "        SPLIT_SIZE (float): proportion of the dataset to be used for training\n",
    "\n",
    "    Returns:\n",
    "        None\n",
    "    \"\"\"\n",
    "\n",
    "    files = []\n",
    "\n",
    "    for filename in os.listdir(SOURCE_DIR):\n",
    "        file = SOURCE_DIR + filename\n",
    "        if os.path.getsize(file) > 0:\n",
    "            files.append(file)\n",
    "        else:\n",
    "            print(f\"{filename} is zero length, so ignoring.\")\n",
    "\n",
    "    training_length = int(len(files) * SPLIT_SIZE)\n",
    "    testing_length = int(len(files) - training_length)\n",
    "    shuffled_set = random.sample(files, len(files))\n",
    "    training_set = shuffled_set[0:training_length]\n",
    "    testing_set = shuffled_set[-testing_length:]\n",
    "    \n",
    "    for filename in training_set:\n",
    "        print(filename)\n",
    "        this_file = SOURCE_DIR + filename\n",
    "        destination = TRAINING_DIR + filename\n",
    "        print(this_file)\n",
    "        print(destination)\n",
    "        copyfile(this_file, destination)\n",
    "\n",
    "    for filename in testing_set:\n",
    "        this_file = SOURCE_DIR + filename\n",
    "        destination = VALIDATION_DIR + filename\n",
    "        copyfile(this_file, destination)"
   ]
  },
  {
   "cell_type": "code",
   "execution_count": 54,
   "metadata": {},
   "outputs": [
    {
     "name": "stdout",
     "output_type": "stream",
     "text": [
      "/Users/sohelshaikh/Development/ai/exploring_ai/tensorflow/data/tmp/PetImages/Cat/\n",
      "666.jpg is zero length, so ignoring.\n",
      "/Users/sohelshaikh/Development/ai/exploring_ai/tensorflow/data/tmp/PetImages/Cat/9340.jpg\n",
      "/Users/sohelshaikh/Development/ai/exploring_ai/tensorflow/data/tmp/PetImages/Cat//Users/sohelshaikh/Development/ai/exploring_ai/tensorflow/data/tmp/PetImages/Cat/9340.jpg\n",
      "/Users/sohelshaikh/Development/ai/exploring_ai/tensorflow/data/tmp/cats-v-dogs/training/cats//Users/sohelshaikh/Development/ai/exploring_ai/tensorflow/data/tmp/PetImages/Cat/9340.jpg\n"
     ]
    },
    {
     "ename": "FileNotFoundError",
     "evalue": "[Errno 2] No such file or directory: '/Users/sohelshaikh/Development/ai/exploring_ai/tensorflow/data/tmp/PetImages/Cat//Users/sohelshaikh/Development/ai/exploring_ai/tensorflow/data/tmp/PetImages/Cat/9340.jpg'",
     "output_type": "error",
     "traceback": [
      "\u001b[0;31m---------------------------------------------------------------------------\u001b[0m",
      "\u001b[0;31mFileNotFoundError\u001b[0m                         Traceback (most recent call last)",
      "Cell \u001b[0;32mIn[54], line 40\u001b[0m\n\u001b[1;32m     37\u001b[0m split_size \u001b[38;5;241m=\u001b[39m \u001b[38;5;241m.9\u001b[39m\n\u001b[1;32m     39\u001b[0m \u001b[38;5;66;03m# Run the function\u001b[39;00m\n\u001b[0;32m---> 40\u001b[0m \u001b[43msplit_data\u001b[49m\u001b[43m(\u001b[49m\u001b[43mCAT_SOURCE_DIR\u001b[49m\u001b[43m,\u001b[49m\u001b[43mTRAINING_CATS_DIR\u001b[49m\u001b[43m,\u001b[49m\u001b[43mVALIDATION_CATS_DIR\u001b[49m\u001b[43m,\u001b[49m\u001b[43msplit_size\u001b[49m\u001b[43m)\u001b[49m\n\u001b[1;32m     41\u001b[0m split_data(DOG_SOURCE_DIR,TRAINING_DOGS_DIR,VALIDATION_DOGS_DIR,split_size)\n\u001b[1;32m     43\u001b[0m \u001b[38;5;66;03m# Check that the number of images matches the expected output\u001b[39;00m\n",
      "Cell \u001b[0;32mIn[53], line 37\u001b[0m, in \u001b[0;36msplit_data\u001b[0;34m(SOURCE_DIR, TRAINING_DIR, VALIDATION_DIR, SPLIT_SIZE)\u001b[0m\n\u001b[1;32m     35\u001b[0m     \u001b[38;5;28mprint\u001b[39m(this_file)\n\u001b[1;32m     36\u001b[0m     \u001b[38;5;28mprint\u001b[39m(destination)\n\u001b[0;32m---> 37\u001b[0m     \u001b[43mcopyfile\u001b[49m\u001b[43m(\u001b[49m\u001b[43mthis_file\u001b[49m\u001b[43m,\u001b[49m\u001b[43m \u001b[49m\u001b[43mdestination\u001b[49m\u001b[43m)\u001b[49m\n\u001b[1;32m     39\u001b[0m \u001b[38;5;28;01mfor\u001b[39;00m filename \u001b[38;5;129;01min\u001b[39;00m testing_set:\n\u001b[1;32m     40\u001b[0m     this_file \u001b[38;5;241m=\u001b[39m SOURCE_DIR \u001b[38;5;241m+\u001b[39m filename\n",
      "File \u001b[0;32m/Library/Frameworks/Python.framework/Versions/3.11/lib/python3.11/shutil.py:256\u001b[0m, in \u001b[0;36mcopyfile\u001b[0;34m(src, dst, follow_symlinks)\u001b[0m\n\u001b[1;32m    254\u001b[0m     os\u001b[38;5;241m.\u001b[39msymlink(os\u001b[38;5;241m.\u001b[39mreadlink(src), dst)\n\u001b[1;32m    255\u001b[0m \u001b[38;5;28;01melse\u001b[39;00m:\n\u001b[0;32m--> 256\u001b[0m     \u001b[38;5;28;01mwith\u001b[39;00m \u001b[38;5;28mopen\u001b[39m(src, \u001b[38;5;124m'\u001b[39m\u001b[38;5;124mrb\u001b[39m\u001b[38;5;124m'\u001b[39m) \u001b[38;5;28;01mas\u001b[39;00m fsrc:\n\u001b[1;32m    257\u001b[0m         \u001b[38;5;28;01mtry\u001b[39;00m:\n\u001b[1;32m    258\u001b[0m             \u001b[38;5;28;01mwith\u001b[39;00m \u001b[38;5;28mopen\u001b[39m(dst, \u001b[38;5;124m'\u001b[39m\u001b[38;5;124mwb\u001b[39m\u001b[38;5;124m'\u001b[39m) \u001b[38;5;28;01mas\u001b[39;00m fdst:\n\u001b[1;32m    259\u001b[0m                 \u001b[38;5;66;03m# macOS\u001b[39;00m\n",
      "\u001b[0;31mFileNotFoundError\u001b[0m: [Errno 2] No such file or directory: '/Users/sohelshaikh/Development/ai/exploring_ai/tensorflow/data/tmp/PetImages/Cat//Users/sohelshaikh/Development/ai/exploring_ai/tensorflow/data/tmp/PetImages/Cat/9340.jpg'"
     ]
    }
   ],
   "source": [
    "# Test split_data function\n",
    "\n",
    "\n",
    "current_dir = os.getcwd()\n",
    "\n",
    "# Define paths\n",
    "CAT_SOURCE_DIR = os.path.join(current_dir,\"data/tmp/PetImages/Cat/\") \n",
    "DOG_SOURCE_DIR = os.path.join(current_dir,\"data/tmp/PetImages/Dog/\") \n",
    "print(CAT_SOURCE_DIR)\n",
    "TRAINING_DIR = \"data/tmp/cats-v-dogs/training/\"\n",
    "VALIDATION_DIR = \"data/tmp/cats-v-dogs/validation/\"\n",
    "\n",
    "TRAINING_CATS_DIR = os.path.join(current_dir, TRAINING_DIR, \"cats/\")\n",
    "VALIDATION_CATS_DIR = os.path.join(current_dir, VALIDATION_DIR, \"cats/\")\n",
    "\n",
    "TRAINING_DOGS_DIR = os.path.join(current_dir, TRAINING_DIR, \"dogs/\")\n",
    "VALIDATION_DOGS_DIR = os.path.join(current_dir, VALIDATION_DIR, \"dogs/\")\n",
    "\n",
    "# Empty directories in case you run this cell multiple times\n",
    "if len(os.listdir(TRAINING_CATS_DIR)) > 0:\n",
    "    for file in os.scandir(TRAINING_CATS_DIR):\n",
    "        os.remove(file.path)\n",
    "\n",
    "if len(os.listdir(TRAINING_DOGS_DIR)) > 0:\n",
    "    for file in os.scandir(TRAINING_DOGS_DIR):\n",
    "        os.remove(file.path)\n",
    "\n",
    "if len(os.listdir(VALIDATION_CATS_DIR)) > 0:\n",
    "    for file in os.scandir(VALIDATION_CATS_DIR):\n",
    "        os.remove(file.path)\n",
    "\n",
    "if len(os.listdir(VALIDATION_DOGS_DIR)) > 0:\n",
    "    for file in os.scandir(VALIDATION_DOGS_DIR):\n",
    "        os.remove(file.path)\n",
    "\n",
    "# Define proportion of images used for training\n",
    "split_size = .9\n",
    "\n",
    "# Run the function\n",
    "split_data(CAT_SOURCE_DIR,TRAINING_CATS_DIR,VALIDATION_CATS_DIR,split_size)\n",
    "split_data(DOG_SOURCE_DIR,TRAINING_DOGS_DIR,VALIDATION_DOGS_DIR,split_size)\n",
    "\n",
    "# Check that the number of images matches the expected output\n",
    "print(f\"\\n\\nOriginal cat's directory has {len(os.listdir(CAT_SOURCE_DIR))} images\")\n",
    "print(f\"\\n\\nOriginal dogs's directory has {len(os.listdir(DOG_SOURCE_DIR))} images\")\n",
    "\n",
    "# Training and validation splits\n",
    "print(f\"There are {len(os.listdir(TRAINING_CATS_DIR))} images of cats for training\")\n",
    "print(f\"There are {len(os.listdir(TRAINING_DOGS_DIR))} images of dogs for training\")\n",
    "print(f\"There are {len(os.listdir(VALIDATION_CATS_DIR))} images of cats for validation\")\n",
    "print(f\"There are {len(os.listdir(VALIDATION_DOGS_DIR))} images of dogs for validation\")"
   ]
  },
  {
   "cell_type": "code",
   "execution_count": null,
   "metadata": {},
   "outputs": [],
   "source": []
  }
 ],
 "metadata": {
  "kernelspec": {
   "display_name": ".venv",
   "language": "python",
   "name": "python3"
  },
  "language_info": {
   "codemirror_mode": {
    "name": "ipython",
    "version": 3
   },
   "file_extension": ".py",
   "mimetype": "text/x-python",
   "name": "python",
   "nbconvert_exporter": "python",
   "pygments_lexer": "ipython3",
   "version": "3.11.4"
  }
 },
 "nbformat": 4,
 "nbformat_minor": 2
}

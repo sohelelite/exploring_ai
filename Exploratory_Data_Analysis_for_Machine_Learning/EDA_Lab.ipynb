{
 "cells": [
  {
   "cell_type": "markdown",
   "metadata": {},
   "source": [
    "### Exploratory Data Analysis (EDA)\n",
    "\n",
    "The dataset in this lab is Monthly average retail prices for gasoline and fuel oil, by geography . It is available through Statistics Canada and includes monthly average gasoline price (Cents per Litre), of major Canadian Cities, starting from 1979 until recent. "
   ]
  },
  {
   "cell_type": "code",
   "execution_count": 6,
   "metadata": {},
   "outputs": [],
   "source": [
    "import pandas as pd\n",
    "import plotly.express as px\n",
    "import datetime\n",
    "import requests\n",
    "import json"
   ]
  },
  {
   "cell_type": "code",
   "execution_count": 7,
   "metadata": {},
   "outputs": [
    {
     "data": {
      "text/html": [
       "<div>\n",
       "<style scoped>\n",
       "    .dataframe tbody tr th:only-of-type {\n",
       "        vertical-align: middle;\n",
       "    }\n",
       "\n",
       "    .dataframe tbody tr th {\n",
       "        vertical-align: top;\n",
       "    }\n",
       "\n",
       "    .dataframe thead th {\n",
       "        text-align: right;\n",
       "    }\n",
       "</style>\n",
       "<table border=\"1\" class=\"dataframe\">\n",
       "  <thead>\n",
       "    <tr style=\"text-align: right;\">\n",
       "      <th></th>\n",
       "      <th>REF_DATE</th>\n",
       "      <th>GEO</th>\n",
       "      <th>DGUID</th>\n",
       "      <th>Type of fuel</th>\n",
       "      <th>UOM</th>\n",
       "      <th>UOM_ID</th>\n",
       "      <th>SCALAR_FACTOR</th>\n",
       "      <th>SCALAR_ID</th>\n",
       "      <th>VECTOR</th>\n",
       "      <th>COORDINATE</th>\n",
       "      <th>VALUE</th>\n",
       "      <th>STATUS</th>\n",
       "      <th>SYMBOL</th>\n",
       "      <th>TERMINATED</th>\n",
       "      <th>DECIMALS</th>\n",
       "    </tr>\n",
       "  </thead>\n",
       "  <tbody>\n",
       "    <tr>\n",
       "      <th>0</th>\n",
       "      <td>Jan-79</td>\n",
       "      <td>St. John's, Newfoundland and Labrador</td>\n",
       "      <td>2011S0503001</td>\n",
       "      <td>Regular unleaded gasoline at full service fill...</td>\n",
       "      <td>Cents per litre</td>\n",
       "      <td>57</td>\n",
       "      <td>units</td>\n",
       "      <td>0</td>\n",
       "      <td>v735046</td>\n",
       "      <td>2.1</td>\n",
       "      <td>26.0</td>\n",
       "      <td>NaN</td>\n",
       "      <td>NaN</td>\n",
       "      <td>t</td>\n",
       "      <td>1</td>\n",
       "    </tr>\n",
       "    <tr>\n",
       "      <th>1</th>\n",
       "      <td>Jan-79</td>\n",
       "      <td>Charlottetown and Summerside, Prince Edward Is...</td>\n",
       "      <td>NaN</td>\n",
       "      <td>Regular unleaded gasoline at full service fill...</td>\n",
       "      <td>Cents per litre</td>\n",
       "      <td>57</td>\n",
       "      <td>units</td>\n",
       "      <td>0</td>\n",
       "      <td>v735056</td>\n",
       "      <td>3.1</td>\n",
       "      <td>24.6</td>\n",
       "      <td>NaN</td>\n",
       "      <td>NaN</td>\n",
       "      <td>t</td>\n",
       "      <td>1</td>\n",
       "    </tr>\n",
       "    <tr>\n",
       "      <th>2</th>\n",
       "      <td>Jan-79</td>\n",
       "      <td>Halifax, Nova Scotia</td>\n",
       "      <td>2011S0503205</td>\n",
       "      <td>Regular unleaded gasoline at full service fill...</td>\n",
       "      <td>Cents per litre</td>\n",
       "      <td>57</td>\n",
       "      <td>units</td>\n",
       "      <td>0</td>\n",
       "      <td>v735057</td>\n",
       "      <td>4.1</td>\n",
       "      <td>23.4</td>\n",
       "      <td>NaN</td>\n",
       "      <td>NaN</td>\n",
       "      <td>t</td>\n",
       "      <td>1</td>\n",
       "    </tr>\n",
       "    <tr>\n",
       "      <th>3</th>\n",
       "      <td>Jan-79</td>\n",
       "      <td>Saint John, New Brunswick</td>\n",
       "      <td>2011S0503310</td>\n",
       "      <td>Regular unleaded gasoline at full service fill...</td>\n",
       "      <td>Cents per litre</td>\n",
       "      <td>57</td>\n",
       "      <td>units</td>\n",
       "      <td>0</td>\n",
       "      <td>v735058</td>\n",
       "      <td>5.1</td>\n",
       "      <td>23.2</td>\n",
       "      <td>NaN</td>\n",
       "      <td>NaN</td>\n",
       "      <td>t</td>\n",
       "      <td>1</td>\n",
       "    </tr>\n",
       "    <tr>\n",
       "      <th>4</th>\n",
       "      <td>Jan-79</td>\n",
       "      <td>Québec, Quebec</td>\n",
       "      <td>2011S0503421</td>\n",
       "      <td>Regular unleaded gasoline at full service fill...</td>\n",
       "      <td>Cents per litre</td>\n",
       "      <td>57</td>\n",
       "      <td>units</td>\n",
       "      <td>0</td>\n",
       "      <td>v735059</td>\n",
       "      <td>6.1</td>\n",
       "      <td>22.6</td>\n",
       "      <td>NaN</td>\n",
       "      <td>NaN</td>\n",
       "      <td>t</td>\n",
       "      <td>1</td>\n",
       "    </tr>\n",
       "  </tbody>\n",
       "</table>\n",
       "</div>"
      ],
      "text/plain": [
       "  REF_DATE                                                GEO         DGUID  \\\n",
       "0   Jan-79              St. John's, Newfoundland and Labrador  2011S0503001   \n",
       "1   Jan-79  Charlottetown and Summerside, Prince Edward Is...           NaN   \n",
       "2   Jan-79                               Halifax, Nova Scotia  2011S0503205   \n",
       "3   Jan-79                          Saint John, New Brunswick  2011S0503310   \n",
       "4   Jan-79                                     Québec, Quebec  2011S0503421   \n",
       "\n",
       "                                        Type of fuel              UOM  UOM_ID  \\\n",
       "0  Regular unleaded gasoline at full service fill...  Cents per litre      57   \n",
       "1  Regular unleaded gasoline at full service fill...  Cents per litre      57   \n",
       "2  Regular unleaded gasoline at full service fill...  Cents per litre      57   \n",
       "3  Regular unleaded gasoline at full service fill...  Cents per litre      57   \n",
       "4  Regular unleaded gasoline at full service fill...  Cents per litre      57   \n",
       "\n",
       "  SCALAR_FACTOR  SCALAR_ID   VECTOR  COORDINATE  VALUE  STATUS  SYMBOL  \\\n",
       "0        units           0  v735046         2.1   26.0     NaN     NaN   \n",
       "1        units           0  v735056         3.1   24.6     NaN     NaN   \n",
       "2        units           0  v735057         4.1   23.4     NaN     NaN   \n",
       "3        units           0  v735058         5.1   23.2     NaN     NaN   \n",
       "4        units           0  v735059         6.1   22.6     NaN     NaN   \n",
       "\n",
       "  TERMINATED  DECIMALS  \n",
       "0          t         1  \n",
       "1          t         1  \n",
       "2          t         1  \n",
       "3          t         1  \n",
       "4          t         1  "
      ]
     },
     "execution_count": 7,
     "metadata": {},
     "output_type": "execute_result"
    }
   ],
   "source": [
    "gasoline = pd.read_csv(\"../data/gasoline_canada.csv\")\n",
    "gasoline.head()"
   ]
  },
  {
   "cell_type": "code",
   "execution_count": 8,
   "metadata": {},
   "outputs": [
    {
     "data": {
      "text/plain": [
       "(41942, 15)"
      ]
     },
     "execution_count": 8,
     "metadata": {},
     "output_type": "execute_result"
    }
   ],
   "source": [
    "gasoline.shape"
   ]
  },
  {
   "cell_type": "code",
   "execution_count": 9,
   "metadata": {},
   "outputs": [
    {
     "data": {
      "text/plain": [
       "<bound method DataFrame.info of       REF_DATE                                                GEO  \\\n",
       "0       Jan-79              St. John's, Newfoundland and Labrador   \n",
       "1       Jan-79  Charlottetown and Summerside, Prince Edward Is...   \n",
       "2       Jan-79                               Halifax, Nova Scotia   \n",
       "3       Jan-79                          Saint John, New Brunswick   \n",
       "4       Jan-79                                     Québec, Quebec   \n",
       "...        ...                                                ...   \n",
       "41937   Oct-21                                  Whitehorse, Yukon   \n",
       "41938   Oct-21                 Yellowknife, Northwest Territories   \n",
       "41939   Oct-21                 Yellowknife, Northwest Territories   \n",
       "41940   Oct-21                 Yellowknife, Northwest Territories   \n",
       "41941   Oct-21                 Yellowknife, Northwest Territories   \n",
       "\n",
       "                  DGUID                                       Type of fuel  \\\n",
       "0          2011S0503001  Regular unleaded gasoline at full service fill...   \n",
       "1                   NaN  Regular unleaded gasoline at full service fill...   \n",
       "2          2011S0503205  Regular unleaded gasoline at full service fill...   \n",
       "3          2011S0503310  Regular unleaded gasoline at full service fill...   \n",
       "4          2011S0503421  Regular unleaded gasoline at full service fill...   \n",
       "...                 ...                                                ...   \n",
       "41937  2011A00056001009                             Household heating fuel   \n",
       "41938  2011A00056106023  Regular unleaded gasoline at self service fill...   \n",
       "41939  2011A00056106023  Premium unleaded gasoline at self service fill...   \n",
       "41940  2011A00056106023       Diesel fuel at self service filling stations   \n",
       "41941  2011A00056106023                             Household heating fuel   \n",
       "\n",
       "                   UOM  UOM_ID SCALAR_FACTOR  SCALAR_ID   VECTOR  COORDINATE  \\\n",
       "0      Cents per litre      57        units           0  v735046         2.1   \n",
       "1      Cents per litre      57        units           0  v735056         3.1   \n",
       "2      Cents per litre      57        units           0  v735057         4.1   \n",
       "3      Cents per litre      57        units           0  v735058         5.1   \n",
       "4      Cents per litre      57        units           0  v735059         6.1   \n",
       "...                ...     ...           ...        ...      ...         ...   \n",
       "41937  Cents per litre      57         units          0  v735155        18.7   \n",
       "41938  Cents per litre      57         units          0  v735091        19.2   \n",
       "41939  Cents per litre      57         units          0  v735109        19.4   \n",
       "41940  Cents per litre      57         units          0  v735143        19.6   \n",
       "41941  Cents per litre      57         units          0  v735156        19.7   \n",
       "\n",
       "       VALUE  STATUS  SYMBOL TERMINATED  DECIMALS  \n",
       "0       26.0     NaN     NaN          t         1  \n",
       "1       24.6     NaN     NaN          t         1  \n",
       "2       23.4     NaN     NaN          t         1  \n",
       "3       23.2     NaN     NaN          t         1  \n",
       "4       22.6     NaN     NaN          t         1  \n",
       "...      ...     ...     ...        ...       ...  \n",
       "41937  140.6     NaN     NaN        NaN         1  \n",
       "41938  150.6     NaN     NaN        NaN         1  \n",
       "41939  166.1     NaN     NaN        NaN         1  \n",
       "41940  149.8     NaN     NaN        NaN         1  \n",
       "41941  130.7     NaN     NaN        NaN         1  \n",
       "\n",
       "[41942 rows x 15 columns]>"
      ]
     },
     "execution_count": 9,
     "metadata": {},
     "output_type": "execute_result"
    }
   ],
   "source": [
    "gasoline.info"
   ]
  },
  {
   "cell_type": "code",
   "execution_count": 10,
   "metadata": {},
   "outputs": [
    {
     "data": {
      "text/plain": [
       "Index(['REF_DATE', 'GEO', 'DGUID', 'Type of fuel', 'UOM', 'UOM_ID',\n",
       "       'SCALAR_FACTOR', 'SCALAR_ID', 'VECTOR', 'COORDINATE', 'VALUE', 'STATUS',\n",
       "       'SYMBOL', 'TERMINATED', 'DECIMALS'],\n",
       "      dtype='object')"
      ]
     },
     "execution_count": 10,
     "metadata": {},
     "output_type": "execute_result"
    }
   ],
   "source": [
    "gasoline.columns"
   ]
  },
  {
   "cell_type": "code",
   "execution_count": 11,
   "metadata": {},
   "outputs": [
    {
     "data": {
      "text/plain": [
       "REF_DATE             0\n",
       "GEO                  0\n",
       "DGUID             2491\n",
       "Type of fuel         0\n",
       "UOM                  0\n",
       "UOM_ID               0\n",
       "SCALAR_FACTOR        0\n",
       "SCALAR_ID            0\n",
       "VECTOR               0\n",
       "COORDINATE           0\n",
       "VALUE                0\n",
       "STATUS           41942\n",
       "SYMBOL           41942\n",
       "TERMINATED       25378\n",
       "DECIMALS             0\n",
       "dtype: int64"
      ]
     },
     "execution_count": 11,
     "metadata": {},
     "output_type": "execute_result"
    }
   ],
   "source": [
    "gasoline.isnull().sum()"
   ]
  },
  {
   "cell_type": "code",
   "execution_count": 12,
   "metadata": {},
   "outputs": [
    {
     "data": {
      "text/html": [
       "<div>\n",
       "<style scoped>\n",
       "    .dataframe tbody tr th:only-of-type {\n",
       "        vertical-align: middle;\n",
       "    }\n",
       "\n",
       "    .dataframe tbody tr th {\n",
       "        vertical-align: top;\n",
       "    }\n",
       "\n",
       "    .dataframe thead th {\n",
       "        text-align: right;\n",
       "    }\n",
       "</style>\n",
       "<table border=\"1\" class=\"dataframe\">\n",
       "  <thead>\n",
       "    <tr style=\"text-align: right;\">\n",
       "      <th></th>\n",
       "      <th>DATE</th>\n",
       "      <th>GEO</th>\n",
       "      <th>TYPE</th>\n",
       "      <th>VALUE</th>\n",
       "    </tr>\n",
       "  </thead>\n",
       "  <tbody>\n",
       "    <tr>\n",
       "      <th>0</th>\n",
       "      <td>Jan-79</td>\n",
       "      <td>St. John's, Newfoundland and Labrador</td>\n",
       "      <td>Regular unleaded gasoline at full service fill...</td>\n",
       "      <td>26.0</td>\n",
       "    </tr>\n",
       "    <tr>\n",
       "      <th>1</th>\n",
       "      <td>Jan-79</td>\n",
       "      <td>Charlottetown and Summerside, Prince Edward Is...</td>\n",
       "      <td>Regular unleaded gasoline at full service fill...</td>\n",
       "      <td>24.6</td>\n",
       "    </tr>\n",
       "    <tr>\n",
       "      <th>2</th>\n",
       "      <td>Jan-79</td>\n",
       "      <td>Halifax, Nova Scotia</td>\n",
       "      <td>Regular unleaded gasoline at full service fill...</td>\n",
       "      <td>23.4</td>\n",
       "    </tr>\n",
       "    <tr>\n",
       "      <th>3</th>\n",
       "      <td>Jan-79</td>\n",
       "      <td>Saint John, New Brunswick</td>\n",
       "      <td>Regular unleaded gasoline at full service fill...</td>\n",
       "      <td>23.2</td>\n",
       "    </tr>\n",
       "    <tr>\n",
       "      <th>4</th>\n",
       "      <td>Jan-79</td>\n",
       "      <td>Québec, Quebec</td>\n",
       "      <td>Regular unleaded gasoline at full service fill...</td>\n",
       "      <td>22.6</td>\n",
       "    </tr>\n",
       "  </tbody>\n",
       "</table>\n",
       "</div>"
      ],
      "text/plain": [
       "     DATE                                                GEO  \\\n",
       "0  Jan-79              St. John's, Newfoundland and Labrador   \n",
       "1  Jan-79  Charlottetown and Summerside, Prince Edward Is...   \n",
       "2  Jan-79                               Halifax, Nova Scotia   \n",
       "3  Jan-79                          Saint John, New Brunswick   \n",
       "4  Jan-79                                     Québec, Quebec   \n",
       "\n",
       "                                                TYPE  VALUE  \n",
       "0  Regular unleaded gasoline at full service fill...   26.0  \n",
       "1  Regular unleaded gasoline at full service fill...   24.6  \n",
       "2  Regular unleaded gasoline at full service fill...   23.4  \n",
       "3  Regular unleaded gasoline at full service fill...   23.2  \n",
       "4  Regular unleaded gasoline at full service fill...   22.6  "
      ]
     },
     "execution_count": 12,
     "metadata": {},
     "output_type": "execute_result"
    }
   ],
   "source": [
    "data = (gasoline[['REF_DATE', 'GEO', 'Type of fuel', 'VALUE']]).rename(columns={\"REF_DATE\": \"DATE\", \"Type of fuel\" : \"TYPE\"})\n",
    "data.head()"
   ]
  },
  {
   "cell_type": "code",
   "execution_count": 13,
   "metadata": {},
   "outputs": [
    {
     "data": {
      "text/html": [
       "<div>\n",
       "<style scoped>\n",
       "    .dataframe tbody tr th:only-of-type {\n",
       "        vertical-align: middle;\n",
       "    }\n",
       "\n",
       "    .dataframe tbody tr th {\n",
       "        vertical-align: top;\n",
       "    }\n",
       "\n",
       "    .dataframe thead th {\n",
       "        text-align: right;\n",
       "    }\n",
       "</style>\n",
       "<table border=\"1\" class=\"dataframe\">\n",
       "  <thead>\n",
       "    <tr style=\"text-align: right;\">\n",
       "      <th></th>\n",
       "      <th>DATE</th>\n",
       "      <th>GEO</th>\n",
       "      <th>TYPE</th>\n",
       "      <th>VALUE</th>\n",
       "      <th>City</th>\n",
       "      <th>Province</th>\n",
       "    </tr>\n",
       "  </thead>\n",
       "  <tbody>\n",
       "    <tr>\n",
       "      <th>0</th>\n",
       "      <td>Jan-79</td>\n",
       "      <td>St. John's, Newfoundland and Labrador</td>\n",
       "      <td>Regular unleaded gasoline at full service fill...</td>\n",
       "      <td>26.0</td>\n",
       "      <td>St. John's</td>\n",
       "      <td>Newfoundland and Labrador</td>\n",
       "    </tr>\n",
       "    <tr>\n",
       "      <th>1</th>\n",
       "      <td>Jan-79</td>\n",
       "      <td>Charlottetown and Summerside, Prince Edward Is...</td>\n",
       "      <td>Regular unleaded gasoline at full service fill...</td>\n",
       "      <td>24.6</td>\n",
       "      <td>Charlottetown and Summerside</td>\n",
       "      <td>Prince Edward Island</td>\n",
       "    </tr>\n",
       "    <tr>\n",
       "      <th>2</th>\n",
       "      <td>Jan-79</td>\n",
       "      <td>Halifax, Nova Scotia</td>\n",
       "      <td>Regular unleaded gasoline at full service fill...</td>\n",
       "      <td>23.4</td>\n",
       "      <td>Halifax</td>\n",
       "      <td>Nova Scotia</td>\n",
       "    </tr>\n",
       "    <tr>\n",
       "      <th>3</th>\n",
       "      <td>Jan-79</td>\n",
       "      <td>Saint John, New Brunswick</td>\n",
       "      <td>Regular unleaded gasoline at full service fill...</td>\n",
       "      <td>23.2</td>\n",
       "      <td>Saint John</td>\n",
       "      <td>New Brunswick</td>\n",
       "    </tr>\n",
       "    <tr>\n",
       "      <th>4</th>\n",
       "      <td>Jan-79</td>\n",
       "      <td>Québec, Quebec</td>\n",
       "      <td>Regular unleaded gasoline at full service fill...</td>\n",
       "      <td>22.6</td>\n",
       "      <td>Québec</td>\n",
       "      <td>Quebec</td>\n",
       "    </tr>\n",
       "  </tbody>\n",
       "</table>\n",
       "</div>"
      ],
      "text/plain": [
       "     DATE                                                GEO  \\\n",
       "0  Jan-79              St. John's, Newfoundland and Labrador   \n",
       "1  Jan-79  Charlottetown and Summerside, Prince Edward Is...   \n",
       "2  Jan-79                               Halifax, Nova Scotia   \n",
       "3  Jan-79                          Saint John, New Brunswick   \n",
       "4  Jan-79                                     Québec, Quebec   \n",
       "\n",
       "                                                TYPE  VALUE  \\\n",
       "0  Regular unleaded gasoline at full service fill...   26.0   \n",
       "1  Regular unleaded gasoline at full service fill...   24.6   \n",
       "2  Regular unleaded gasoline at full service fill...   23.4   \n",
       "3  Regular unleaded gasoline at full service fill...   23.2   \n",
       "4  Regular unleaded gasoline at full service fill...   22.6   \n",
       "\n",
       "                           City                    Province  \n",
       "0                    St. John's   Newfoundland and Labrador  \n",
       "1  Charlottetown and Summerside        Prince Edward Island  \n",
       "2                       Halifax                 Nova Scotia  \n",
       "3                    Saint John               New Brunswick  \n",
       "4                        Québec                      Quebec  "
      ]
     },
     "execution_count": 13,
     "metadata": {},
     "output_type": "execute_result"
    }
   ],
   "source": [
    "data[['City', 'Province']] = data['GEO'].str.split(',', n=1, expand=True)\n",
    "data.head()"
   ]
  },
  {
   "cell_type": "code",
   "execution_count": 14,
   "metadata": {},
   "outputs": [
    {
     "data": {
      "text/html": [
       "<div>\n",
       "<style scoped>\n",
       "    .dataframe tbody tr th:only-of-type {\n",
       "        vertical-align: middle;\n",
       "    }\n",
       "\n",
       "    .dataframe tbody tr th {\n",
       "        vertical-align: top;\n",
       "    }\n",
       "\n",
       "    .dataframe thead th {\n",
       "        text-align: right;\n",
       "    }\n",
       "</style>\n",
       "<table border=\"1\" class=\"dataframe\">\n",
       "  <thead>\n",
       "    <tr style=\"text-align: right;\">\n",
       "      <th></th>\n",
       "      <th>DATE</th>\n",
       "      <th>GEO</th>\n",
       "      <th>TYPE</th>\n",
       "      <th>VALUE</th>\n",
       "      <th>City</th>\n",
       "      <th>Province</th>\n",
       "      <th>Month</th>\n",
       "      <th>Year</th>\n",
       "    </tr>\n",
       "  </thead>\n",
       "  <tbody>\n",
       "    <tr>\n",
       "      <th>0</th>\n",
       "      <td>1979-01-01</td>\n",
       "      <td>St. John's, Newfoundland and Labrador</td>\n",
       "      <td>Regular unleaded gasoline at full service fill...</td>\n",
       "      <td>26.0</td>\n",
       "      <td>St. John's</td>\n",
       "      <td>Newfoundland and Labrador</td>\n",
       "      <td>Jan</td>\n",
       "      <td>1979</td>\n",
       "    </tr>\n",
       "    <tr>\n",
       "      <th>1</th>\n",
       "      <td>1979-01-01</td>\n",
       "      <td>Charlottetown and Summerside, Prince Edward Is...</td>\n",
       "      <td>Regular unleaded gasoline at full service fill...</td>\n",
       "      <td>24.6</td>\n",
       "      <td>Charlottetown and Summerside</td>\n",
       "      <td>Prince Edward Island</td>\n",
       "      <td>Jan</td>\n",
       "      <td>1979</td>\n",
       "    </tr>\n",
       "    <tr>\n",
       "      <th>2</th>\n",
       "      <td>1979-01-01</td>\n",
       "      <td>Halifax, Nova Scotia</td>\n",
       "      <td>Regular unleaded gasoline at full service fill...</td>\n",
       "      <td>23.4</td>\n",
       "      <td>Halifax</td>\n",
       "      <td>Nova Scotia</td>\n",
       "      <td>Jan</td>\n",
       "      <td>1979</td>\n",
       "    </tr>\n",
       "    <tr>\n",
       "      <th>3</th>\n",
       "      <td>1979-01-01</td>\n",
       "      <td>Saint John, New Brunswick</td>\n",
       "      <td>Regular unleaded gasoline at full service fill...</td>\n",
       "      <td>23.2</td>\n",
       "      <td>Saint John</td>\n",
       "      <td>New Brunswick</td>\n",
       "      <td>Jan</td>\n",
       "      <td>1979</td>\n",
       "    </tr>\n",
       "    <tr>\n",
       "      <th>4</th>\n",
       "      <td>1979-01-01</td>\n",
       "      <td>Québec, Quebec</td>\n",
       "      <td>Regular unleaded gasoline at full service fill...</td>\n",
       "      <td>22.6</td>\n",
       "      <td>Québec</td>\n",
       "      <td>Quebec</td>\n",
       "      <td>Jan</td>\n",
       "      <td>1979</td>\n",
       "    </tr>\n",
       "  </tbody>\n",
       "</table>\n",
       "</div>"
      ],
      "text/plain": [
       "        DATE                                                GEO  \\\n",
       "0 1979-01-01              St. John's, Newfoundland and Labrador   \n",
       "1 1979-01-01  Charlottetown and Summerside, Prince Edward Is...   \n",
       "2 1979-01-01                               Halifax, Nova Scotia   \n",
       "3 1979-01-01                          Saint John, New Brunswick   \n",
       "4 1979-01-01                                     Québec, Quebec   \n",
       "\n",
       "                                                TYPE  VALUE  \\\n",
       "0  Regular unleaded gasoline at full service fill...   26.0   \n",
       "1  Regular unleaded gasoline at full service fill...   24.6   \n",
       "2  Regular unleaded gasoline at full service fill...   23.4   \n",
       "3  Regular unleaded gasoline at full service fill...   23.2   \n",
       "4  Regular unleaded gasoline at full service fill...   22.6   \n",
       "\n",
       "                           City                    Province Month  Year  \n",
       "0                    St. John's   Newfoundland and Labrador   Jan  1979  \n",
       "1  Charlottetown and Summerside        Prince Edward Island   Jan  1979  \n",
       "2                       Halifax                 Nova Scotia   Jan  1979  \n",
       "3                    Saint John               New Brunswick   Jan  1979  \n",
       "4                        Québec                      Quebec   Jan  1979  "
      ]
     },
     "execution_count": 14,
     "metadata": {},
     "output_type": "execute_result"
    }
   ],
   "source": [
    "data['DATE'] = pd.to_datetime(data['DATE'], format='%b-%y')\n",
    "data['Month'] = data['DATE'].dt.month_name().str.slice(stop=3)\n",
    "data['Year'] = data['DATE'].dt.year\n",
    "data.head()"
   ]
  },
  {
   "cell_type": "code",
   "execution_count": 15,
   "metadata": {},
   "outputs": [
    {
     "data": {
      "text/plain": [
       "count    41942.000000\n",
       "mean        84.784858\n",
       "std         31.492697\n",
       "min         18.300000\n",
       "25%         58.200000\n",
       "50%         79.200000\n",
       "75%        110.900000\n",
       "max        191.600000\n",
       "Name: VALUE, dtype: float64"
      ]
     },
     "execution_count": 15,
     "metadata": {},
     "output_type": "execute_result"
    }
   ],
   "source": [
    "data.VALUE.describe()"
   ]
  },
  {
   "cell_type": "code",
   "execution_count": 16,
   "metadata": {},
   "outputs": [
    {
     "data": {
      "text/plain": [
       "[\"St. John's, Newfoundland and Labrador\",\n",
       " 'Charlottetown and Summerside, Prince Edward Island',\n",
       " 'Halifax, Nova Scotia',\n",
       " 'Saint John, New Brunswick',\n",
       " 'Québec, Quebec',\n",
       " 'Montréal, Quebec',\n",
       " 'Ottawa-Gatineau, Ontario part, Ontario/Quebec',\n",
       " 'Toronto, Ontario',\n",
       " 'Thunder Bay, Ontario',\n",
       " 'Winnipeg, Manitoba',\n",
       " 'Regina, Saskatchewan',\n",
       " 'Saskatoon, Saskatchewan',\n",
       " 'Edmonton, Alberta',\n",
       " 'Calgary, Alberta',\n",
       " 'Vancouver, British Columbia',\n",
       " 'Victoria, British Columbia',\n",
       " 'Whitehorse, Yukon',\n",
       " 'Yellowknife, Northwest Territories']"
      ]
     },
     "execution_count": 16,
     "metadata": {},
     "output_type": "execute_result"
    }
   ],
   "source": [
    "data.GEO.unique().tolist()"
   ]
  },
  {
   "cell_type": "code",
   "execution_count": 17,
   "metadata": {},
   "outputs": [
    {
     "data": {
      "text/plain": [
       "['Regular unleaded gasoline at full service filling stations',\n",
       " 'Regular unleaded gasoline at self service filling stations',\n",
       " 'Premium unleaded gasoline at full service filling stations',\n",
       " 'Premium unleaded gasoline at self service filling stations',\n",
       " 'Diesel fuel at full service filling stations',\n",
       " 'Household heating fuel',\n",
       " 'Diesel fuel at self service filling stations']"
      ]
     },
     "execution_count": 17,
     "metadata": {},
     "output_type": "execute_result"
    }
   ],
   "source": [
    "data.TYPE.unique().tolist()"
   ]
  },
  {
   "cell_type": "code",
   "execution_count": 18,
   "metadata": {},
   "outputs": [
    {
     "data": {
      "text/html": [
       "<div>\n",
       "<style scoped>\n",
       "    .dataframe tbody tr th:only-of-type {\n",
       "        vertical-align: middle;\n",
       "    }\n",
       "\n",
       "    .dataframe tbody tr th {\n",
       "        vertical-align: top;\n",
       "    }\n",
       "\n",
       "    .dataframe thead th {\n",
       "        text-align: right;\n",
       "    }\n",
       "</style>\n",
       "<table border=\"1\" class=\"dataframe\">\n",
       "  <thead>\n",
       "    <tr style=\"text-align: right;\">\n",
       "      <th></th>\n",
       "      <th>DATE</th>\n",
       "      <th>GEO</th>\n",
       "      <th>TYPE</th>\n",
       "      <th>VALUE</th>\n",
       "      <th>City</th>\n",
       "      <th>Province</th>\n",
       "      <th>Month</th>\n",
       "      <th>Year</th>\n",
       "    </tr>\n",
       "  </thead>\n",
       "  <tbody>\n",
       "    <tr>\n",
       "      <th>13</th>\n",
       "      <td>1979-01-01</td>\n",
       "      <td>Calgary, Alberta</td>\n",
       "      <td>Regular unleaded gasoline at full service fill...</td>\n",
       "      <td>18.7</td>\n",
       "      <td>Calgary</td>\n",
       "      <td>Alberta</td>\n",
       "      <td>Jan</td>\n",
       "      <td>1979</td>\n",
       "    </tr>\n",
       "    <tr>\n",
       "      <th>28</th>\n",
       "      <td>1979-02-01</td>\n",
       "      <td>Calgary, Alberta</td>\n",
       "      <td>Regular unleaded gasoline at full service fill...</td>\n",
       "      <td>18.9</td>\n",
       "      <td>Calgary</td>\n",
       "      <td>Alberta</td>\n",
       "      <td>Feb</td>\n",
       "      <td>1979</td>\n",
       "    </tr>\n",
       "    <tr>\n",
       "      <th>43</th>\n",
       "      <td>1979-03-01</td>\n",
       "      <td>Calgary, Alberta</td>\n",
       "      <td>Regular unleaded gasoline at full service fill...</td>\n",
       "      <td>18.9</td>\n",
       "      <td>Calgary</td>\n",
       "      <td>Alberta</td>\n",
       "      <td>Mar</td>\n",
       "      <td>1979</td>\n",
       "    </tr>\n",
       "    <tr>\n",
       "      <th>58</th>\n",
       "      <td>1979-04-01</td>\n",
       "      <td>Calgary, Alberta</td>\n",
       "      <td>Regular unleaded gasoline at full service fill...</td>\n",
       "      <td>19.1</td>\n",
       "      <td>Calgary</td>\n",
       "      <td>Alberta</td>\n",
       "      <td>Apr</td>\n",
       "      <td>1979</td>\n",
       "    </tr>\n",
       "    <tr>\n",
       "      <th>73</th>\n",
       "      <td>1979-05-01</td>\n",
       "      <td>Calgary, Alberta</td>\n",
       "      <td>Regular unleaded gasoline at full service fill...</td>\n",
       "      <td>19.2</td>\n",
       "      <td>Calgary</td>\n",
       "      <td>Alberta</td>\n",
       "      <td>May</td>\n",
       "      <td>1979</td>\n",
       "    </tr>\n",
       "    <tr>\n",
       "      <th>...</th>\n",
       "      <td>...</td>\n",
       "      <td>...</td>\n",
       "      <td>...</td>\n",
       "      <td>...</td>\n",
       "      <td>...</td>\n",
       "      <td>...</td>\n",
       "      <td>...</td>\n",
       "      <td>...</td>\n",
       "    </tr>\n",
       "    <tr>\n",
       "      <th>41855</th>\n",
       "      <td>2021-09-01</td>\n",
       "      <td>Calgary, Alberta</td>\n",
       "      <td>Premium unleaded gasoline at self service fill...</td>\n",
       "      <td>156.6</td>\n",
       "      <td>Calgary</td>\n",
       "      <td>Alberta</td>\n",
       "      <td>Sep</td>\n",
       "      <td>2021</td>\n",
       "    </tr>\n",
       "    <tr>\n",
       "      <th>41856</th>\n",
       "      <td>2021-09-01</td>\n",
       "      <td>Calgary, Alberta</td>\n",
       "      <td>Diesel fuel at self service filling stations</td>\n",
       "      <td>125.1</td>\n",
       "      <td>Calgary</td>\n",
       "      <td>Alberta</td>\n",
       "      <td>Sep</td>\n",
       "      <td>2021</td>\n",
       "    </tr>\n",
       "    <tr>\n",
       "      <th>41923</th>\n",
       "      <td>2021-10-01</td>\n",
       "      <td>Calgary, Alberta</td>\n",
       "      <td>Regular unleaded gasoline at self service fill...</td>\n",
       "      <td>140.8</td>\n",
       "      <td>Calgary</td>\n",
       "      <td>Alberta</td>\n",
       "      <td>Oct</td>\n",
       "      <td>2021</td>\n",
       "    </tr>\n",
       "    <tr>\n",
       "      <th>41924</th>\n",
       "      <td>2021-10-01</td>\n",
       "      <td>Calgary, Alberta</td>\n",
       "      <td>Premium unleaded gasoline at self service fill...</td>\n",
       "      <td>164.4</td>\n",
       "      <td>Calgary</td>\n",
       "      <td>Alberta</td>\n",
       "      <td>Oct</td>\n",
       "      <td>2021</td>\n",
       "    </tr>\n",
       "    <tr>\n",
       "      <th>41925</th>\n",
       "      <td>2021-10-01</td>\n",
       "      <td>Calgary, Alberta</td>\n",
       "      <td>Diesel fuel at self service filling stations</td>\n",
       "      <td>138.3</td>\n",
       "      <td>Calgary</td>\n",
       "      <td>Alberta</td>\n",
       "      <td>Oct</td>\n",
       "      <td>2021</td>\n",
       "    </tr>\n",
       "  </tbody>\n",
       "</table>\n",
       "<p>2109 rows × 8 columns</p>\n",
       "</div>"
      ],
      "text/plain": [
       "            DATE               GEO  \\\n",
       "13    1979-01-01  Calgary, Alberta   \n",
       "28    1979-02-01  Calgary, Alberta   \n",
       "43    1979-03-01  Calgary, Alberta   \n",
       "58    1979-04-01  Calgary, Alberta   \n",
       "73    1979-05-01  Calgary, Alberta   \n",
       "...          ...               ...   \n",
       "41855 2021-09-01  Calgary, Alberta   \n",
       "41856 2021-09-01  Calgary, Alberta   \n",
       "41923 2021-10-01  Calgary, Alberta   \n",
       "41924 2021-10-01  Calgary, Alberta   \n",
       "41925 2021-10-01  Calgary, Alberta   \n",
       "\n",
       "                                                    TYPE  VALUE     City  \\\n",
       "13     Regular unleaded gasoline at full service fill...   18.7  Calgary   \n",
       "28     Regular unleaded gasoline at full service fill...   18.9  Calgary   \n",
       "43     Regular unleaded gasoline at full service fill...   18.9  Calgary   \n",
       "58     Regular unleaded gasoline at full service fill...   19.1  Calgary   \n",
       "73     Regular unleaded gasoline at full service fill...   19.2  Calgary   \n",
       "...                                                  ...    ...      ...   \n",
       "41855  Premium unleaded gasoline at self service fill...  156.6  Calgary   \n",
       "41856       Diesel fuel at self service filling stations  125.1  Calgary   \n",
       "41923  Regular unleaded gasoline at self service fill...  140.8  Calgary   \n",
       "41924  Premium unleaded gasoline at self service fill...  164.4  Calgary   \n",
       "41925       Diesel fuel at self service filling stations  138.3  Calgary   \n",
       "\n",
       "       Province Month  Year  \n",
       "13      Alberta   Jan  1979  \n",
       "28      Alberta   Feb  1979  \n",
       "43      Alberta   Mar  1979  \n",
       "58      Alberta   Apr  1979  \n",
       "73      Alberta   May  1979  \n",
       "...         ...   ...   ...  \n",
       "41855   Alberta   Sep  2021  \n",
       "41856   Alberta   Sep  2021  \n",
       "41923   Alberta   Oct  2021  \n",
       "41924   Alberta   Oct  2021  \n",
       "41925   Alberta   Oct  2021  \n",
       "\n",
       "[2109 rows x 8 columns]"
      ]
     },
     "execution_count": 18,
     "metadata": {},
     "output_type": "execute_result"
    }
   ],
   "source": [
    "calgary = data[data['GEO'] == 'Calgary, Alberta']\n",
    "calgary"
   ]
  },
  {
   "cell_type": "code",
   "execution_count": 19,
   "metadata": {},
   "outputs": [
    {
     "data": {
      "text/html": [
       "<div>\n",
       "<style scoped>\n",
       "    .dataframe tbody tr th:only-of-type {\n",
       "        vertical-align: middle;\n",
       "    }\n",
       "\n",
       "    .dataframe tbody tr th {\n",
       "        vertical-align: top;\n",
       "    }\n",
       "\n",
       "    .dataframe thead th {\n",
       "        text-align: right;\n",
       "    }\n",
       "</style>\n",
       "<table border=\"1\" class=\"dataframe\">\n",
       "  <thead>\n",
       "    <tr style=\"text-align: right;\">\n",
       "      <th></th>\n",
       "      <th>DATE</th>\n",
       "      <th>GEO</th>\n",
       "      <th>TYPE</th>\n",
       "      <th>VALUE</th>\n",
       "      <th>City</th>\n",
       "      <th>Province</th>\n",
       "      <th>Month</th>\n",
       "      <th>Year</th>\n",
       "    </tr>\n",
       "  </thead>\n",
       "  <tbody>\n",
       "    <tr>\n",
       "      <th>16168</th>\n",
       "      <td>2000-01-01</td>\n",
       "      <td>St. John's, Newfoundland and Labrador</td>\n",
       "      <td>Regular unleaded gasoline at full service fill...</td>\n",
       "      <td>78.0</td>\n",
       "      <td>St. John's</td>\n",
       "      <td>Newfoundland and Labrador</td>\n",
       "      <td>Jan</td>\n",
       "      <td>2000</td>\n",
       "    </tr>\n",
       "    <tr>\n",
       "      <th>16169</th>\n",
       "      <td>2000-01-01</td>\n",
       "      <td>St. John's, Newfoundland and Labrador</td>\n",
       "      <td>Regular unleaded gasoline at self service fill...</td>\n",
       "      <td>74.9</td>\n",
       "      <td>St. John's</td>\n",
       "      <td>Newfoundland and Labrador</td>\n",
       "      <td>Jan</td>\n",
       "      <td>2000</td>\n",
       "    </tr>\n",
       "    <tr>\n",
       "      <th>16170</th>\n",
       "      <td>2000-01-01</td>\n",
       "      <td>St. John's, Newfoundland and Labrador</td>\n",
       "      <td>Premium unleaded gasoline at full service fill...</td>\n",
       "      <td>84.5</td>\n",
       "      <td>St. John's</td>\n",
       "      <td>Newfoundland and Labrador</td>\n",
       "      <td>Jan</td>\n",
       "      <td>2000</td>\n",
       "    </tr>\n",
       "    <tr>\n",
       "      <th>16171</th>\n",
       "      <td>2000-01-01</td>\n",
       "      <td>St. John's, Newfoundland and Labrador</td>\n",
       "      <td>Premium unleaded gasoline at self service fill...</td>\n",
       "      <td>81.3</td>\n",
       "      <td>St. John's</td>\n",
       "      <td>Newfoundland and Labrador</td>\n",
       "      <td>Jan</td>\n",
       "      <td>2000</td>\n",
       "    </tr>\n",
       "    <tr>\n",
       "      <th>16172</th>\n",
       "      <td>2000-01-01</td>\n",
       "      <td>St. John's, Newfoundland and Labrador</td>\n",
       "      <td>Diesel fuel at full service filling stations</td>\n",
       "      <td>69.2</td>\n",
       "      <td>St. John's</td>\n",
       "      <td>Newfoundland and Labrador</td>\n",
       "      <td>Jan</td>\n",
       "      <td>2000</td>\n",
       "    </tr>\n",
       "    <tr>\n",
       "      <th>...</th>\n",
       "      <td>...</td>\n",
       "      <td>...</td>\n",
       "      <td>...</td>\n",
       "      <td>...</td>\n",
       "      <td>...</td>\n",
       "      <td>...</td>\n",
       "      <td>...</td>\n",
       "      <td>...</td>\n",
       "    </tr>\n",
       "    <tr>\n",
       "      <th>17579</th>\n",
       "      <td>2000-12-01</td>\n",
       "      <td>Yellowknife, Northwest Territories</td>\n",
       "      <td>Premium unleaded gasoline at full service fill...</td>\n",
       "      <td>92.6</td>\n",
       "      <td>Yellowknife</td>\n",
       "      <td>Northwest Territories</td>\n",
       "      <td>Dec</td>\n",
       "      <td>2000</td>\n",
       "    </tr>\n",
       "    <tr>\n",
       "      <th>17580</th>\n",
       "      <td>2000-12-01</td>\n",
       "      <td>Yellowknife, Northwest Territories</td>\n",
       "      <td>Premium unleaded gasoline at self service fill...</td>\n",
       "      <td>95.4</td>\n",
       "      <td>Yellowknife</td>\n",
       "      <td>Northwest Territories</td>\n",
       "      <td>Dec</td>\n",
       "      <td>2000</td>\n",
       "    </tr>\n",
       "    <tr>\n",
       "      <th>17581</th>\n",
       "      <td>2000-12-01</td>\n",
       "      <td>Yellowknife, Northwest Territories</td>\n",
       "      <td>Diesel fuel at full service filling stations</td>\n",
       "      <td>81.9</td>\n",
       "      <td>Yellowknife</td>\n",
       "      <td>Northwest Territories</td>\n",
       "      <td>Dec</td>\n",
       "      <td>2000</td>\n",
       "    </tr>\n",
       "    <tr>\n",
       "      <th>17582</th>\n",
       "      <td>2000-12-01</td>\n",
       "      <td>Yellowknife, Northwest Territories</td>\n",
       "      <td>Diesel fuel at self service filling stations</td>\n",
       "      <td>78.9</td>\n",
       "      <td>Yellowknife</td>\n",
       "      <td>Northwest Territories</td>\n",
       "      <td>Dec</td>\n",
       "      <td>2000</td>\n",
       "    </tr>\n",
       "    <tr>\n",
       "      <th>17583</th>\n",
       "      <td>2000-12-01</td>\n",
       "      <td>Yellowknife, Northwest Territories</td>\n",
       "      <td>Household heating fuel</td>\n",
       "      <td>58.8</td>\n",
       "      <td>Yellowknife</td>\n",
       "      <td>Northwest Territories</td>\n",
       "      <td>Dec</td>\n",
       "      <td>2000</td>\n",
       "    </tr>\n",
       "  </tbody>\n",
       "</table>\n",
       "<p>1416 rows × 8 columns</p>\n",
       "</div>"
      ],
      "text/plain": [
       "            DATE                                    GEO  \\\n",
       "16168 2000-01-01  St. John's, Newfoundland and Labrador   \n",
       "16169 2000-01-01  St. John's, Newfoundland and Labrador   \n",
       "16170 2000-01-01  St. John's, Newfoundland and Labrador   \n",
       "16171 2000-01-01  St. John's, Newfoundland and Labrador   \n",
       "16172 2000-01-01  St. John's, Newfoundland and Labrador   \n",
       "...          ...                                    ...   \n",
       "17579 2000-12-01     Yellowknife, Northwest Territories   \n",
       "17580 2000-12-01     Yellowknife, Northwest Territories   \n",
       "17581 2000-12-01     Yellowknife, Northwest Territories   \n",
       "17582 2000-12-01     Yellowknife, Northwest Territories   \n",
       "17583 2000-12-01     Yellowknife, Northwest Territories   \n",
       "\n",
       "                                                    TYPE  VALUE         City  \\\n",
       "16168  Regular unleaded gasoline at full service fill...   78.0   St. John's   \n",
       "16169  Regular unleaded gasoline at self service fill...   74.9   St. John's   \n",
       "16170  Premium unleaded gasoline at full service fill...   84.5   St. John's   \n",
       "16171  Premium unleaded gasoline at self service fill...   81.3   St. John's   \n",
       "16172       Diesel fuel at full service filling stations   69.2   St. John's   \n",
       "...                                                  ...    ...          ...   \n",
       "17579  Premium unleaded gasoline at full service fill...   92.6  Yellowknife   \n",
       "17580  Premium unleaded gasoline at self service fill...   95.4  Yellowknife   \n",
       "17581       Diesel fuel at full service filling stations   81.9  Yellowknife   \n",
       "17582       Diesel fuel at self service filling stations   78.9  Yellowknife   \n",
       "17583                             Household heating fuel   58.8  Yellowknife   \n",
       "\n",
       "                         Province Month  Year  \n",
       "16168   Newfoundland and Labrador   Jan  2000  \n",
       "16169   Newfoundland and Labrador   Jan  2000  \n",
       "16170   Newfoundland and Labrador   Jan  2000  \n",
       "16171   Newfoundland and Labrador   Jan  2000  \n",
       "16172   Newfoundland and Labrador   Jan  2000  \n",
       "...                           ...   ...   ...  \n",
       "17579       Northwest Territories   Dec  2000  \n",
       "17580       Northwest Territories   Dec  2000  \n",
       "17581       Northwest Territories   Dec  2000  \n",
       "17582       Northwest Territories   Dec  2000  \n",
       "17583       Northwest Territories   Dec  2000  \n",
       "\n",
       "[1416 rows x 8 columns]"
      ]
     },
     "execution_count": 19,
     "metadata": {},
     "output_type": "execute_result"
    }
   ],
   "source": [
    "sel_years = data[data['Year'] == 2000]\n",
    "sel_years"
   ]
  },
  {
   "cell_type": "code",
   "execution_count": 20,
   "metadata": {},
   "outputs": [
    {
     "data": {
      "text/html": [
       "<div>\n",
       "<style scoped>\n",
       "    .dataframe tbody tr th:only-of-type {\n",
       "        vertical-align: middle;\n",
       "    }\n",
       "\n",
       "    .dataframe tbody tr th {\n",
       "        vertical-align: top;\n",
       "    }\n",
       "\n",
       "    .dataframe thead th {\n",
       "        text-align: right;\n",
       "    }\n",
       "</style>\n",
       "<table border=\"1\" class=\"dataframe\">\n",
       "  <thead>\n",
       "    <tr style=\"text-align: right;\">\n",
       "      <th></th>\n",
       "      <th>DATE</th>\n",
       "      <th>GEO</th>\n",
       "      <th>TYPE</th>\n",
       "      <th>VALUE</th>\n",
       "      <th>City</th>\n",
       "      <th>Province</th>\n",
       "      <th>Month</th>\n",
       "      <th>Year</th>\n",
       "    </tr>\n",
       "  </thead>\n",
       "  <tbody>\n",
       "    <tr>\n",
       "      <th>7</th>\n",
       "      <td>1979-01-01</td>\n",
       "      <td>Toronto, Ontario</td>\n",
       "      <td>Regular unleaded gasoline at full service fill...</td>\n",
       "      <td>23.0</td>\n",
       "      <td>Toronto</td>\n",
       "      <td>Ontario</td>\n",
       "      <td>Jan</td>\n",
       "      <td>1979</td>\n",
       "    </tr>\n",
       "    <tr>\n",
       "      <th>12</th>\n",
       "      <td>1979-01-01</td>\n",
       "      <td>Edmonton, Alberta</td>\n",
       "      <td>Regular unleaded gasoline at full service fill...</td>\n",
       "      <td>18.3</td>\n",
       "      <td>Edmonton</td>\n",
       "      <td>Alberta</td>\n",
       "      <td>Jan</td>\n",
       "      <td>1979</td>\n",
       "    </tr>\n",
       "    <tr>\n",
       "      <th>22</th>\n",
       "      <td>1979-02-01</td>\n",
       "      <td>Toronto, Ontario</td>\n",
       "      <td>Regular unleaded gasoline at full service fill...</td>\n",
       "      <td>23.2</td>\n",
       "      <td>Toronto</td>\n",
       "      <td>Ontario</td>\n",
       "      <td>Feb</td>\n",
       "      <td>1979</td>\n",
       "    </tr>\n",
       "    <tr>\n",
       "      <th>27</th>\n",
       "      <td>1979-02-01</td>\n",
       "      <td>Edmonton, Alberta</td>\n",
       "      <td>Regular unleaded gasoline at full service fill...</td>\n",
       "      <td>18.5</td>\n",
       "      <td>Edmonton</td>\n",
       "      <td>Alberta</td>\n",
       "      <td>Feb</td>\n",
       "      <td>1979</td>\n",
       "    </tr>\n",
       "    <tr>\n",
       "      <th>37</th>\n",
       "      <td>1979-03-01</td>\n",
       "      <td>Toronto, Ontario</td>\n",
       "      <td>Regular unleaded gasoline at full service fill...</td>\n",
       "      <td>23.2</td>\n",
       "      <td>Toronto</td>\n",
       "      <td>Ontario</td>\n",
       "      <td>Mar</td>\n",
       "      <td>1979</td>\n",
       "    </tr>\n",
       "    <tr>\n",
       "      <th>...</th>\n",
       "      <td>...</td>\n",
       "      <td>...</td>\n",
       "      <td>...</td>\n",
       "      <td>...</td>\n",
       "      <td>...</td>\n",
       "      <td>...</td>\n",
       "      <td>...</td>\n",
       "      <td>...</td>\n",
       "    </tr>\n",
       "    <tr>\n",
       "      <th>41903</th>\n",
       "      <td>2021-10-01</td>\n",
       "      <td>Toronto, Ontario</td>\n",
       "      <td>Diesel fuel at self service filling stations</td>\n",
       "      <td>141.3</td>\n",
       "      <td>Toronto</td>\n",
       "      <td>Ontario</td>\n",
       "      <td>Oct</td>\n",
       "      <td>2021</td>\n",
       "    </tr>\n",
       "    <tr>\n",
       "      <th>41904</th>\n",
       "      <td>2021-10-01</td>\n",
       "      <td>Toronto, Ontario</td>\n",
       "      <td>Household heating fuel</td>\n",
       "      <td>148.0</td>\n",
       "      <td>Toronto</td>\n",
       "      <td>Ontario</td>\n",
       "      <td>Oct</td>\n",
       "      <td>2021</td>\n",
       "    </tr>\n",
       "    <tr>\n",
       "      <th>41920</th>\n",
       "      <td>2021-10-01</td>\n",
       "      <td>Edmonton, Alberta</td>\n",
       "      <td>Regular unleaded gasoline at self service fill...</td>\n",
       "      <td>138.3</td>\n",
       "      <td>Edmonton</td>\n",
       "      <td>Alberta</td>\n",
       "      <td>Oct</td>\n",
       "      <td>2021</td>\n",
       "    </tr>\n",
       "    <tr>\n",
       "      <th>41921</th>\n",
       "      <td>2021-10-01</td>\n",
       "      <td>Edmonton, Alberta</td>\n",
       "      <td>Premium unleaded gasoline at self service fill...</td>\n",
       "      <td>159.6</td>\n",
       "      <td>Edmonton</td>\n",
       "      <td>Alberta</td>\n",
       "      <td>Oct</td>\n",
       "      <td>2021</td>\n",
       "    </tr>\n",
       "    <tr>\n",
       "      <th>41922</th>\n",
       "      <td>2021-10-01</td>\n",
       "      <td>Edmonton, Alberta</td>\n",
       "      <td>Diesel fuel at self service filling stations</td>\n",
       "      <td>134.7</td>\n",
       "      <td>Edmonton</td>\n",
       "      <td>Alberta</td>\n",
       "      <td>Oct</td>\n",
       "      <td>2021</td>\n",
       "    </tr>\n",
       "  </tbody>\n",
       "</table>\n",
       "<p>4600 rows × 8 columns</p>\n",
       "</div>"
      ],
      "text/plain": [
       "            DATE                GEO  \\\n",
       "7     1979-01-01   Toronto, Ontario   \n",
       "12    1979-01-01  Edmonton, Alberta   \n",
       "22    1979-02-01   Toronto, Ontario   \n",
       "27    1979-02-01  Edmonton, Alberta   \n",
       "37    1979-03-01   Toronto, Ontario   \n",
       "...          ...                ...   \n",
       "41903 2021-10-01   Toronto, Ontario   \n",
       "41904 2021-10-01   Toronto, Ontario   \n",
       "41920 2021-10-01  Edmonton, Alberta   \n",
       "41921 2021-10-01  Edmonton, Alberta   \n",
       "41922 2021-10-01  Edmonton, Alberta   \n",
       "\n",
       "                                                    TYPE  VALUE      City  \\\n",
       "7      Regular unleaded gasoline at full service fill...   23.0   Toronto   \n",
       "12     Regular unleaded gasoline at full service fill...   18.3  Edmonton   \n",
       "22     Regular unleaded gasoline at full service fill...   23.2   Toronto   \n",
       "27     Regular unleaded gasoline at full service fill...   18.5  Edmonton   \n",
       "37     Regular unleaded gasoline at full service fill...   23.2   Toronto   \n",
       "...                                                  ...    ...       ...   \n",
       "41903       Diesel fuel at self service filling stations  141.3   Toronto   \n",
       "41904                             Household heating fuel  148.0   Toronto   \n",
       "41920  Regular unleaded gasoline at self service fill...  138.3  Edmonton   \n",
       "41921  Premium unleaded gasoline at self service fill...  159.6  Edmonton   \n",
       "41922       Diesel fuel at self service filling stations  134.7  Edmonton   \n",
       "\n",
       "       Province Month  Year  \n",
       "7       Ontario   Jan  1979  \n",
       "12      Alberta   Jan  1979  \n",
       "22      Ontario   Feb  1979  \n",
       "27      Alberta   Feb  1979  \n",
       "37      Ontario   Mar  1979  \n",
       "...         ...   ...   ...  \n",
       "41903   Ontario   Oct  2021  \n",
       "41904   Ontario   Oct  2021  \n",
       "41920   Alberta   Oct  2021  \n",
       "41921   Alberta   Oct  2021  \n",
       "41922   Alberta   Oct  2021  \n",
       "\n",
       "[4600 rows x 8 columns]"
      ]
     },
     "execution_count": 20,
     "metadata": {},
     "output_type": "execute_result"
    }
   ],
   "source": [
    "mult_loc = data[(data['GEO'] == \"Toronto, Ontario\") | (data['GEO'] == \"Edmonton, Alberta\")]\n",
    "mult_loc"
   ]
  },
  {
   "cell_type": "code",
   "execution_count": 21,
   "metadata": {},
   "outputs": [
    {
     "data": {
      "text/html": [
       "<div>\n",
       "<style scoped>\n",
       "    .dataframe tbody tr th:only-of-type {\n",
       "        vertical-align: middle;\n",
       "    }\n",
       "\n",
       "    .dataframe tbody tr th {\n",
       "        vertical-align: top;\n",
       "    }\n",
       "\n",
       "    .dataframe thead th {\n",
       "        text-align: right;\n",
       "    }\n",
       "</style>\n",
       "<table border=\"1\" class=\"dataframe\">\n",
       "  <thead>\n",
       "    <tr style=\"text-align: right;\">\n",
       "      <th></th>\n",
       "      <th>DATE</th>\n",
       "      <th>GEO</th>\n",
       "      <th>TYPE</th>\n",
       "      <th>VALUE</th>\n",
       "      <th>City</th>\n",
       "      <th>Province</th>\n",
       "      <th>Month</th>\n",
       "      <th>Year</th>\n",
       "    </tr>\n",
       "  </thead>\n",
       "  <tbody>\n",
       "    <tr>\n",
       "      <th>7</th>\n",
       "      <td>1979-01-01</td>\n",
       "      <td>Toronto, Ontario</td>\n",
       "      <td>Regular unleaded gasoline at full service fill...</td>\n",
       "      <td>23.0</td>\n",
       "      <td>Toronto</td>\n",
       "      <td>Ontario</td>\n",
       "      <td>Jan</td>\n",
       "      <td>1979</td>\n",
       "    </tr>\n",
       "    <tr>\n",
       "      <th>12</th>\n",
       "      <td>1979-01-01</td>\n",
       "      <td>Edmonton, Alberta</td>\n",
       "      <td>Regular unleaded gasoline at full service fill...</td>\n",
       "      <td>18.3</td>\n",
       "      <td>Edmonton</td>\n",
       "      <td>Alberta</td>\n",
       "      <td>Jan</td>\n",
       "      <td>1979</td>\n",
       "    </tr>\n",
       "    <tr>\n",
       "      <th>13</th>\n",
       "      <td>1979-01-01</td>\n",
       "      <td>Calgary, Alberta</td>\n",
       "      <td>Regular unleaded gasoline at full service fill...</td>\n",
       "      <td>18.7</td>\n",
       "      <td>Calgary</td>\n",
       "      <td>Alberta</td>\n",
       "      <td>Jan</td>\n",
       "      <td>1979</td>\n",
       "    </tr>\n",
       "    <tr>\n",
       "      <th>22</th>\n",
       "      <td>1979-02-01</td>\n",
       "      <td>Toronto, Ontario</td>\n",
       "      <td>Regular unleaded gasoline at full service fill...</td>\n",
       "      <td>23.2</td>\n",
       "      <td>Toronto</td>\n",
       "      <td>Ontario</td>\n",
       "      <td>Feb</td>\n",
       "      <td>1979</td>\n",
       "    </tr>\n",
       "    <tr>\n",
       "      <th>27</th>\n",
       "      <td>1979-02-01</td>\n",
       "      <td>Edmonton, Alberta</td>\n",
       "      <td>Regular unleaded gasoline at full service fill...</td>\n",
       "      <td>18.5</td>\n",
       "      <td>Edmonton</td>\n",
       "      <td>Alberta</td>\n",
       "      <td>Feb</td>\n",
       "      <td>1979</td>\n",
       "    </tr>\n",
       "    <tr>\n",
       "      <th>...</th>\n",
       "      <td>...</td>\n",
       "      <td>...</td>\n",
       "      <td>...</td>\n",
       "      <td>...</td>\n",
       "      <td>...</td>\n",
       "      <td>...</td>\n",
       "      <td>...</td>\n",
       "      <td>...</td>\n",
       "    </tr>\n",
       "    <tr>\n",
       "      <th>41921</th>\n",
       "      <td>2021-10-01</td>\n",
       "      <td>Edmonton, Alberta</td>\n",
       "      <td>Premium unleaded gasoline at self service fill...</td>\n",
       "      <td>159.6</td>\n",
       "      <td>Edmonton</td>\n",
       "      <td>Alberta</td>\n",
       "      <td>Oct</td>\n",
       "      <td>2021</td>\n",
       "    </tr>\n",
       "    <tr>\n",
       "      <th>41922</th>\n",
       "      <td>2021-10-01</td>\n",
       "      <td>Edmonton, Alberta</td>\n",
       "      <td>Diesel fuel at self service filling stations</td>\n",
       "      <td>134.7</td>\n",
       "      <td>Edmonton</td>\n",
       "      <td>Alberta</td>\n",
       "      <td>Oct</td>\n",
       "      <td>2021</td>\n",
       "    </tr>\n",
       "    <tr>\n",
       "      <th>41923</th>\n",
       "      <td>2021-10-01</td>\n",
       "      <td>Calgary, Alberta</td>\n",
       "      <td>Regular unleaded gasoline at self service fill...</td>\n",
       "      <td>140.8</td>\n",
       "      <td>Calgary</td>\n",
       "      <td>Alberta</td>\n",
       "      <td>Oct</td>\n",
       "      <td>2021</td>\n",
       "    </tr>\n",
       "    <tr>\n",
       "      <th>41924</th>\n",
       "      <td>2021-10-01</td>\n",
       "      <td>Calgary, Alberta</td>\n",
       "      <td>Premium unleaded gasoline at self service fill...</td>\n",
       "      <td>164.4</td>\n",
       "      <td>Calgary</td>\n",
       "      <td>Alberta</td>\n",
       "      <td>Oct</td>\n",
       "      <td>2021</td>\n",
       "    </tr>\n",
       "    <tr>\n",
       "      <th>41925</th>\n",
       "      <td>2021-10-01</td>\n",
       "      <td>Calgary, Alberta</td>\n",
       "      <td>Diesel fuel at self service filling stations</td>\n",
       "      <td>138.3</td>\n",
       "      <td>Calgary</td>\n",
       "      <td>Alberta</td>\n",
       "      <td>Oct</td>\n",
       "      <td>2021</td>\n",
       "    </tr>\n",
       "  </tbody>\n",
       "</table>\n",
       "<p>6709 rows × 8 columns</p>\n",
       "</div>"
      ],
      "text/plain": [
       "            DATE                GEO  \\\n",
       "7     1979-01-01   Toronto, Ontario   \n",
       "12    1979-01-01  Edmonton, Alberta   \n",
       "13    1979-01-01   Calgary, Alberta   \n",
       "22    1979-02-01   Toronto, Ontario   \n",
       "27    1979-02-01  Edmonton, Alberta   \n",
       "...          ...                ...   \n",
       "41921 2021-10-01  Edmonton, Alberta   \n",
       "41922 2021-10-01  Edmonton, Alberta   \n",
       "41923 2021-10-01   Calgary, Alberta   \n",
       "41924 2021-10-01   Calgary, Alberta   \n",
       "41925 2021-10-01   Calgary, Alberta   \n",
       "\n",
       "                                                    TYPE  VALUE      City  \\\n",
       "7      Regular unleaded gasoline at full service fill...   23.0   Toronto   \n",
       "12     Regular unleaded gasoline at full service fill...   18.3  Edmonton   \n",
       "13     Regular unleaded gasoline at full service fill...   18.7   Calgary   \n",
       "22     Regular unleaded gasoline at full service fill...   23.2   Toronto   \n",
       "27     Regular unleaded gasoline at full service fill...   18.5  Edmonton   \n",
       "...                                                  ...    ...       ...   \n",
       "41921  Premium unleaded gasoline at self service fill...  159.6  Edmonton   \n",
       "41922       Diesel fuel at self service filling stations  134.7  Edmonton   \n",
       "41923  Regular unleaded gasoline at self service fill...  140.8   Calgary   \n",
       "41924  Premium unleaded gasoline at self service fill...  164.4   Calgary   \n",
       "41925       Diesel fuel at self service filling stations  138.3   Calgary   \n",
       "\n",
       "       Province Month  Year  \n",
       "7       Ontario   Jan  1979  \n",
       "12      Alberta   Jan  1979  \n",
       "13      Alberta   Jan  1979  \n",
       "22      Ontario   Feb  1979  \n",
       "27      Alberta   Feb  1979  \n",
       "...         ...   ...   ...  \n",
       "41921   Alberta   Oct  2021  \n",
       "41922   Alberta   Oct  2021  \n",
       "41923   Alberta   Oct  2021  \n",
       "41924   Alberta   Oct  2021  \n",
       "41925   Alberta   Oct  2021  \n",
       "\n",
       "[6709 rows x 8 columns]"
      ]
     },
     "execution_count": 21,
     "metadata": {},
     "output_type": "execute_result"
    }
   ],
   "source": [
    "cities = ['Calgary', 'Toronto', 'Edmonton']\n",
    "CTE = data[data['City'].isin(cities)]\n",
    "CTE"
   ]
  },
  {
   "cell_type": "code",
   "execution_count": 22,
   "metadata": {},
   "outputs": [
    {
     "data": {
      "text/html": [
       "<div>\n",
       "<style scoped>\n",
       "    .dataframe tbody tr th:only-of-type {\n",
       "        vertical-align: middle;\n",
       "    }\n",
       "\n",
       "    .dataframe tbody tr th {\n",
       "        vertical-align: top;\n",
       "    }\n",
       "\n",
       "    .dataframe thead th {\n",
       "        text-align: right;\n",
       "    }\n",
       "</style>\n",
       "<table border=\"1\" class=\"dataframe\">\n",
       "  <thead>\n",
       "    <tr style=\"text-align: right;\">\n",
       "      <th></th>\n",
       "      <th>DATE</th>\n",
       "      <th>GEO</th>\n",
       "      <th>TYPE</th>\n",
       "      <th>VALUE</th>\n",
       "      <th>City</th>\n",
       "      <th>Province</th>\n",
       "      <th>Month</th>\n",
       "      <th>Year</th>\n",
       "    </tr>\n",
       "  </thead>\n",
       "  <tbody>\n",
       "    <tr>\n",
       "      <th>2192</th>\n",
       "      <td>1990-01-01</td>\n",
       "      <td>Vancouver, British Columbia</td>\n",
       "      <td>Household heating fuel</td>\n",
       "      <td>32.4</td>\n",
       "      <td>Vancouver</td>\n",
       "      <td>British Columbia</td>\n",
       "      <td>Jan</td>\n",
       "      <td>1990</td>\n",
       "    </tr>\n",
       "    <tr>\n",
       "      <th>2304</th>\n",
       "      <td>1990-02-01</td>\n",
       "      <td>Vancouver, British Columbia</td>\n",
       "      <td>Household heating fuel</td>\n",
       "      <td>33.7</td>\n",
       "      <td>Vancouver</td>\n",
       "      <td>British Columbia</td>\n",
       "      <td>Feb</td>\n",
       "      <td>1990</td>\n",
       "    </tr>\n",
       "    <tr>\n",
       "      <th>2416</th>\n",
       "      <td>1990-03-01</td>\n",
       "      <td>Vancouver, British Columbia</td>\n",
       "      <td>Household heating fuel</td>\n",
       "      <td>34.0</td>\n",
       "      <td>Vancouver</td>\n",
       "      <td>British Columbia</td>\n",
       "      <td>Mar</td>\n",
       "      <td>1990</td>\n",
       "    </tr>\n",
       "    <tr>\n",
       "      <th>2528</th>\n",
       "      <td>1990-04-01</td>\n",
       "      <td>Vancouver, British Columbia</td>\n",
       "      <td>Household heating fuel</td>\n",
       "      <td>34.5</td>\n",
       "      <td>Vancouver</td>\n",
       "      <td>British Columbia</td>\n",
       "      <td>Apr</td>\n",
       "      <td>1990</td>\n",
       "    </tr>\n",
       "    <tr>\n",
       "      <th>2640</th>\n",
       "      <td>1990-05-01</td>\n",
       "      <td>Vancouver, British Columbia</td>\n",
       "      <td>Household heating fuel</td>\n",
       "      <td>34.5</td>\n",
       "      <td>Vancouver</td>\n",
       "      <td>British Columbia</td>\n",
       "      <td>May</td>\n",
       "      <td>1990</td>\n",
       "    </tr>\n",
       "    <tr>\n",
       "      <th>2752</th>\n",
       "      <td>1990-06-01</td>\n",
       "      <td>Vancouver, British Columbia</td>\n",
       "      <td>Household heating fuel</td>\n",
       "      <td>34.5</td>\n",
       "      <td>Vancouver</td>\n",
       "      <td>British Columbia</td>\n",
       "      <td>Jun</td>\n",
       "      <td>1990</td>\n",
       "    </tr>\n",
       "    <tr>\n",
       "      <th>2864</th>\n",
       "      <td>1990-07-01</td>\n",
       "      <td>Vancouver, British Columbia</td>\n",
       "      <td>Household heating fuel</td>\n",
       "      <td>34.5</td>\n",
       "      <td>Vancouver</td>\n",
       "      <td>British Columbia</td>\n",
       "      <td>Jul</td>\n",
       "      <td>1990</td>\n",
       "    </tr>\n",
       "    <tr>\n",
       "      <th>2976</th>\n",
       "      <td>1990-08-01</td>\n",
       "      <td>Vancouver, British Columbia</td>\n",
       "      <td>Household heating fuel</td>\n",
       "      <td>34.5</td>\n",
       "      <td>Vancouver</td>\n",
       "      <td>British Columbia</td>\n",
       "      <td>Aug</td>\n",
       "      <td>1990</td>\n",
       "    </tr>\n",
       "    <tr>\n",
       "      <th>3088</th>\n",
       "      <td>1990-09-01</td>\n",
       "      <td>Vancouver, British Columbia</td>\n",
       "      <td>Household heating fuel</td>\n",
       "      <td>36.7</td>\n",
       "      <td>Vancouver</td>\n",
       "      <td>British Columbia</td>\n",
       "      <td>Sep</td>\n",
       "      <td>1990</td>\n",
       "    </tr>\n",
       "    <tr>\n",
       "      <th>3200</th>\n",
       "      <td>1990-10-01</td>\n",
       "      <td>Vancouver, British Columbia</td>\n",
       "      <td>Household heating fuel</td>\n",
       "      <td>41.8</td>\n",
       "      <td>Vancouver</td>\n",
       "      <td>British Columbia</td>\n",
       "      <td>Oct</td>\n",
       "      <td>1990</td>\n",
       "    </tr>\n",
       "    <tr>\n",
       "      <th>3312</th>\n",
       "      <td>1990-11-01</td>\n",
       "      <td>Vancouver, British Columbia</td>\n",
       "      <td>Household heating fuel</td>\n",
       "      <td>42.7</td>\n",
       "      <td>Vancouver</td>\n",
       "      <td>British Columbia</td>\n",
       "      <td>Nov</td>\n",
       "      <td>1990</td>\n",
       "    </tr>\n",
       "    <tr>\n",
       "      <th>3424</th>\n",
       "      <td>1990-12-01</td>\n",
       "      <td>Vancouver, British Columbia</td>\n",
       "      <td>Household heating fuel</td>\n",
       "      <td>45.7</td>\n",
       "      <td>Vancouver</td>\n",
       "      <td>British Columbia</td>\n",
       "      <td>Dec</td>\n",
       "      <td>1990</td>\n",
       "    </tr>\n",
       "  </tbody>\n",
       "</table>\n",
       "</div>"
      ],
      "text/plain": [
       "           DATE                          GEO                    TYPE  VALUE  \\\n",
       "2192 1990-01-01  Vancouver, British Columbia  Household heating fuel   32.4   \n",
       "2304 1990-02-01  Vancouver, British Columbia  Household heating fuel   33.7   \n",
       "2416 1990-03-01  Vancouver, British Columbia  Household heating fuel   34.0   \n",
       "2528 1990-04-01  Vancouver, British Columbia  Household heating fuel   34.5   \n",
       "2640 1990-05-01  Vancouver, British Columbia  Household heating fuel   34.5   \n",
       "2752 1990-06-01  Vancouver, British Columbia  Household heating fuel   34.5   \n",
       "2864 1990-07-01  Vancouver, British Columbia  Household heating fuel   34.5   \n",
       "2976 1990-08-01  Vancouver, British Columbia  Household heating fuel   34.5   \n",
       "3088 1990-09-01  Vancouver, British Columbia  Household heating fuel   36.7   \n",
       "3200 1990-10-01  Vancouver, British Columbia  Household heating fuel   41.8   \n",
       "3312 1990-11-01  Vancouver, British Columbia  Household heating fuel   42.7   \n",
       "3424 1990-12-01  Vancouver, British Columbia  Household heating fuel   45.7   \n",
       "\n",
       "           City           Province Month  Year  \n",
       "2192  Vancouver   British Columbia   Jan  1990  \n",
       "2304  Vancouver   British Columbia   Feb  1990  \n",
       "2416  Vancouver   British Columbia   Mar  1990  \n",
       "2528  Vancouver   British Columbia   Apr  1990  \n",
       "2640  Vancouver   British Columbia   May  1990  \n",
       "2752  Vancouver   British Columbia   Jun  1990  \n",
       "2864  Vancouver   British Columbia   Jul  1990  \n",
       "2976  Vancouver   British Columbia   Aug  1990  \n",
       "3088  Vancouver   British Columbia   Sep  1990  \n",
       "3200  Vancouver   British Columbia   Oct  1990  \n",
       "3312  Vancouver   British Columbia   Nov  1990  \n",
       "3424  Vancouver   British Columbia   Dec  1990  "
      ]
     },
     "execution_count": 22,
     "metadata": {},
     "output_type": "execute_result"
    }
   ],
   "source": [
    "filtered_Data = data[(data['TYPE'] == 'Household heating fuel') & (data['City'] == 'Vancouver') & (data['Year'] == 1990) ]\n",
    "filtered_Data\n"
   ]
  },
  {
   "cell_type": "code",
   "execution_count": 23,
   "metadata": {},
   "outputs": [
    {
     "data": {
      "text/html": [
       "<div>\n",
       "<style scoped>\n",
       "    .dataframe tbody tr th:only-of-type {\n",
       "        vertical-align: middle;\n",
       "    }\n",
       "\n",
       "    .dataframe tbody tr th {\n",
       "        vertical-align: top;\n",
       "    }\n",
       "\n",
       "    .dataframe thead th {\n",
       "        text-align: right;\n",
       "    }\n",
       "</style>\n",
       "<table border=\"1\" class=\"dataframe\">\n",
       "  <thead>\n",
       "    <tr style=\"text-align: right;\">\n",
       "      <th></th>\n",
       "      <th>DATE</th>\n",
       "      <th>GEO</th>\n",
       "      <th>TYPE</th>\n",
       "      <th>VALUE</th>\n",
       "      <th>City</th>\n",
       "      <th>Province</th>\n",
       "      <th>Month</th>\n",
       "      <th>Year</th>\n",
       "    </tr>\n",
       "  </thead>\n",
       "  <tbody>\n",
       "    <tr>\n",
       "      <th>0</th>\n",
       "      <td>1979-01-01</td>\n",
       "      <td>St. John's, Newfoundland and Labrador</td>\n",
       "      <td>Regular unleaded gasoline at full service fill...</td>\n",
       "      <td>26.0</td>\n",
       "      <td>St. John's</td>\n",
       "      <td>Newfoundland and Labrador</td>\n",
       "      <td>Jan</td>\n",
       "      <td>1979</td>\n",
       "    </tr>\n",
       "    <tr>\n",
       "      <th>1</th>\n",
       "      <td>1979-01-01</td>\n",
       "      <td>Charlottetown and Summerside, Prince Edward Is...</td>\n",
       "      <td>Regular unleaded gasoline at full service fill...</td>\n",
       "      <td>24.6</td>\n",
       "      <td>Charlottetown and Summerside</td>\n",
       "      <td>Prince Edward Island</td>\n",
       "      <td>Jan</td>\n",
       "      <td>1979</td>\n",
       "    </tr>\n",
       "    <tr>\n",
       "      <th>2</th>\n",
       "      <td>1979-01-01</td>\n",
       "      <td>Halifax, Nova Scotia</td>\n",
       "      <td>Regular unleaded gasoline at full service fill...</td>\n",
       "      <td>23.4</td>\n",
       "      <td>Halifax</td>\n",
       "      <td>Nova Scotia</td>\n",
       "      <td>Jan</td>\n",
       "      <td>1979</td>\n",
       "    </tr>\n",
       "    <tr>\n",
       "      <th>3</th>\n",
       "      <td>1979-01-01</td>\n",
       "      <td>Saint John, New Brunswick</td>\n",
       "      <td>Regular unleaded gasoline at full service fill...</td>\n",
       "      <td>23.2</td>\n",
       "      <td>Saint John</td>\n",
       "      <td>New Brunswick</td>\n",
       "      <td>Jan</td>\n",
       "      <td>1979</td>\n",
       "    </tr>\n",
       "    <tr>\n",
       "      <th>4</th>\n",
       "      <td>1979-01-01</td>\n",
       "      <td>Québec, Quebec</td>\n",
       "      <td>Regular unleaded gasoline at full service fill...</td>\n",
       "      <td>22.6</td>\n",
       "      <td>Québec</td>\n",
       "      <td>Quebec</td>\n",
       "      <td>Jan</td>\n",
       "      <td>1979</td>\n",
       "    </tr>\n",
       "    <tr>\n",
       "      <th>...</th>\n",
       "      <td>...</td>\n",
       "      <td>...</td>\n",
       "      <td>...</td>\n",
       "      <td>...</td>\n",
       "      <td>...</td>\n",
       "      <td>...</td>\n",
       "      <td>...</td>\n",
       "      <td>...</td>\n",
       "    </tr>\n",
       "    <tr>\n",
       "      <th>41653</th>\n",
       "      <td>2021-06-01</td>\n",
       "      <td>Vancouver, British Columbia</td>\n",
       "      <td>Household heating fuel</td>\n",
       "      <td>133.1</td>\n",
       "      <td>Vancouver</td>\n",
       "      <td>British Columbia</td>\n",
       "      <td>Jun</td>\n",
       "      <td>2021</td>\n",
       "    </tr>\n",
       "    <tr>\n",
       "      <th>41722</th>\n",
       "      <td>2021-07-01</td>\n",
       "      <td>Vancouver, British Columbia</td>\n",
       "      <td>Household heating fuel</td>\n",
       "      <td>135.2</td>\n",
       "      <td>Vancouver</td>\n",
       "      <td>British Columbia</td>\n",
       "      <td>Jul</td>\n",
       "      <td>2021</td>\n",
       "    </tr>\n",
       "    <tr>\n",
       "      <th>41791</th>\n",
       "      <td>2021-08-01</td>\n",
       "      <td>Vancouver, British Columbia</td>\n",
       "      <td>Household heating fuel</td>\n",
       "      <td>136.5</td>\n",
       "      <td>Vancouver</td>\n",
       "      <td>British Columbia</td>\n",
       "      <td>Aug</td>\n",
       "      <td>2021</td>\n",
       "    </tr>\n",
       "    <tr>\n",
       "      <th>41860</th>\n",
       "      <td>2021-09-01</td>\n",
       "      <td>Vancouver, British Columbia</td>\n",
       "      <td>Household heating fuel</td>\n",
       "      <td>140.9</td>\n",
       "      <td>Vancouver</td>\n",
       "      <td>British Columbia</td>\n",
       "      <td>Sep</td>\n",
       "      <td>2021</td>\n",
       "    </tr>\n",
       "    <tr>\n",
       "      <th>41929</th>\n",
       "      <td>2021-10-01</td>\n",
       "      <td>Vancouver, British Columbia</td>\n",
       "      <td>Household heating fuel</td>\n",
       "      <td>148.6</td>\n",
       "      <td>Vancouver</td>\n",
       "      <td>British Columbia</td>\n",
       "      <td>Oct</td>\n",
       "      <td>2021</td>\n",
       "    </tr>\n",
       "  </tbody>\n",
       "</table>\n",
       "<p>190 rows × 8 columns</p>\n",
       "</div>"
      ],
      "text/plain": [
       "            DATE                                                GEO  \\\n",
       "0     1979-01-01              St. John's, Newfoundland and Labrador   \n",
       "1     1979-01-01  Charlottetown and Summerside, Prince Edward Is...   \n",
       "2     1979-01-01                               Halifax, Nova Scotia   \n",
       "3     1979-01-01                          Saint John, New Brunswick   \n",
       "4     1979-01-01                                     Québec, Quebec   \n",
       "...          ...                                                ...   \n",
       "41653 2021-06-01                        Vancouver, British Columbia   \n",
       "41722 2021-07-01                        Vancouver, British Columbia   \n",
       "41791 2021-08-01                        Vancouver, British Columbia   \n",
       "41860 2021-09-01                        Vancouver, British Columbia   \n",
       "41929 2021-10-01                        Vancouver, British Columbia   \n",
       "\n",
       "                                                    TYPE  VALUE  \\\n",
       "0      Regular unleaded gasoline at full service fill...   26.0   \n",
       "1      Regular unleaded gasoline at full service fill...   24.6   \n",
       "2      Regular unleaded gasoline at full service fill...   23.4   \n",
       "3      Regular unleaded gasoline at full service fill...   23.2   \n",
       "4      Regular unleaded gasoline at full service fill...   22.6   \n",
       "...                                                  ...    ...   \n",
       "41653                             Household heating fuel  133.1   \n",
       "41722                             Household heating fuel  135.2   \n",
       "41791                             Household heating fuel  136.5   \n",
       "41860                             Household heating fuel  140.9   \n",
       "41929                             Household heating fuel  148.6   \n",
       "\n",
       "                               City                    Province Month  Year  \n",
       "0                        St. John's   Newfoundland and Labrador   Jan  1979  \n",
       "1      Charlottetown and Summerside        Prince Edward Island   Jan  1979  \n",
       "2                           Halifax                 Nova Scotia   Jan  1979  \n",
       "3                        Saint John               New Brunswick   Jan  1979  \n",
       "4                            Québec                      Quebec   Jan  1979  \n",
       "...                             ...                         ...   ...   ...  \n",
       "41653                     Vancouver            British Columbia   Jun  2021  \n",
       "41722                     Vancouver            British Columbia   Jul  2021  \n",
       "41791                     Vancouver            British Columbia   Aug  2021  \n",
       "41860                     Vancouver            British Columbia   Sep  2021  \n",
       "41929                     Vancouver            British Columbia   Oct  2021  \n",
       "\n",
       "[190 rows x 8 columns]"
      ]
     },
     "execution_count": 23,
     "metadata": {},
     "output_type": "execute_result"
    }
   ],
   "source": [
    "exercise2b = data[(data['TYPE'] == 'Household heating fuel') & (data['City'] == 'Vancouver') & (data['Year'] == 2021) | (data['Year'] == 1979) ]\n",
    "exercise2b"
   ]
  },
  {
   "cell_type": "code",
   "execution_count": 24,
   "metadata": {},
   "outputs": [
    {
     "data": {
      "text/plain": [
       "18"
      ]
     },
     "execution_count": 24,
     "metadata": {},
     "output_type": "execute_result"
    }
   ],
   "source": [
    "geo = data.groupby('GEO')\n",
    "geo.ngroups"
   ]
  },
  {
   "cell_type": "code",
   "execution_count": 25,
   "metadata": {},
   "outputs": [
    {
     "data": {
      "text/plain": [
       "Year\n",
       "1979     23.604444\n",
       "1980     28.068750\n",
       "1981     38.002604\n",
       "1982     44.701563\n",
       "1983     47.904688\n",
       "1984     50.442708\n",
       "1985     53.899479\n",
       "1986     48.405208\n",
       "1987     49.758333\n",
       "1988     49.217188\n",
       "1989     51.700000\n",
       "1990     55.048735\n",
       "1991     56.527041\n",
       "1992     54.633832\n",
       "1993     54.334734\n",
       "1994     54.247899\n",
       "1995     56.177451\n",
       "1996     58.134110\n",
       "1997     59.182062\n",
       "1998     56.247246\n",
       "1999     58.743362\n",
       "2000     72.207839\n",
       "2001     72.403107\n",
       "2002     70.312147\n",
       "2003     75.541667\n",
       "2004     82.960452\n",
       "2005     96.328743\n",
       "2006    101.209393\n",
       "2007    105.258263\n",
       "2008    123.340678\n",
       "2009     96.969068\n",
       "2010    106.369845\n",
       "2011    126.790607\n",
       "2012    130.380085\n",
       "2013    129.677273\n",
       "2014    133.169203\n",
       "2015    110.366908\n",
       "2016    101.790821\n",
       "2017    112.852657\n",
       "2018    129.408575\n",
       "2019    125.776329\n",
       "2020    107.617150\n",
       "2021    133.990580\n",
       "Name: VALUE, dtype: float64"
      ]
     },
     "execution_count": 25,
     "metadata": {},
     "output_type": "execute_result"
    }
   ],
   "source": [
    "group_year = data.groupby(['Year'])['VALUE'].mean()\n",
    "group_year"
   ]
  },
  {
   "cell_type": "code",
   "execution_count": 26,
   "metadata": {},
   "outputs": [
    {
     "data": {
      "text/plain": [
       "Year  Month\n",
       "1979  Apr       26.3\n",
       "      Aug       26.9\n",
       "      Dec       29.6\n",
       "      Feb       26.2\n",
       "      Jan       26.0\n",
       "               ...  \n",
       "2021  Jun      183.2\n",
       "      Mar      171.8\n",
       "      May      177.8\n",
       "      Oct      184.9\n",
       "      Sep      179.3\n",
       "Name: VALUE, Length: 514, dtype: float64"
      ]
     },
     "execution_count": 26,
     "metadata": {},
     "output_type": "execute_result"
    }
   ],
   "source": [
    "exercise3a = data.groupby(['Year','Month'])['VALUE'].max()\n",
    "exercise3a"
   ]
  },
  {
   "cell_type": "code",
   "execution_count": 27,
   "metadata": {},
   "outputs": [
    {
     "data": {
      "text/plain": [
       "Year  City                        \n",
       "1979  Calgary                          19.15\n",
       "      Charlottetown and Summerside     25.45\n",
       "      Edmonton                         18.70\n",
       "      Halifax                          24.00\n",
       "      Montréal                         23.25\n",
       "                                       ...  \n",
       "2021  Vancouver                       151.10\n",
       "      Victoria                        148.80\n",
       "      Whitehorse                      142.25\n",
       "      Winnipeg                        127.70\n",
       "      Yellowknife                     138.65\n",
       "Name: VALUE, Length: 751, dtype: float64"
      ]
     },
     "execution_count": 27,
     "metadata": {},
     "output_type": "execute_result"
    }
   ],
   "source": [
    "exercise3b = data.groupby(['Year','City'])['VALUE'].median()\n",
    "exercise3b"
   ]
  },
  {
   "cell_type": "code",
   "execution_count": 31,
   "metadata": {},
   "outputs": [
    {
     "data": {
      "application/vnd.plotly.v1+json": {
       "config": {
        "plotlyServerURL": "https://plot.ly"
       },
       "data": [
        {
         "hovertemplate": "GEO=Calgary, Alberta<br>Year=%{x}<br>Value=%{y}<extra></extra>",
         "legendgroup": "Calgary, Alberta",
         "line": {
          "color": "#FD3216",
          "dash": "solid"
         },
         "marker": {
          "symbol": "circle"
         },
         "mode": "lines",
         "name": "Calgary, Alberta",
         "orientation": "v",
         "showlegend": true,
         "type": "scatter",
         "x": [
          1979,
          1980,
          1981,
          1982,
          1983,
          1984,
          1985,
          1986,
          1987,
          1988,
          1989,
          1990,
          1991,
          1992,
          1993,
          1994,
          1995,
          1996,
          1997,
          1998,
          1999,
          2000,
          2001,
          2002,
          2003,
          2004,
          2005,
          2006,
          2007,
          2008,
          2009,
          2010,
          2011,
          2012,
          2013,
          2014,
          2015,
          2016,
          2017,
          2018,
          2019,
          2020,
          2021
         ],
         "xaxis": "x",
         "y": [
          19.61,
          23.42,
          31.85,
          37.24,
          41.66,
          43.71,
          46.71,
          41.22,
          43.78,
          41.19,
          44.98,
          52.32,
          51.24,
          47.79,
          48.3,
          48.45,
          51.08,
          52.9,
          53.54,
          52.03,
          54.92,
          65.96,
          67.26,
          65.93,
          68.66,
          76.03,
          90.08,
          95.03,
          101.39,
          118.15,
          90.86,
          96.91,
          116.39,
          117.22,
          118.79,
          125.07,
          104.81,
          96.62,
          108.94,
          128.11,
          116.31,
          103.98,
          132.13
         ],
         "yaxis": "y"
        },
        {
         "hovertemplate": "GEO=Charlottetown and Summerside, Prince Edward Island<br>Year=%{x}<br>Value=%{y}<extra></extra>",
         "legendgroup": "Charlottetown and Summerside, Prince Edward Island",
         "line": {
          "color": "#00FE35",
          "dash": "solid"
         },
         "marker": {
          "symbol": "circle"
         },
         "mode": "lines",
         "name": "Charlottetown and Summerside, Prince Edward Island",
         "orientation": "v",
         "showlegend": true,
         "type": "scatter",
         "x": [
          1979,
          1980,
          1981,
          1982,
          1983,
          1984,
          1985,
          1986,
          1987,
          1988,
          1989,
          1990,
          1991,
          1992,
          1993,
          1994,
          1995,
          1996,
          1997,
          1998,
          1999,
          2000,
          2001,
          2002,
          2003,
          2004,
          2005,
          2006,
          2007,
          2008,
          2009,
          2010,
          2011,
          2012,
          2013,
          2014,
          2015,
          2016,
          2017,
          2018,
          2019,
          2020,
          2021
         ],
         "xaxis": "x",
         "y": [
          25.82,
          30.64,
          42.28,
          50.07,
          54.38,
          57.18,
          59.76,
          53.62,
          53.65,
          52.65,
          52.71,
          53.86,
          59.8,
          57.14,
          54.43,
          53.81,
          57.43,
          57.82,
          59.24,
          52.6,
          52.27,
          68.41,
          70.33,
          65.95,
          71.68,
          80.09,
          95.4,
          101.85,
          103.41,
          120.08,
          93.7,
          102.65,
          122.45,
          127.25,
          128.89,
          131.26,
          105.13,
          95.99,
          105.34,
          120.45,
          115.81,
          94.42,
          123.8
         ],
         "yaxis": "y"
        },
        {
         "hovertemplate": "GEO=Edmonton, Alberta<br>Year=%{x}<br>Value=%{y}<extra></extra>",
         "legendgroup": "Edmonton, Alberta",
         "line": {
          "color": "#6A76FC",
          "dash": "solid"
         },
         "marker": {
          "symbol": "circle"
         },
         "mode": "lines",
         "name": "Edmonton, Alberta",
         "orientation": "v",
         "showlegend": true,
         "type": "scatter",
         "x": [
          1979,
          1980,
          1981,
          1982,
          1983,
          1984,
          1985,
          1986,
          1987,
          1988,
          1989,
          1990,
          1991,
          1992,
          1993,
          1994,
          1995,
          1996,
          1997,
          1998,
          1999,
          2000,
          2001,
          2002,
          2003,
          2004,
          2005,
          2006,
          2007,
          2008,
          2009,
          2010,
          2011,
          2012,
          2013,
          2014,
          2015,
          2016,
          2017,
          2018,
          2019,
          2020,
          2021
         ],
         "xaxis": "x",
         "y": [
          19.08,
          23.02,
          31.06,
          35.97,
          40.2,
          42.24,
          45.13,
          39.88,
          44.05,
          41.13,
          44.75,
          52.28,
          50.83,
          49.07,
          48.22,
          47.91,
          49.76,
          51.61,
          53.19,
          50.93,
          54,
          65.68,
          65.57,
          64.76,
          68.96,
          76.19,
          89.28,
          94.33,
          99.94,
          116.86,
          89.61,
          95.64,
          113.52,
          114.69,
          115.22,
          120.28,
          99.82,
          91.91,
          106.19,
          125.22,
          113.36,
          99.21,
          128.83
         ],
         "yaxis": "y"
        },
        {
         "hovertemplate": "GEO=Halifax, Nova Scotia<br>Year=%{x}<br>Value=%{y}<extra></extra>",
         "legendgroup": "Halifax, Nova Scotia",
         "line": {
          "color": "#FED4C4",
          "dash": "solid"
         },
         "marker": {
          "symbol": "circle"
         },
         "mode": "lines",
         "name": "Halifax, Nova Scotia",
         "orientation": "v",
         "showlegend": true,
         "type": "scatter",
         "x": [
          1979,
          1980,
          1981,
          1982,
          1983,
          1984,
          1985,
          1986,
          1987,
          1988,
          1989,
          1990,
          1991,
          1992,
          1993,
          1994,
          1995,
          1996,
          1997,
          1998,
          1999,
          2000,
          2001,
          2002,
          2003,
          2004,
          2005,
          2006,
          2007,
          2008,
          2009,
          2010,
          2011,
          2012,
          2013,
          2014,
          2015,
          2016,
          2017,
          2018,
          2019,
          2020,
          2021
         ],
         "xaxis": "x",
         "y": [
          24.52,
          28.86,
          37.8,
          46.38,
          51.28,
          53.93,
          58.49,
          51.92,
          50.25,
          50.32,
          50.92,
          52.39,
          57.08,
          57.42,
          52.71,
          52.76,
          54.3,
          55.02,
          60.06,
          57.21,
          59.5,
          75.25,
          72.94,
          72.37,
          78.06,
          86.41,
          98.72,
          103.75,
          106.12,
          121.92,
          95.81,
          106.64,
          127.2,
          132.68,
          129.74,
          132.78,
          106.04,
          96.61,
          106.02,
          118.92,
          115.24,
          92.2,
          123.54
         ],
         "yaxis": "y"
        },
        {
         "hovertemplate": "GEO=Montréal, Quebec<br>Year=%{x}<br>Value=%{y}<extra></extra>",
         "legendgroup": "Montréal, Quebec",
         "line": {
          "color": "#FE00CE",
          "dash": "solid"
         },
         "marker": {
          "symbol": "circle"
         },
         "mode": "lines",
         "name": "Montréal, Quebec",
         "orientation": "v",
         "showlegend": true,
         "type": "scatter",
         "x": [
          1979,
          1980,
          1981,
          1982,
          1983,
          1984,
          1985,
          1986,
          1987,
          1988,
          1989,
          1990,
          1991,
          1992,
          1993,
          1994,
          1995,
          1996,
          1997,
          1998,
          1999,
          2000,
          2001,
          2002,
          2003,
          2004,
          2005,
          2006,
          2007,
          2008,
          2009,
          2010,
          2011,
          2012,
          2013,
          2014,
          2015,
          2016,
          2017,
          2018,
          2019,
          2020,
          2021
         ],
         "xaxis": "x",
         "y": [
          23.86,
          28.98,
          40.2,
          53.48,
          56.13,
          57.88,
          60.68,
          54.76,
          57.08,
          56.83,
          57.17,
          58.87,
          61.48,
          58.35,
          56.36,
          55.1,
          55.83,
          58.26,
          59.23,
          56.23,
          59.97,
          75.46,
          72.77,
          69.23,
          74.95,
          83.26,
          95.89,
          100.41,
          103.75,
          124.82,
          97.25,
          107.6,
          130.95,
          137.25,
          135.48,
          137.22,
          115.9,
          104.79,
          115.31,
          132.18,
          127.26,
          108.26,
          131.02
         ],
         "yaxis": "y"
        },
        {
         "hovertemplate": "GEO=Ottawa-Gatineau, Ontario part, Ontario/Quebec<br>Year=%{x}<br>Value=%{y}<extra></extra>",
         "legendgroup": "Ottawa-Gatineau, Ontario part, Ontario/Quebec",
         "line": {
          "color": "#0DF9FF",
          "dash": "solid"
         },
         "marker": {
          "symbol": "circle"
         },
         "mode": "lines",
         "name": "Ottawa-Gatineau, Ontario part, Ontario/Quebec",
         "orientation": "v",
         "showlegend": true,
         "type": "scatter",
         "x": [
          1979,
          1980,
          1981,
          1982,
          1983,
          1984,
          1985,
          1986,
          1987,
          1988,
          1989,
          1990,
          1991,
          1992,
          1993,
          1994,
          1995,
          1996,
          1997,
          1998,
          1999,
          2000,
          2001,
          2002,
          2003,
          2004,
          2005,
          2006,
          2007,
          2008,
          2009,
          2010,
          2011,
          2012,
          2013,
          2014,
          2015,
          2016,
          2017,
          2018,
          2019,
          2020,
          2021
         ],
         "xaxis": "x",
         "y": [
          23.95,
          28.83,
          38.71,
          46.05,
          46.69,
          49.93,
          53.38,
          48.84,
          50.72,
          51.6,
          53.24,
          54.94,
          56.76,
          55.37,
          53.96,
          52.76,
          53.56,
          55.77,
          55.87,
          52.7,
          55.56,
          69.79,
          68.31,
          65.96,
          70.74,
          77.93,
          91.13,
          95.47,
          99.75,
          117.5,
          91.11,
          103.61,
          127.18,
          129.22,
          130.08,
          132.36,
          110.14,
          100.75,
          114.91,
          130.28,
          126.08,
          109.64,
          135.79
         ],
         "yaxis": "y"
        },
        {
         "hovertemplate": "GEO=Québec, Quebec<br>Year=%{x}<br>Value=%{y}<extra></extra>",
         "legendgroup": "Québec, Quebec",
         "line": {
          "color": "#F6F926",
          "dash": "solid"
         },
         "marker": {
          "symbol": "circle"
         },
         "mode": "lines",
         "name": "Québec, Quebec",
         "orientation": "v",
         "showlegend": true,
         "type": "scatter",
         "x": [
          1979,
          1980,
          1981,
          1982,
          1983,
          1984,
          1985,
          1986,
          1987,
          1988,
          1989,
          1990,
          1991,
          1992,
          1993,
          1994,
          1995,
          1996,
          1997,
          1998,
          1999,
          2000,
          2001,
          2002,
          2003,
          2004,
          2005,
          2006,
          2007,
          2008,
          2009,
          2010,
          2011,
          2012,
          2013,
          2014,
          2015,
          2016,
          2017,
          2018,
          2019,
          2020,
          2021
         ],
         "xaxis": "x",
         "y": [
          24.09,
          29.27,
          40.46,
          53.73,
          55.69,
          56.2,
          57.82,
          55.01,
          56.41,
          55.23,
          56.26,
          57.75,
          60.95,
          59.43,
          57.64,
          56.33,
          57.2,
          59.12,
          58.82,
          55.7,
          59.44,
          71.89,
          72.58,
          69.54,
          75.42,
          83.78,
          96.66,
          101.11,
          104.57,
          124.55,
          96.72,
          106.58,
          129,
          135.2,
          134.65,
          135.04,
          112.11,
          100.18,
          111.57,
          128.63,
          124.84,
          107.91,
          131.86
         ],
         "yaxis": "y"
        },
        {
         "hovertemplate": "GEO=Regina, Saskatchewan<br>Year=%{x}<br>Value=%{y}<extra></extra>",
         "legendgroup": "Regina, Saskatchewan",
         "line": {
          "color": "#FF9616",
          "dash": "solid"
         },
         "marker": {
          "symbol": "circle"
         },
         "mode": "lines",
         "name": "Regina, Saskatchewan",
         "orientation": "v",
         "showlegend": true,
         "type": "scatter",
         "x": [
          1979,
          1980,
          1981,
          1982,
          1983,
          1984,
          1985,
          1986,
          1987,
          1988,
          1989,
          1990,
          1991,
          1992,
          1993,
          1994,
          1995,
          1996,
          1997,
          1998,
          1999,
          2000,
          2001,
          2002,
          2003,
          2004,
          2005,
          2006,
          2007,
          2008,
          2009,
          2010,
          2011,
          2012,
          2013,
          2014,
          2015,
          2016,
          2017,
          2018,
          2019,
          2020,
          2021
         ],
         "xaxis": "x",
         "y": [
          23.47,
          27.88,
          38.04,
          39.2,
          40.48,
          43.85,
          46.72,
          38.2,
          44.78,
          46.02,
          49.5,
          51.56,
          49.13,
          49.9,
          52.6,
          53.73,
          54.95,
          57.05,
          58,
          56.1,
          59.16,
          70.68,
          71.83,
          69.75,
          73.8,
          80.01,
          93.92,
          98.39,
          103.9,
          121.89,
          94.91,
          101.99,
          122.95,
          123.26,
          122.51,
          129.43,
          103.2,
          94.21,
          103.08,
          119.92,
          117.19,
          101.78,
          126.42
         ],
         "yaxis": "y"
        },
        {
         "hovertemplate": "GEO=Saint John, New Brunswick<br>Year=%{x}<br>Value=%{y}<extra></extra>",
         "legendgroup": "Saint John, New Brunswick",
         "line": {
          "color": "#479B55",
          "dash": "solid"
         },
         "marker": {
          "symbol": "circle"
         },
         "mode": "lines",
         "name": "Saint John, New Brunswick",
         "orientation": "v",
         "showlegend": true,
         "type": "scatter",
         "x": [
          1979,
          1980,
          1981,
          1982,
          1983,
          1984,
          1985,
          1986,
          1987,
          1988,
          1989,
          1990,
          1991,
          1992,
          1993,
          1994,
          1995,
          1996,
          1997,
          1998,
          1999,
          2000,
          2001,
          2002,
          2003,
          2004,
          2005,
          2006,
          2007,
          2008,
          2009,
          2010,
          2011,
          2012,
          2013,
          2014,
          2015,
          2016,
          2017,
          2018,
          2019,
          2020,
          2021
         ],
         "xaxis": "x",
         "y": [
          24.38,
          27.98,
          37.46,
          44.75,
          50.5,
          51.68,
          56.15,
          52.95,
          48.83,
          50.17,
          52.18,
          51.62,
          54.97,
          54.27,
          54.97,
          54.22,
          55.78,
          56,
          60.02,
          56.57,
          59.02,
          73.93,
          71.33,
          72.07,
          78.73,
          86.62,
          99.44,
          103.17,
          103.12,
          120.17,
          93.66,
          103.14,
          125.22,
          131.06,
          128.48,
          131.13,
          107.3,
          98.6,
          109.37,
          123.99,
          122.57,
          99.44,
          128.35
         ],
         "yaxis": "y"
        },
        {
         "hovertemplate": "GEO=Saskatoon, Saskatchewan<br>Year=%{x}<br>Value=%{y}<extra></extra>",
         "legendgroup": "Saskatoon, Saskatchewan",
         "line": {
          "color": "#EEA6FB",
          "dash": "solid"
         },
         "marker": {
          "symbol": "circle"
         },
         "mode": "lines",
         "name": "Saskatoon, Saskatchewan",
         "orientation": "v",
         "showlegend": true,
         "type": "scatter",
         "x": [
          1979,
          1980,
          1981,
          1982,
          1983,
          1984,
          1985,
          1986,
          1987,
          1988,
          1989,
          1990,
          1991,
          1992,
          1993,
          1994,
          1995,
          1996,
          1997,
          1998,
          1999,
          2000,
          2001,
          2002,
          2003,
          2004,
          2005,
          2006,
          2007,
          2008,
          2009,
          2010,
          2011,
          2012,
          2013,
          2014,
          2015,
          2016,
          2017,
          2018,
          2019,
          2020,
          2021
         ],
         "xaxis": "x",
         "y": [
          23.92,
          28.23,
          37.62,
          39.38,
          41.65,
          44.38,
          48.22,
          43.09,
          46.51,
          47.19,
          51.95,
          54.45,
          52,
          50.81,
          53.68,
          53.41,
          55.8,
          59.24,
          58.52,
          57.07,
          59.07,
          70.91,
          72.25,
          71.59,
          75.28,
          81.6,
          94.41,
          99.78,
          104.1,
          120.85,
          95.95,
          102.96,
          121.23,
          124.35,
          119.36,
          129.12,
          103.08,
          94.02,
          102.08,
          120.32,
          119.22,
          101.48,
          125.36
         ],
         "yaxis": "y"
        },
        {
         "hovertemplate": "GEO=St. John's, Newfoundland and Labrador<br>Year=%{x}<br>Value=%{y}<extra></extra>",
         "legendgroup": "St. John's, Newfoundland and Labrador",
         "line": {
          "color": "#DC587D",
          "dash": "solid"
         },
         "marker": {
          "symbol": "circle"
         },
         "mode": "lines",
         "name": "St. John's, Newfoundland and Labrador",
         "orientation": "v",
         "showlegend": true,
         "type": "scatter",
         "x": [
          1979,
          1980,
          1981,
          1982,
          1983,
          1984,
          1985,
          1986,
          1987,
          1988,
          1989,
          1990,
          1991,
          1992,
          1993,
          1994,
          1995,
          1996,
          1997,
          1998,
          1999,
          2000,
          2001,
          2002,
          2003,
          2004,
          2005,
          2006,
          2007,
          2008,
          2009,
          2010,
          2011,
          2012,
          2013,
          2014,
          2015,
          2016,
          2017,
          2018,
          2019,
          2020,
          2021
         ],
         "xaxis": "x",
         "y": [
          27.22,
          32.4,
          42.82,
          50.58,
          55.48,
          58.07,
          62.84,
          57.92,
          56.52,
          55.42,
          57.28,
          59.87,
          63.39,
          61.3,
          59.64,
          60.38,
          63.28,
          62.76,
          66.9,
          63.96,
          65.03,
          81.46,
          78.62,
          75.28,
          80.7,
          89.28,
          101.79,
          107.01,
          109.97,
          126.46,
          99.98,
          109.89,
          129.66,
          133.84,
          127.7,
          128.69,
          105.85,
          104.67,
          116.36,
          126.68,
          121.71,
          101.59,
          135.54
         ],
         "yaxis": "y"
        },
        {
         "hovertemplate": "GEO=Thunder Bay, Ontario<br>Year=%{x}<br>Value=%{y}<extra></extra>",
         "legendgroup": "Thunder Bay, Ontario",
         "line": {
          "color": "#D626FF",
          "dash": "solid"
         },
         "marker": {
          "symbol": "circle"
         },
         "mode": "lines",
         "name": "Thunder Bay, Ontario",
         "orientation": "v",
         "showlegend": true,
         "type": "scatter",
         "x": [
          1979,
          1980,
          1981,
          1982,
          1983,
          1984,
          1985,
          1986,
          1987,
          1988,
          1989,
          1990,
          1991,
          1992,
          1993,
          1994,
          1995,
          1996,
          1997,
          1998,
          1999,
          2000,
          2001,
          2002,
          2003,
          2004,
          2005,
          2006,
          2007,
          2008,
          2009,
          2010,
          2011,
          2012,
          2013,
          2014,
          2015,
          2016,
          2017,
          2018,
          2019,
          2020,
          2021
         ],
         "xaxis": "x",
         "y": [
          24.15,
          28.64,
          38.63,
          44.5,
          44.43,
          48.46,
          53.67,
          48.11,
          49.35,
          52.62,
          53.72,
          57.05,
          58.29,
          56.86,
          56.75,
          56.56,
          57.99,
          62.3,
          61.97,
          55.72,
          59.23,
          73.73,
          73.95,
          71.04,
          77.6,
          83,
          95.81,
          100.21,
          108,
          123.63,
          99.95,
          110.55,
          134.14,
          137.47,
          136.04,
          140.03,
          117.14,
          109.6,
          122.91,
          141.25,
          138.95,
          122.85,
          146.54
         ],
         "yaxis": "y"
        },
        {
         "hovertemplate": "GEO=Toronto, Ontario<br>Year=%{x}<br>Value=%{y}<extra></extra>",
         "legendgroup": "Toronto, Ontario",
         "line": {
          "color": "#6E899C",
          "dash": "solid"
         },
         "marker": {
          "symbol": "circle"
         },
         "mode": "lines",
         "name": "Toronto, Ontario",
         "orientation": "v",
         "showlegend": true,
         "type": "scatter",
         "x": [
          1979,
          1980,
          1981,
          1982,
          1983,
          1984,
          1985,
          1986,
          1987,
          1988,
          1989,
          1990,
          1991,
          1992,
          1993,
          1994,
          1995,
          1996,
          1997,
          1998,
          1999,
          2000,
          2001,
          2002,
          2003,
          2004,
          2005,
          2006,
          2007,
          2008,
          2009,
          2010,
          2011,
          2012,
          2013,
          2014,
          2015,
          2016,
          2017,
          2018,
          2019,
          2020,
          2021
         ],
         "xaxis": "x",
         "y": [
          24.18,
          29,
          39.1,
          45.76,
          46.43,
          48.64,
          50.98,
          45.7,
          48.38,
          48.08,
          50.57,
          53.16,
          53.83,
          52.12,
          51.62,
          50.87,
          52.65,
          56.24,
          55.65,
          52.74,
          56.63,
          70.96,
          69.29,
          66.64,
          71.73,
          77.83,
          90.99,
          95.35,
          98.86,
          117.46,
          93.12,
          104.6,
          128.27,
          130.06,
          130.85,
          134.27,
          112.48,
          102.7,
          117.28,
          132.31,
          125.39,
          109.48,
          136.58
         ],
         "yaxis": "y"
        },
        {
         "hovertemplate": "GEO=Vancouver, British Columbia<br>Year=%{x}<br>Value=%{y}<extra></extra>",
         "legendgroup": "Vancouver, British Columbia",
         "line": {
          "color": "#00B5F7",
          "dash": "solid"
         },
         "marker": {
          "symbol": "circle"
         },
         "mode": "lines",
         "name": "Vancouver, British Columbia",
         "orientation": "v",
         "showlegend": true,
         "type": "scatter",
         "x": [
          1979,
          1980,
          1981,
          1982,
          1983,
          1984,
          1985,
          1986,
          1987,
          1988,
          1989,
          1990,
          1991,
          1992,
          1993,
          1994,
          1995,
          1996,
          1997,
          1998,
          1999,
          2000,
          2001,
          2002,
          2003,
          2004,
          2005,
          2006,
          2007,
          2008,
          2009,
          2010,
          2011,
          2012,
          2013,
          2014,
          2015,
          2016,
          2017,
          2018,
          2019,
          2020,
          2021
         ],
         "xaxis": "x",
         "y": [
          23.21,
          28.42,
          39.16,
          44.66,
          48.64,
          51.98,
          55.69,
          47.32,
          50.32,
          48.11,
          52.91,
          55.7,
          56.55,
          53.49,
          54.43,
          55.29,
          57.27,
          58.63,
          57.88,
          53.35,
          55.58,
          69.32,
          70.29,
          69.57,
          76.67,
          85.76,
          99.98,
          104.91,
          108.55,
          127.07,
          103.21,
          117.02,
          135.21,
          139.6,
          139.27,
          141.68,
          122.87,
          115.6,
          129.52,
          147.37,
          144.98,
          121.94,
          151.04
         ],
         "yaxis": "y"
        },
        {
         "hovertemplate": "GEO=Winnipeg, Manitoba<br>Year=%{x}<br>Value=%{y}<extra></extra>",
         "legendgroup": "Winnipeg, Manitoba",
         "line": {
          "color": "#B68E00",
          "dash": "solid"
         },
         "marker": {
          "symbol": "circle"
         },
         "mode": "lines",
         "name": "Winnipeg, Manitoba",
         "orientation": "v",
         "showlegend": true,
         "type": "scatter",
         "x": [
          1979,
          1980,
          1981,
          1982,
          1983,
          1984,
          1985,
          1986,
          1987,
          1988,
          1989,
          1990,
          1991,
          1992,
          1993,
          1994,
          1995,
          1996,
          1997,
          1998,
          1999,
          2000,
          2001,
          2002,
          2003,
          2004,
          2005,
          2006,
          2007,
          2008,
          2009,
          2010,
          2011,
          2012,
          2013,
          2014,
          2015,
          2016,
          2017,
          2018,
          2019,
          2020,
          2021
         ],
         "xaxis": "x",
         "y": [
          22.62,
          27.22,
          36.32,
          41.12,
          47.47,
          48.47,
          51.77,
          48.99,
          47.99,
          45.61,
          48.69,
          51.96,
          52.47,
          49.72,
          51.5,
          52.01,
          53.78,
          55.87,
          56.27,
          54.78,
          57.02,
          66.92,
          68.06,
          63.87,
          68.7,
          76.64,
          91.88,
          96.13,
          101.73,
          120.65,
          93.28,
          99.77,
          118.73,
          121.72,
          123.88,
          127.49,
          102.24,
          95.25,
          103.21,
          120.44,
          117.81,
          101.78,
          127.48
         ],
         "yaxis": "y"
        },
        {
         "hovertemplate": "GEO=Victoria, British Columbia<br>Year=%{x}<br>Value=%{y}<extra></extra>",
         "legendgroup": "Victoria, British Columbia",
         "line": {
          "color": "#C9FBE5",
          "dash": "solid"
         },
         "marker": {
          "symbol": "circle"
         },
         "mode": "lines",
         "name": "Victoria, British Columbia",
         "orientation": "v",
         "showlegend": true,
         "type": "scatter",
         "x": [
          1980,
          1981,
          1982,
          1983,
          1984,
          1985,
          1986,
          1987,
          1988,
          1989,
          1990,
          1991,
          1992,
          1993,
          1994,
          1995,
          1996,
          1997,
          1998,
          1999,
          2000,
          2001,
          2002,
          2003,
          2004,
          2005,
          2006,
          2007,
          2008,
          2009,
          2010,
          2011,
          2012,
          2013,
          2014,
          2015,
          2016,
          2017,
          2018,
          2019,
          2020,
          2021
         ],
         "xaxis": "x",
         "y": [
          26.32,
          36.54,
          42.37,
          45.37,
          50.48,
          54.38,
          46.97,
          47.52,
          45.28,
          50.39,
          55.54,
          55.84,
          51.79,
          51.45,
          52.24,
          54.37,
          56.67,
          57.25,
          54.11,
          58.4,
          72.07,
          73.94,
          71.49,
          79.09,
          88.28,
          101.09,
          106.21,
          108.97,
          128.44,
          102.9,
          113.19,
          130.52,
          132.14,
          133.98,
          136.76,
          120.09,
          112.82,
          126.6,
          145.06,
          144.75,
          125.58,
          151.3
         ],
         "yaxis": "y"
        },
        {
         "hovertemplate": "GEO=Whitehorse, Yukon<br>Year=%{x}<br>Value=%{y}<extra></extra>",
         "legendgroup": "Whitehorse, Yukon",
         "line": {
          "color": "#FF0092",
          "dash": "solid"
         },
         "marker": {
          "symbol": "circle"
         },
         "mode": "lines",
         "name": "Whitehorse, Yukon",
         "orientation": "v",
         "showlegend": true,
         "type": "scatter",
         "x": [
          1990,
          1991,
          1992,
          1993,
          1994,
          1995,
          1996,
          1997,
          1998,
          1999,
          2000,
          2001,
          2002,
          2003,
          2004,
          2005,
          2006,
          2007,
          2008,
          2009,
          2010,
          2011,
          2012,
          2013,
          2014,
          2015,
          2016,
          2017,
          2018,
          2019,
          2020,
          2021
         ],
         "xaxis": "x",
         "y": [
          58.42,
          61.48,
          58.29,
          57.5,
          57.81,
          60.66,
          63.6,
          65.26,
          64.23,
          64.33,
          77.48,
          80.54,
          77.9,
          82.58,
          89.93,
          103.94,
          107.99,
          111.56,
          130.37,
          102.79,
          113.38,
          133.03,
          137.72,
          137.98,
          140.29,
          116.98,
          107.55,
          116.25,
          135.04,
          137.72,
          122.62,
          141.5
         ],
         "yaxis": "y"
        },
        {
         "hovertemplate": "GEO=Yellowknife, Northwest Territories<br>Year=%{x}<br>Value=%{y}<extra></extra>",
         "legendgroup": "Yellowknife, Northwest Territories",
         "line": {
          "color": "#22FFA7",
          "dash": "solid"
         },
         "marker": {
          "symbol": "circle"
         },
         "mode": "lines",
         "name": "Yellowknife, Northwest Territories",
         "orientation": "v",
         "showlegend": true,
         "type": "scatter",
         "x": [
          1990,
          1991,
          1992,
          1993,
          1994,
          1995,
          1996,
          1997,
          1998,
          1999,
          2000,
          2001,
          2002,
          2003,
          2004,
          2005,
          2006,
          2007,
          2008,
          2009,
          2010,
          2011,
          2012,
          2013,
          2014,
          2015,
          2016,
          2017,
          2018,
          2019,
          2020,
          2021
         ],
         "xaxis": "x",
         "y": [
          57.3,
          61.37,
          60.49,
          61.83,
          62.41,
          65.06,
          67.15,
          68,
          66.34,
          68.24,
          80.27,
          82.91,
          82.9,
          86.57,
          90.45,
          102.75,
          109.79,
          116.75,
          137.1,
          109.23,
          116.44,
          134.74,
          140.1,
          136.76,
          140.61,
          119.11,
          108.55,
          116.29,
          134.76,
          132.61,
          113.75,
          136.13
         ],
         "yaxis": "y"
        }
       ],
       "layout": {
        "legend": {
         "title": {
          "text": "GEO"
         },
         "tracegroupgap": 0
        },
        "margin": {
         "t": 60
        },
        "template": {
         "data": {
          "bar": [
           {
            "error_x": {
             "color": "#2a3f5f"
            },
            "error_y": {
             "color": "#2a3f5f"
            },
            "marker": {
             "line": {
              "color": "#E5ECF6",
              "width": 0.5
             },
             "pattern": {
              "fillmode": "overlay",
              "size": 10,
              "solidity": 0.2
             }
            },
            "type": "bar"
           }
          ],
          "barpolar": [
           {
            "marker": {
             "line": {
              "color": "#E5ECF6",
              "width": 0.5
             },
             "pattern": {
              "fillmode": "overlay",
              "size": 10,
              "solidity": 0.2
             }
            },
            "type": "barpolar"
           }
          ],
          "carpet": [
           {
            "aaxis": {
             "endlinecolor": "#2a3f5f",
             "gridcolor": "white",
             "linecolor": "white",
             "minorgridcolor": "white",
             "startlinecolor": "#2a3f5f"
            },
            "baxis": {
             "endlinecolor": "#2a3f5f",
             "gridcolor": "white",
             "linecolor": "white",
             "minorgridcolor": "white",
             "startlinecolor": "#2a3f5f"
            },
            "type": "carpet"
           }
          ],
          "choropleth": [
           {
            "colorbar": {
             "outlinewidth": 0,
             "ticks": ""
            },
            "type": "choropleth"
           }
          ],
          "contour": [
           {
            "colorbar": {
             "outlinewidth": 0,
             "ticks": ""
            },
            "colorscale": [
             [
              0,
              "#0d0887"
             ],
             [
              0.1111111111111111,
              "#46039f"
             ],
             [
              0.2222222222222222,
              "#7201a8"
             ],
             [
              0.3333333333333333,
              "#9c179e"
             ],
             [
              0.4444444444444444,
              "#bd3786"
             ],
             [
              0.5555555555555556,
              "#d8576b"
             ],
             [
              0.6666666666666666,
              "#ed7953"
             ],
             [
              0.7777777777777778,
              "#fb9f3a"
             ],
             [
              0.8888888888888888,
              "#fdca26"
             ],
             [
              1,
              "#f0f921"
             ]
            ],
            "type": "contour"
           }
          ],
          "contourcarpet": [
           {
            "colorbar": {
             "outlinewidth": 0,
             "ticks": ""
            },
            "type": "contourcarpet"
           }
          ],
          "heatmap": [
           {
            "colorbar": {
             "outlinewidth": 0,
             "ticks": ""
            },
            "colorscale": [
             [
              0,
              "#0d0887"
             ],
             [
              0.1111111111111111,
              "#46039f"
             ],
             [
              0.2222222222222222,
              "#7201a8"
             ],
             [
              0.3333333333333333,
              "#9c179e"
             ],
             [
              0.4444444444444444,
              "#bd3786"
             ],
             [
              0.5555555555555556,
              "#d8576b"
             ],
             [
              0.6666666666666666,
              "#ed7953"
             ],
             [
              0.7777777777777778,
              "#fb9f3a"
             ],
             [
              0.8888888888888888,
              "#fdca26"
             ],
             [
              1,
              "#f0f921"
             ]
            ],
            "type": "heatmap"
           }
          ],
          "heatmapgl": [
           {
            "colorbar": {
             "outlinewidth": 0,
             "ticks": ""
            },
            "colorscale": [
             [
              0,
              "#0d0887"
             ],
             [
              0.1111111111111111,
              "#46039f"
             ],
             [
              0.2222222222222222,
              "#7201a8"
             ],
             [
              0.3333333333333333,
              "#9c179e"
             ],
             [
              0.4444444444444444,
              "#bd3786"
             ],
             [
              0.5555555555555556,
              "#d8576b"
             ],
             [
              0.6666666666666666,
              "#ed7953"
             ],
             [
              0.7777777777777778,
              "#fb9f3a"
             ],
             [
              0.8888888888888888,
              "#fdca26"
             ],
             [
              1,
              "#f0f921"
             ]
            ],
            "type": "heatmapgl"
           }
          ],
          "histogram": [
           {
            "marker": {
             "pattern": {
              "fillmode": "overlay",
              "size": 10,
              "solidity": 0.2
             }
            },
            "type": "histogram"
           }
          ],
          "histogram2d": [
           {
            "colorbar": {
             "outlinewidth": 0,
             "ticks": ""
            },
            "colorscale": [
             [
              0,
              "#0d0887"
             ],
             [
              0.1111111111111111,
              "#46039f"
             ],
             [
              0.2222222222222222,
              "#7201a8"
             ],
             [
              0.3333333333333333,
              "#9c179e"
             ],
             [
              0.4444444444444444,
              "#bd3786"
             ],
             [
              0.5555555555555556,
              "#d8576b"
             ],
             [
              0.6666666666666666,
              "#ed7953"
             ],
             [
              0.7777777777777778,
              "#fb9f3a"
             ],
             [
              0.8888888888888888,
              "#fdca26"
             ],
             [
              1,
              "#f0f921"
             ]
            ],
            "type": "histogram2d"
           }
          ],
          "histogram2dcontour": [
           {
            "colorbar": {
             "outlinewidth": 0,
             "ticks": ""
            },
            "colorscale": [
             [
              0,
              "#0d0887"
             ],
             [
              0.1111111111111111,
              "#46039f"
             ],
             [
              0.2222222222222222,
              "#7201a8"
             ],
             [
              0.3333333333333333,
              "#9c179e"
             ],
             [
              0.4444444444444444,
              "#bd3786"
             ],
             [
              0.5555555555555556,
              "#d8576b"
             ],
             [
              0.6666666666666666,
              "#ed7953"
             ],
             [
              0.7777777777777778,
              "#fb9f3a"
             ],
             [
              0.8888888888888888,
              "#fdca26"
             ],
             [
              1,
              "#f0f921"
             ]
            ],
            "type": "histogram2dcontour"
           }
          ],
          "mesh3d": [
           {
            "colorbar": {
             "outlinewidth": 0,
             "ticks": ""
            },
            "type": "mesh3d"
           }
          ],
          "parcoords": [
           {
            "line": {
             "colorbar": {
              "outlinewidth": 0,
              "ticks": ""
             }
            },
            "type": "parcoords"
           }
          ],
          "pie": [
           {
            "automargin": true,
            "type": "pie"
           }
          ],
          "scatter": [
           {
            "fillpattern": {
             "fillmode": "overlay",
             "size": 10,
             "solidity": 0.2
            },
            "type": "scatter"
           }
          ],
          "scatter3d": [
           {
            "line": {
             "colorbar": {
              "outlinewidth": 0,
              "ticks": ""
             }
            },
            "marker": {
             "colorbar": {
              "outlinewidth": 0,
              "ticks": ""
             }
            },
            "type": "scatter3d"
           }
          ],
          "scattercarpet": [
           {
            "marker": {
             "colorbar": {
              "outlinewidth": 0,
              "ticks": ""
             }
            },
            "type": "scattercarpet"
           }
          ],
          "scattergeo": [
           {
            "marker": {
             "colorbar": {
              "outlinewidth": 0,
              "ticks": ""
             }
            },
            "type": "scattergeo"
           }
          ],
          "scattergl": [
           {
            "marker": {
             "colorbar": {
              "outlinewidth": 0,
              "ticks": ""
             }
            },
            "type": "scattergl"
           }
          ],
          "scattermapbox": [
           {
            "marker": {
             "colorbar": {
              "outlinewidth": 0,
              "ticks": ""
             }
            },
            "type": "scattermapbox"
           }
          ],
          "scatterpolar": [
           {
            "marker": {
             "colorbar": {
              "outlinewidth": 0,
              "ticks": ""
             }
            },
            "type": "scatterpolar"
           }
          ],
          "scatterpolargl": [
           {
            "marker": {
             "colorbar": {
              "outlinewidth": 0,
              "ticks": ""
             }
            },
            "type": "scatterpolargl"
           }
          ],
          "scatterternary": [
           {
            "marker": {
             "colorbar": {
              "outlinewidth": 0,
              "ticks": ""
             }
            },
            "type": "scatterternary"
           }
          ],
          "surface": [
           {
            "colorbar": {
             "outlinewidth": 0,
             "ticks": ""
            },
            "colorscale": [
             [
              0,
              "#0d0887"
             ],
             [
              0.1111111111111111,
              "#46039f"
             ],
             [
              0.2222222222222222,
              "#7201a8"
             ],
             [
              0.3333333333333333,
              "#9c179e"
             ],
             [
              0.4444444444444444,
              "#bd3786"
             ],
             [
              0.5555555555555556,
              "#d8576b"
             ],
             [
              0.6666666666666666,
              "#ed7953"
             ],
             [
              0.7777777777777778,
              "#fb9f3a"
             ],
             [
              0.8888888888888888,
              "#fdca26"
             ],
             [
              1,
              "#f0f921"
             ]
            ],
            "type": "surface"
           }
          ],
          "table": [
           {
            "cells": {
             "fill": {
              "color": "#EBF0F8"
             },
             "line": {
              "color": "white"
             }
            },
            "header": {
             "fill": {
              "color": "#C8D4E3"
             },
             "line": {
              "color": "white"
             }
            },
            "type": "table"
           }
          ]
         },
         "layout": {
          "annotationdefaults": {
           "arrowcolor": "#2a3f5f",
           "arrowhead": 0,
           "arrowwidth": 1
          },
          "autotypenumbers": "strict",
          "coloraxis": {
           "colorbar": {
            "outlinewidth": 0,
            "ticks": ""
           }
          },
          "colorscale": {
           "diverging": [
            [
             0,
             "#8e0152"
            ],
            [
             0.1,
             "#c51b7d"
            ],
            [
             0.2,
             "#de77ae"
            ],
            [
             0.3,
             "#f1b6da"
            ],
            [
             0.4,
             "#fde0ef"
            ],
            [
             0.5,
             "#f7f7f7"
            ],
            [
             0.6,
             "#e6f5d0"
            ],
            [
             0.7,
             "#b8e186"
            ],
            [
             0.8,
             "#7fbc41"
            ],
            [
             0.9,
             "#4d9221"
            ],
            [
             1,
             "#276419"
            ]
           ],
           "sequential": [
            [
             0,
             "#0d0887"
            ],
            [
             0.1111111111111111,
             "#46039f"
            ],
            [
             0.2222222222222222,
             "#7201a8"
            ],
            [
             0.3333333333333333,
             "#9c179e"
            ],
            [
             0.4444444444444444,
             "#bd3786"
            ],
            [
             0.5555555555555556,
             "#d8576b"
            ],
            [
             0.6666666666666666,
             "#ed7953"
            ],
            [
             0.7777777777777778,
             "#fb9f3a"
            ],
            [
             0.8888888888888888,
             "#fdca26"
            ],
            [
             1,
             "#f0f921"
            ]
           ],
           "sequentialminus": [
            [
             0,
             "#0d0887"
            ],
            [
             0.1111111111111111,
             "#46039f"
            ],
            [
             0.2222222222222222,
             "#7201a8"
            ],
            [
             0.3333333333333333,
             "#9c179e"
            ],
            [
             0.4444444444444444,
             "#bd3786"
            ],
            [
             0.5555555555555556,
             "#d8576b"
            ],
            [
             0.6666666666666666,
             "#ed7953"
            ],
            [
             0.7777777777777778,
             "#fb9f3a"
            ],
            [
             0.8888888888888888,
             "#fdca26"
            ],
            [
             1,
             "#f0f921"
            ]
           ]
          },
          "colorway": [
           "#636efa",
           "#EF553B",
           "#00cc96",
           "#ab63fa",
           "#FFA15A",
           "#19d3f3",
           "#FF6692",
           "#B6E880",
           "#FF97FF",
           "#FECB52"
          ],
          "font": {
           "color": "#2a3f5f"
          },
          "geo": {
           "bgcolor": "white",
           "lakecolor": "white",
           "landcolor": "#E5ECF6",
           "showlakes": true,
           "showland": true,
           "subunitcolor": "white"
          },
          "hoverlabel": {
           "align": "left"
          },
          "hovermode": "closest",
          "mapbox": {
           "style": "light"
          },
          "paper_bgcolor": "white",
          "plot_bgcolor": "#E5ECF6",
          "polar": {
           "angularaxis": {
            "gridcolor": "white",
            "linecolor": "white",
            "ticks": ""
           },
           "bgcolor": "#E5ECF6",
           "radialaxis": {
            "gridcolor": "white",
            "linecolor": "white",
            "ticks": ""
           }
          },
          "scene": {
           "xaxis": {
            "backgroundcolor": "#E5ECF6",
            "gridcolor": "white",
            "gridwidth": 2,
            "linecolor": "white",
            "showbackground": true,
            "ticks": "",
            "zerolinecolor": "white"
           },
           "yaxis": {
            "backgroundcolor": "#E5ECF6",
            "gridcolor": "white",
            "gridwidth": 2,
            "linecolor": "white",
            "showbackground": true,
            "ticks": "",
            "zerolinecolor": "white"
           },
           "zaxis": {
            "backgroundcolor": "#E5ECF6",
            "gridcolor": "white",
            "gridwidth": 2,
            "linecolor": "white",
            "showbackground": true,
            "ticks": "",
            "zerolinecolor": "white"
           }
          },
          "shapedefaults": {
           "line": {
            "color": "#2a3f5f"
           }
          },
          "ternary": {
           "aaxis": {
            "gridcolor": "white",
            "linecolor": "white",
            "ticks": ""
           },
           "baxis": {
            "gridcolor": "white",
            "linecolor": "white",
            "ticks": ""
           },
           "bgcolor": "#E5ECF6",
           "caxis": {
            "gridcolor": "white",
            "linecolor": "white",
            "ticks": ""
           }
          },
          "title": {
           "x": 0.05
          },
          "xaxis": {
           "automargin": true,
           "gridcolor": "white",
           "linecolor": "white",
           "ticks": "",
           "title": {
            "standoff": 15
           },
           "zerolinecolor": "white",
           "zerolinewidth": 2
          },
          "yaxis": {
           "automargin": true,
           "gridcolor": "white",
           "linecolor": "white",
           "ticks": "",
           "title": {
            "standoff": 15
           },
           "zerolinecolor": "white",
           "zerolinewidth": 2
          }
         }
        },
        "xaxis": {
         "anchor": "y",
         "domain": [
          0,
          1
         ],
         "title": {
          "text": "Year"
         }
        },
        "yaxis": {
         "anchor": "x",
         "domain": [
          0,
          1
         ],
         "title": {
          "text": "Value"
         }
        }
       }
      }
     },
     "metadata": {},
     "output_type": "display_data"
    }
   ],
   "source": [
    "price_bycity = data.groupby(['Year','GEO'])['VALUE'].mean().reset_index(name='Value').round(2)\n",
    "fig = px.line(price_bycity\n",
    "                   ,x='Year', y = \"Value\", \n",
    "                   color = \"GEO\", color_discrete_sequence=px.colors.qualitative.Light24)\n",
    "\n",
    "fig.show()"
   ]
  },
  {
   "cell_type": "code",
   "execution_count": 35,
   "metadata": {},
   "outputs": [
    {
     "data": {
      "text/html": [
       "<div>\n",
       "<style scoped>\n",
       "    .dataframe tbody tr th:only-of-type {\n",
       "        vertical-align: middle;\n",
       "    }\n",
       "\n",
       "    .dataframe tbody tr th {\n",
       "        vertical-align: top;\n",
       "    }\n",
       "\n",
       "    .dataframe thead th {\n",
       "        text-align: right;\n",
       "    }\n",
       "</style>\n",
       "<table border=\"1\" class=\"dataframe\">\n",
       "  <thead>\n",
       "    <tr style=\"text-align: right;\">\n",
       "      <th></th>\n",
       "      <th>Month</th>\n",
       "      <th>VALUE</th>\n",
       "    </tr>\n",
       "  </thead>\n",
       "  <tbody>\n",
       "    <tr>\n",
       "      <th>3</th>\n",
       "      <td>Jan</td>\n",
       "      <td>120.750</td>\n",
       "    </tr>\n",
       "    <tr>\n",
       "      <th>2</th>\n",
       "      <td>Feb</td>\n",
       "      <td>125.875</td>\n",
       "    </tr>\n",
       "    <tr>\n",
       "      <th>6</th>\n",
       "      <td>Mar</td>\n",
       "      <td>131.075</td>\n",
       "    </tr>\n",
       "    <tr>\n",
       "      <th>0</th>\n",
       "      <td>Apr</td>\n",
       "      <td>133.375</td>\n",
       "    </tr>\n",
       "    <tr>\n",
       "      <th>7</th>\n",
       "      <td>May</td>\n",
       "      <td>136.875</td>\n",
       "    </tr>\n",
       "    <tr>\n",
       "      <th>5</th>\n",
       "      <td>Jun</td>\n",
       "      <td>138.975</td>\n",
       "    </tr>\n",
       "    <tr>\n",
       "      <th>4</th>\n",
       "      <td>Jul</td>\n",
       "      <td>141.425</td>\n",
       "    </tr>\n",
       "    <tr>\n",
       "      <th>1</th>\n",
       "      <td>Aug</td>\n",
       "      <td>142.225</td>\n",
       "    </tr>\n",
       "    <tr>\n",
       "      <th>9</th>\n",
       "      <td>Sep</td>\n",
       "      <td>143.925</td>\n",
       "    </tr>\n",
       "    <tr>\n",
       "      <th>8</th>\n",
       "      <td>Oct</td>\n",
       "      <td>151.325</td>\n",
       "    </tr>\n",
       "  </tbody>\n",
       "</table>\n",
       "</div>"
      ],
      "text/plain": [
       "  Month    VALUE\n",
       "3   Jan  120.750\n",
       "2   Feb  125.875\n",
       "6   Mar  131.075\n",
       "0   Apr  133.375\n",
       "7   May  136.875\n",
       "5   Jun  138.975\n",
       "4   Jul  141.425\n",
       "1   Aug  142.225\n",
       "9   Sep  143.925\n",
       "8   Oct  151.325"
      ]
     },
     "execution_count": 35,
     "metadata": {},
     "output_type": "execute_result"
    }
   ],
   "source": [
    "monthly_trend = data[(data['Year'] == 2021) & (data['GEO'] == 'Toronto, Ontario')]\n",
    "group_month = monthly_trend.groupby(['Month'])['VALUE'].mean().reset_index().sort_values(by='VALUE')\n"
   ]
  },
  {
   "cell_type": "code",
   "execution_count": 39,
   "metadata": {},
   "outputs": [
    {
     "data": {
      "application/vnd.plotly.v1+json": {
       "config": {
        "plotlyServerURL": "https://plot.ly"
       },
       "data": [
        {
         "hovertemplate": "Month=%{x}<br>VALUE=%{y}<extra></extra>",
         "legendgroup": "",
         "line": {
          "color": "#636efa",
          "dash": "solid"
         },
         "marker": {
          "symbol": "circle"
         },
         "mode": "markers+lines",
         "name": "",
         "orientation": "v",
         "showlegend": false,
         "type": "scatter",
         "x": [
          "Jan",
          "Feb",
          "Mar",
          "Apr",
          "May",
          "Jun",
          "Jul",
          "Aug",
          "Sep",
          "Oct"
         ],
         "xaxis": "x",
         "y": [
          120.75,
          125.875,
          131.07500000000002,
          133.375,
          136.875,
          138.975,
          141.425,
          142.225,
          143.925,
          151.325
         ],
         "yaxis": "y"
        }
       ],
       "layout": {
        "legend": {
         "tracegroupgap": 0
        },
        "margin": {
         "t": 60
        },
        "template": {
         "data": {
          "bar": [
           {
            "error_x": {
             "color": "#2a3f5f"
            },
            "error_y": {
             "color": "#2a3f5f"
            },
            "marker": {
             "line": {
              "color": "#E5ECF6",
              "width": 0.5
             },
             "pattern": {
              "fillmode": "overlay",
              "size": 10,
              "solidity": 0.2
             }
            },
            "type": "bar"
           }
          ],
          "barpolar": [
           {
            "marker": {
             "line": {
              "color": "#E5ECF6",
              "width": 0.5
             },
             "pattern": {
              "fillmode": "overlay",
              "size": 10,
              "solidity": 0.2
             }
            },
            "type": "barpolar"
           }
          ],
          "carpet": [
           {
            "aaxis": {
             "endlinecolor": "#2a3f5f",
             "gridcolor": "white",
             "linecolor": "white",
             "minorgridcolor": "white",
             "startlinecolor": "#2a3f5f"
            },
            "baxis": {
             "endlinecolor": "#2a3f5f",
             "gridcolor": "white",
             "linecolor": "white",
             "minorgridcolor": "white",
             "startlinecolor": "#2a3f5f"
            },
            "type": "carpet"
           }
          ],
          "choropleth": [
           {
            "colorbar": {
             "outlinewidth": 0,
             "ticks": ""
            },
            "type": "choropleth"
           }
          ],
          "contour": [
           {
            "colorbar": {
             "outlinewidth": 0,
             "ticks": ""
            },
            "colorscale": [
             [
              0,
              "#0d0887"
             ],
             [
              0.1111111111111111,
              "#46039f"
             ],
             [
              0.2222222222222222,
              "#7201a8"
             ],
             [
              0.3333333333333333,
              "#9c179e"
             ],
             [
              0.4444444444444444,
              "#bd3786"
             ],
             [
              0.5555555555555556,
              "#d8576b"
             ],
             [
              0.6666666666666666,
              "#ed7953"
             ],
             [
              0.7777777777777778,
              "#fb9f3a"
             ],
             [
              0.8888888888888888,
              "#fdca26"
             ],
             [
              1,
              "#f0f921"
             ]
            ],
            "type": "contour"
           }
          ],
          "contourcarpet": [
           {
            "colorbar": {
             "outlinewidth": 0,
             "ticks": ""
            },
            "type": "contourcarpet"
           }
          ],
          "heatmap": [
           {
            "colorbar": {
             "outlinewidth": 0,
             "ticks": ""
            },
            "colorscale": [
             [
              0,
              "#0d0887"
             ],
             [
              0.1111111111111111,
              "#46039f"
             ],
             [
              0.2222222222222222,
              "#7201a8"
             ],
             [
              0.3333333333333333,
              "#9c179e"
             ],
             [
              0.4444444444444444,
              "#bd3786"
             ],
             [
              0.5555555555555556,
              "#d8576b"
             ],
             [
              0.6666666666666666,
              "#ed7953"
             ],
             [
              0.7777777777777778,
              "#fb9f3a"
             ],
             [
              0.8888888888888888,
              "#fdca26"
             ],
             [
              1,
              "#f0f921"
             ]
            ],
            "type": "heatmap"
           }
          ],
          "heatmapgl": [
           {
            "colorbar": {
             "outlinewidth": 0,
             "ticks": ""
            },
            "colorscale": [
             [
              0,
              "#0d0887"
             ],
             [
              0.1111111111111111,
              "#46039f"
             ],
             [
              0.2222222222222222,
              "#7201a8"
             ],
             [
              0.3333333333333333,
              "#9c179e"
             ],
             [
              0.4444444444444444,
              "#bd3786"
             ],
             [
              0.5555555555555556,
              "#d8576b"
             ],
             [
              0.6666666666666666,
              "#ed7953"
             ],
             [
              0.7777777777777778,
              "#fb9f3a"
             ],
             [
              0.8888888888888888,
              "#fdca26"
             ],
             [
              1,
              "#f0f921"
             ]
            ],
            "type": "heatmapgl"
           }
          ],
          "histogram": [
           {
            "marker": {
             "pattern": {
              "fillmode": "overlay",
              "size": 10,
              "solidity": 0.2
             }
            },
            "type": "histogram"
           }
          ],
          "histogram2d": [
           {
            "colorbar": {
             "outlinewidth": 0,
             "ticks": ""
            },
            "colorscale": [
             [
              0,
              "#0d0887"
             ],
             [
              0.1111111111111111,
              "#46039f"
             ],
             [
              0.2222222222222222,
              "#7201a8"
             ],
             [
              0.3333333333333333,
              "#9c179e"
             ],
             [
              0.4444444444444444,
              "#bd3786"
             ],
             [
              0.5555555555555556,
              "#d8576b"
             ],
             [
              0.6666666666666666,
              "#ed7953"
             ],
             [
              0.7777777777777778,
              "#fb9f3a"
             ],
             [
              0.8888888888888888,
              "#fdca26"
             ],
             [
              1,
              "#f0f921"
             ]
            ],
            "type": "histogram2d"
           }
          ],
          "histogram2dcontour": [
           {
            "colorbar": {
             "outlinewidth": 0,
             "ticks": ""
            },
            "colorscale": [
             [
              0,
              "#0d0887"
             ],
             [
              0.1111111111111111,
              "#46039f"
             ],
             [
              0.2222222222222222,
              "#7201a8"
             ],
             [
              0.3333333333333333,
              "#9c179e"
             ],
             [
              0.4444444444444444,
              "#bd3786"
             ],
             [
              0.5555555555555556,
              "#d8576b"
             ],
             [
              0.6666666666666666,
              "#ed7953"
             ],
             [
              0.7777777777777778,
              "#fb9f3a"
             ],
             [
              0.8888888888888888,
              "#fdca26"
             ],
             [
              1,
              "#f0f921"
             ]
            ],
            "type": "histogram2dcontour"
           }
          ],
          "mesh3d": [
           {
            "colorbar": {
             "outlinewidth": 0,
             "ticks": ""
            },
            "type": "mesh3d"
           }
          ],
          "parcoords": [
           {
            "line": {
             "colorbar": {
              "outlinewidth": 0,
              "ticks": ""
             }
            },
            "type": "parcoords"
           }
          ],
          "pie": [
           {
            "automargin": true,
            "type": "pie"
           }
          ],
          "scatter": [
           {
            "fillpattern": {
             "fillmode": "overlay",
             "size": 10,
             "solidity": 0.2
            },
            "type": "scatter"
           }
          ],
          "scatter3d": [
           {
            "line": {
             "colorbar": {
              "outlinewidth": 0,
              "ticks": ""
             }
            },
            "marker": {
             "colorbar": {
              "outlinewidth": 0,
              "ticks": ""
             }
            },
            "type": "scatter3d"
           }
          ],
          "scattercarpet": [
           {
            "marker": {
             "colorbar": {
              "outlinewidth": 0,
              "ticks": ""
             }
            },
            "type": "scattercarpet"
           }
          ],
          "scattergeo": [
           {
            "marker": {
             "colorbar": {
              "outlinewidth": 0,
              "ticks": ""
             }
            },
            "type": "scattergeo"
           }
          ],
          "scattergl": [
           {
            "marker": {
             "colorbar": {
              "outlinewidth": 0,
              "ticks": ""
             }
            },
            "type": "scattergl"
           }
          ],
          "scattermapbox": [
           {
            "marker": {
             "colorbar": {
              "outlinewidth": 0,
              "ticks": ""
             }
            },
            "type": "scattermapbox"
           }
          ],
          "scatterpolar": [
           {
            "marker": {
             "colorbar": {
              "outlinewidth": 0,
              "ticks": ""
             }
            },
            "type": "scatterpolar"
           }
          ],
          "scatterpolargl": [
           {
            "marker": {
             "colorbar": {
              "outlinewidth": 0,
              "ticks": ""
             }
            },
            "type": "scatterpolargl"
           }
          ],
          "scatterternary": [
           {
            "marker": {
             "colorbar": {
              "outlinewidth": 0,
              "ticks": ""
             }
            },
            "type": "scatterternary"
           }
          ],
          "surface": [
           {
            "colorbar": {
             "outlinewidth": 0,
             "ticks": ""
            },
            "colorscale": [
             [
              0,
              "#0d0887"
             ],
             [
              0.1111111111111111,
              "#46039f"
             ],
             [
              0.2222222222222222,
              "#7201a8"
             ],
             [
              0.3333333333333333,
              "#9c179e"
             ],
             [
              0.4444444444444444,
              "#bd3786"
             ],
             [
              0.5555555555555556,
              "#d8576b"
             ],
             [
              0.6666666666666666,
              "#ed7953"
             ],
             [
              0.7777777777777778,
              "#fb9f3a"
             ],
             [
              0.8888888888888888,
              "#fdca26"
             ],
             [
              1,
              "#f0f921"
             ]
            ],
            "type": "surface"
           }
          ],
          "table": [
           {
            "cells": {
             "fill": {
              "color": "#EBF0F8"
             },
             "line": {
              "color": "white"
             }
            },
            "header": {
             "fill": {
              "color": "#C8D4E3"
             },
             "line": {
              "color": "white"
             }
            },
            "type": "table"
           }
          ]
         },
         "layout": {
          "annotationdefaults": {
           "arrowcolor": "#2a3f5f",
           "arrowhead": 0,
           "arrowwidth": 1
          },
          "autotypenumbers": "strict",
          "coloraxis": {
           "colorbar": {
            "outlinewidth": 0,
            "ticks": ""
           }
          },
          "colorscale": {
           "diverging": [
            [
             0,
             "#8e0152"
            ],
            [
             0.1,
             "#c51b7d"
            ],
            [
             0.2,
             "#de77ae"
            ],
            [
             0.3,
             "#f1b6da"
            ],
            [
             0.4,
             "#fde0ef"
            ],
            [
             0.5,
             "#f7f7f7"
            ],
            [
             0.6,
             "#e6f5d0"
            ],
            [
             0.7,
             "#b8e186"
            ],
            [
             0.8,
             "#7fbc41"
            ],
            [
             0.9,
             "#4d9221"
            ],
            [
             1,
             "#276419"
            ]
           ],
           "sequential": [
            [
             0,
             "#0d0887"
            ],
            [
             0.1111111111111111,
             "#46039f"
            ],
            [
             0.2222222222222222,
             "#7201a8"
            ],
            [
             0.3333333333333333,
             "#9c179e"
            ],
            [
             0.4444444444444444,
             "#bd3786"
            ],
            [
             0.5555555555555556,
             "#d8576b"
            ],
            [
             0.6666666666666666,
             "#ed7953"
            ],
            [
             0.7777777777777778,
             "#fb9f3a"
            ],
            [
             0.8888888888888888,
             "#fdca26"
            ],
            [
             1,
             "#f0f921"
            ]
           ],
           "sequentialminus": [
            [
             0,
             "#0d0887"
            ],
            [
             0.1111111111111111,
             "#46039f"
            ],
            [
             0.2222222222222222,
             "#7201a8"
            ],
            [
             0.3333333333333333,
             "#9c179e"
            ],
            [
             0.4444444444444444,
             "#bd3786"
            ],
            [
             0.5555555555555556,
             "#d8576b"
            ],
            [
             0.6666666666666666,
             "#ed7953"
            ],
            [
             0.7777777777777778,
             "#fb9f3a"
            ],
            [
             0.8888888888888888,
             "#fdca26"
            ],
            [
             1,
             "#f0f921"
            ]
           ]
          },
          "colorway": [
           "#636efa",
           "#EF553B",
           "#00cc96",
           "#ab63fa",
           "#FFA15A",
           "#19d3f3",
           "#FF6692",
           "#B6E880",
           "#FF97FF",
           "#FECB52"
          ],
          "font": {
           "color": "#2a3f5f"
          },
          "geo": {
           "bgcolor": "white",
           "lakecolor": "white",
           "landcolor": "#E5ECF6",
           "showlakes": true,
           "showland": true,
           "subunitcolor": "white"
          },
          "hoverlabel": {
           "align": "left"
          },
          "hovermode": "closest",
          "mapbox": {
           "style": "light"
          },
          "paper_bgcolor": "white",
          "plot_bgcolor": "#E5ECF6",
          "polar": {
           "angularaxis": {
            "gridcolor": "white",
            "linecolor": "white",
            "ticks": ""
           },
           "bgcolor": "#E5ECF6",
           "radialaxis": {
            "gridcolor": "white",
            "linecolor": "white",
            "ticks": ""
           }
          },
          "scene": {
           "xaxis": {
            "backgroundcolor": "#E5ECF6",
            "gridcolor": "white",
            "gridwidth": 2,
            "linecolor": "white",
            "showbackground": true,
            "ticks": "",
            "zerolinecolor": "white"
           },
           "yaxis": {
            "backgroundcolor": "#E5ECF6",
            "gridcolor": "white",
            "gridwidth": 2,
            "linecolor": "white",
            "showbackground": true,
            "ticks": "",
            "zerolinecolor": "white"
           },
           "zaxis": {
            "backgroundcolor": "#E5ECF6",
            "gridcolor": "white",
            "gridwidth": 2,
            "linecolor": "white",
            "showbackground": true,
            "ticks": "",
            "zerolinecolor": "white"
           }
          },
          "shapedefaults": {
           "line": {
            "color": "#2a3f5f"
           }
          },
          "ternary": {
           "aaxis": {
            "gridcolor": "white",
            "linecolor": "white",
            "ticks": ""
           },
           "baxis": {
            "gridcolor": "white",
            "linecolor": "white",
            "ticks": ""
           },
           "bgcolor": "#E5ECF6",
           "caxis": {
            "gridcolor": "white",
            "linecolor": "white",
            "ticks": ""
           }
          },
          "title": {
           "x": 0.05
          },
          "xaxis": {
           "automargin": true,
           "gridcolor": "white",
           "linecolor": "white",
           "ticks": "",
           "title": {
            "standoff": 15
           },
           "zerolinecolor": "white",
           "zerolinewidth": 2
          },
          "yaxis": {
           "automargin": true,
           "gridcolor": "white",
           "linecolor": "white",
           "ticks": "",
           "title": {
            "standoff": 15
           },
           "zerolinecolor": "white",
           "zerolinewidth": 2
          }
         }
        },
        "title": {
         "text": "Toronto Average Monthly Gasoline Price in 2021"
        },
        "xaxis": {
         "anchor": "y",
         "domain": [
          0,
          1
         ],
         "title": {
          "text": "Month"
         }
        },
        "yaxis": {
         "anchor": "x",
         "domain": [
          0,
          1
         ],
         "title": {
          "text": "Monthly Price, Cents per Litre"
         }
        }
       }
      }
     },
     "metadata": {},
     "output_type": "display_data"
    }
   ],
   "source": [
    "fig = px.line(group_month, x='Month', y='VALUE')\n",
    "fig.update_traces(mode='markers+lines')\n",
    "fig.update_layout(\n",
    "    title= 'Toronto Average Monthly Gasoline Price in 2021',\n",
    "    xaxis_title=\"Month\",\n",
    "    yaxis_title=\"Monthly Price, Cents per Litre\"\n",
    ")\n",
    "fig.show()"
   ]
  },
  {
   "cell_type": "code",
   "execution_count": 44,
   "metadata": {},
   "outputs": [
    {
     "data": {
      "application/vnd.plotly.v1+json": {
       "config": {
        "plotlyServerURL": "https://plot.ly"
       },
       "data": [
        {
         "hovertemplate": "TYPE=Regular unleaded gasoline at full service filling stations<br>Year=%{x}<br>Type=%{y}<extra></extra>",
         "legendgroup": "Regular unleaded gasoline at full service filling stations",
         "line": {
          "color": "#FD3216",
          "dash": "solid"
         },
         "marker": {
          "symbol": "circle"
         },
         "mode": "markers+lines",
         "name": "Regular unleaded gasoline at full service filling stations",
         "orientation": "v",
         "showlegend": true,
         "type": "scatter",
         "x": [
          1979,
          1980,
          1981,
          1982,
          1983,
          1984,
          1985,
          1986,
          1987,
          1988,
          1989,
          1990,
          1991,
          1992,
          1993,
          1994,
          1995,
          1996,
          1997,
          1998,
          1999,
          2000,
          2001,
          2002,
          2003,
          2004,
          2005,
          2006,
          2007,
          2008,
          2009,
          2010,
          2011,
          2012,
          2013
         ],
         "xaxis": "x",
         "y": [
          23.6,
          28.07,
          38,
          44.7,
          47.9,
          50.44,
          53.9,
          48.41,
          49.76,
          49.22,
          51.7,
          59.15,
          58.89,
          56.26,
          55.36,
          55.26,
          58.02,
          59.97,
          61.78,
          56.91,
          60.77,
          74.12,
          73.44,
          73.14,
          77.88,
          85.98,
          96.74,
          102.05,
          106.46,
          119.54,
          98.15,
          106.2,
          125.53,
          128.83,
          120.59
         ],
         "yaxis": "y"
        },
        {
         "hovertemplate": "TYPE=Diesel fuel at full service filling stations<br>Year=%{x}<br>Type=%{y}<extra></extra>",
         "legendgroup": "Diesel fuel at full service filling stations",
         "line": {
          "color": "#00FE35",
          "dash": "solid"
         },
         "marker": {
          "symbol": "circle"
         },
         "mode": "markers+lines",
         "name": "Diesel fuel at full service filling stations",
         "orientation": "v",
         "showlegend": true,
         "type": "scatter",
         "x": [
          1990,
          1991,
          1992,
          1993,
          1994,
          1995,
          1996,
          1997,
          1998,
          1999,
          2000,
          2001,
          2002,
          2003,
          2004,
          2005,
          2006,
          2007,
          2008,
          2009,
          2010,
          2011,
          2012,
          2013
         ],
         "xaxis": "x",
         "y": [
          52.53,
          56.22,
          53.96,
          53.19,
          52.59,
          53.26,
          55.06,
          57.95,
          56.35,
          56.24,
          69.67,
          71.31,
          66.42,
          71.85,
          78.48,
          96.39,
          100.46,
          102.79,
          129.05,
          93.7,
          104.32,
          126.65,
          129.83,
          131.32
         ],
         "yaxis": "y"
        },
        {
         "hovertemplate": "TYPE=Diesel fuel at self service filling stations<br>Year=%{x}<br>Type=%{y}<extra></extra>",
         "legendgroup": "Diesel fuel at self service filling stations",
         "line": {
          "color": "#6A76FC",
          "dash": "solid"
         },
         "marker": {
          "symbol": "circle"
         },
         "mode": "markers+lines",
         "name": "Diesel fuel at self service filling stations",
         "orientation": "v",
         "showlegend": true,
         "type": "scatter",
         "x": [
          1990,
          1991,
          1992,
          1993,
          1994,
          1995,
          1996,
          1997,
          1998,
          1999,
          2000,
          2001,
          2002,
          2003,
          2004,
          2005,
          2006,
          2007,
          2008,
          2009,
          2010,
          2011,
          2012,
          2013,
          2014,
          2015,
          2016,
          2017,
          2018,
          2019,
          2020,
          2021
         ],
         "xaxis": "x",
         "y": [
          51.24,
          54.71,
          52.24,
          51.52,
          51.28,
          51.89,
          53.69,
          55.81,
          53.73,
          54.74,
          67.54,
          69.59,
          64.12,
          69.39,
          75.54,
          93.15,
          97.63,
          99.9,
          126.32,
          91.04,
          101.27,
          123.59,
          126.5,
          131.22,
          136.49,
          110.37,
          98.7,
          110.2,
          128.92,
          125.87,
          105.24,
          128.51
         ],
         "yaxis": "y"
        },
        {
         "hovertemplate": "TYPE=Household heating fuel<br>Year=%{x}<br>Type=%{y}<extra></extra>",
         "legendgroup": "Household heating fuel",
         "line": {
          "color": "#FED4C4",
          "dash": "solid"
         },
         "marker": {
          "symbol": "circle"
         },
         "mode": "markers+lines",
         "name": "Household heating fuel",
         "orientation": "v",
         "showlegend": true,
         "type": "scatter",
         "x": [
          1990,
          1991,
          1992,
          1993,
          1994,
          1995,
          1996,
          1997,
          1998,
          1999,
          2000,
          2001,
          2002,
          2003,
          2004,
          2005,
          2006,
          2007,
          2008,
          2009,
          2010,
          2011,
          2012,
          2013,
          2014,
          2015,
          2016,
          2017,
          2018,
          2019,
          2020,
          2021
         ],
         "xaxis": "x",
         "y": [
          36.05,
          40.18,
          38.4,
          38.86,
          38.21,
          38.27,
          40.7,
          43,
          38.97,
          39.55,
          54.47,
          55.53,
          51.34,
          58.36,
          64.47,
          81.27,
          84.76,
          89.89,
          114.76,
          81.38,
          94.24,
          116.01,
          120.37,
          119.9,
          127.32,
          101.25,
          90.13,
          101.8,
          119.99,
          118.63,
          99.35,
          120.61
         ],
         "yaxis": "y"
        },
        {
         "hovertemplate": "TYPE=Premium unleaded gasoline at full service filling stations<br>Year=%{x}<br>Type=%{y}<extra></extra>",
         "legendgroup": "Premium unleaded gasoline at full service filling stations",
         "line": {
          "color": "#FE00CE",
          "dash": "solid"
         },
         "marker": {
          "symbol": "circle"
         },
         "mode": "markers+lines",
         "name": "Premium unleaded gasoline at full service filling stations",
         "orientation": "v",
         "showlegend": true,
         "type": "scatter",
         "x": [
          1990,
          1991,
          1992,
          1993,
          1994,
          1995,
          1996,
          1997,
          1998,
          1999,
          2000,
          2001,
          2002,
          2003,
          2004,
          2005,
          2006,
          2007,
          2008,
          2009,
          2010,
          2011,
          2012,
          2013
         ],
         "xaxis": "x",
         "y": [
          63.18,
          64.08,
          62.6,
          62.66,
          63.22,
          66.38,
          68.25,
          70.07,
          65.48,
          69.19,
          82.39,
          81.91,
          81.55,
          86.45,
          94.57,
          105.37,
          110.96,
          115.68,
          129.15,
          108.08,
          116.44,
          135.85,
          139.64,
          132.01
         ],
         "yaxis": "y"
        },
        {
         "hovertemplate": "TYPE=Premium unleaded gasoline at self service filling stations<br>Year=%{x}<br>Type=%{y}<extra></extra>",
         "legendgroup": "Premium unleaded gasoline at self service filling stations",
         "line": {
          "color": "#0DF9FF",
          "dash": "solid"
         },
         "marker": {
          "symbol": "circle"
         },
         "mode": "markers+lines",
         "name": "Premium unleaded gasoline at self service filling stations",
         "orientation": "v",
         "showlegend": true,
         "type": "scatter",
         "x": [
          1990,
          1991,
          1992,
          1993,
          1994,
          1995,
          1996,
          1997,
          1998,
          1999,
          2000,
          2001,
          2002,
          2003,
          2004,
          2005,
          2006,
          2007,
          2008,
          2009,
          2010,
          2011,
          2012,
          2013,
          2014,
          2015,
          2016,
          2017,
          2018,
          2019,
          2020,
          2021
         ],
         "xaxis": "x",
         "y": [
          62.73,
          62.62,
          61.68,
          61.86,
          62.37,
          65.4,
          67.13,
          62.42,
          64.12,
          67.9,
          81.14,
          80.43,
          80.07,
          84.9,
          93.04,
          103.81,
          109.38,
          114.03,
          127.31,
          106.62,
          115,
          134.39,
          138.45,
          139.54,
          140.56,
          121.23,
          115.38,
          126.21,
          141.32,
          136.9,
          120.99,
          151.38
         ],
         "yaxis": "y"
        },
        {
         "hovertemplate": "TYPE=Regular unleaded gasoline at self service filling stations<br>Year=%{x}<br>Type=%{y}<extra></extra>",
         "legendgroup": "Regular unleaded gasoline at self service filling stations",
         "line": {
          "color": "#F6F926",
          "dash": "solid"
         },
         "marker": {
          "symbol": "circle"
         },
         "mode": "markers+lines",
         "name": "Regular unleaded gasoline at self service filling stations",
         "orientation": "v",
         "showlegend": true,
         "type": "scatter",
         "x": [
          1990,
          1991,
          1992,
          1993,
          1994,
          1995,
          1996,
          1997,
          1998,
          1999,
          2000,
          2001,
          2002,
          2003,
          2004,
          2005,
          2006,
          2007,
          2008,
          2009,
          2010,
          2011,
          2012,
          2013,
          2014,
          2015,
          2016,
          2017,
          2018,
          2019,
          2020,
          2021
         ],
         "xaxis": "x",
         "y": [
          58.7,
          57.8,
          55.35,
          54.49,
          54.27,
          56.92,
          58.87,
          60.55,
          55.7,
          59.51,
          72.83,
          72,
          71.62,
          76.27,
          84.45,
          95.2,
          100.53,
          104.89,
          117.6,
          96.41,
          104.42,
          123.59,
          127.01,
          127.48,
          127.84,
          107.61,
          101.49,
          111.83,
          126.33,
          120.91,
          103.83,
          133.67
         ],
         "yaxis": "y"
        }
       ],
       "layout": {
        "legend": {
         "title": {
          "text": "TYPE"
         },
         "tracegroupgap": 0
        },
        "margin": {
         "t": 60
        },
        "template": {
         "data": {
          "bar": [
           {
            "error_x": {
             "color": "#2a3f5f"
            },
            "error_y": {
             "color": "#2a3f5f"
            },
            "marker": {
             "line": {
              "color": "#E5ECF6",
              "width": 0.5
             },
             "pattern": {
              "fillmode": "overlay",
              "size": 10,
              "solidity": 0.2
             }
            },
            "type": "bar"
           }
          ],
          "barpolar": [
           {
            "marker": {
             "line": {
              "color": "#E5ECF6",
              "width": 0.5
             },
             "pattern": {
              "fillmode": "overlay",
              "size": 10,
              "solidity": 0.2
             }
            },
            "type": "barpolar"
           }
          ],
          "carpet": [
           {
            "aaxis": {
             "endlinecolor": "#2a3f5f",
             "gridcolor": "white",
             "linecolor": "white",
             "minorgridcolor": "white",
             "startlinecolor": "#2a3f5f"
            },
            "baxis": {
             "endlinecolor": "#2a3f5f",
             "gridcolor": "white",
             "linecolor": "white",
             "minorgridcolor": "white",
             "startlinecolor": "#2a3f5f"
            },
            "type": "carpet"
           }
          ],
          "choropleth": [
           {
            "colorbar": {
             "outlinewidth": 0,
             "ticks": ""
            },
            "type": "choropleth"
           }
          ],
          "contour": [
           {
            "colorbar": {
             "outlinewidth": 0,
             "ticks": ""
            },
            "colorscale": [
             [
              0,
              "#0d0887"
             ],
             [
              0.1111111111111111,
              "#46039f"
             ],
             [
              0.2222222222222222,
              "#7201a8"
             ],
             [
              0.3333333333333333,
              "#9c179e"
             ],
             [
              0.4444444444444444,
              "#bd3786"
             ],
             [
              0.5555555555555556,
              "#d8576b"
             ],
             [
              0.6666666666666666,
              "#ed7953"
             ],
             [
              0.7777777777777778,
              "#fb9f3a"
             ],
             [
              0.8888888888888888,
              "#fdca26"
             ],
             [
              1,
              "#f0f921"
             ]
            ],
            "type": "contour"
           }
          ],
          "contourcarpet": [
           {
            "colorbar": {
             "outlinewidth": 0,
             "ticks": ""
            },
            "type": "contourcarpet"
           }
          ],
          "heatmap": [
           {
            "colorbar": {
             "outlinewidth": 0,
             "ticks": ""
            },
            "colorscale": [
             [
              0,
              "#0d0887"
             ],
             [
              0.1111111111111111,
              "#46039f"
             ],
             [
              0.2222222222222222,
              "#7201a8"
             ],
             [
              0.3333333333333333,
              "#9c179e"
             ],
             [
              0.4444444444444444,
              "#bd3786"
             ],
             [
              0.5555555555555556,
              "#d8576b"
             ],
             [
              0.6666666666666666,
              "#ed7953"
             ],
             [
              0.7777777777777778,
              "#fb9f3a"
             ],
             [
              0.8888888888888888,
              "#fdca26"
             ],
             [
              1,
              "#f0f921"
             ]
            ],
            "type": "heatmap"
           }
          ],
          "heatmapgl": [
           {
            "colorbar": {
             "outlinewidth": 0,
             "ticks": ""
            },
            "colorscale": [
             [
              0,
              "#0d0887"
             ],
             [
              0.1111111111111111,
              "#46039f"
             ],
             [
              0.2222222222222222,
              "#7201a8"
             ],
             [
              0.3333333333333333,
              "#9c179e"
             ],
             [
              0.4444444444444444,
              "#bd3786"
             ],
             [
              0.5555555555555556,
              "#d8576b"
             ],
             [
              0.6666666666666666,
              "#ed7953"
             ],
             [
              0.7777777777777778,
              "#fb9f3a"
             ],
             [
              0.8888888888888888,
              "#fdca26"
             ],
             [
              1,
              "#f0f921"
             ]
            ],
            "type": "heatmapgl"
           }
          ],
          "histogram": [
           {
            "marker": {
             "pattern": {
              "fillmode": "overlay",
              "size": 10,
              "solidity": 0.2
             }
            },
            "type": "histogram"
           }
          ],
          "histogram2d": [
           {
            "colorbar": {
             "outlinewidth": 0,
             "ticks": ""
            },
            "colorscale": [
             [
              0,
              "#0d0887"
             ],
             [
              0.1111111111111111,
              "#46039f"
             ],
             [
              0.2222222222222222,
              "#7201a8"
             ],
             [
              0.3333333333333333,
              "#9c179e"
             ],
             [
              0.4444444444444444,
              "#bd3786"
             ],
             [
              0.5555555555555556,
              "#d8576b"
             ],
             [
              0.6666666666666666,
              "#ed7953"
             ],
             [
              0.7777777777777778,
              "#fb9f3a"
             ],
             [
              0.8888888888888888,
              "#fdca26"
             ],
             [
              1,
              "#f0f921"
             ]
            ],
            "type": "histogram2d"
           }
          ],
          "histogram2dcontour": [
           {
            "colorbar": {
             "outlinewidth": 0,
             "ticks": ""
            },
            "colorscale": [
             [
              0,
              "#0d0887"
             ],
             [
              0.1111111111111111,
              "#46039f"
             ],
             [
              0.2222222222222222,
              "#7201a8"
             ],
             [
              0.3333333333333333,
              "#9c179e"
             ],
             [
              0.4444444444444444,
              "#bd3786"
             ],
             [
              0.5555555555555556,
              "#d8576b"
             ],
             [
              0.6666666666666666,
              "#ed7953"
             ],
             [
              0.7777777777777778,
              "#fb9f3a"
             ],
             [
              0.8888888888888888,
              "#fdca26"
             ],
             [
              1,
              "#f0f921"
             ]
            ],
            "type": "histogram2dcontour"
           }
          ],
          "mesh3d": [
           {
            "colorbar": {
             "outlinewidth": 0,
             "ticks": ""
            },
            "type": "mesh3d"
           }
          ],
          "parcoords": [
           {
            "line": {
             "colorbar": {
              "outlinewidth": 0,
              "ticks": ""
             }
            },
            "type": "parcoords"
           }
          ],
          "pie": [
           {
            "automargin": true,
            "type": "pie"
           }
          ],
          "scatter": [
           {
            "fillpattern": {
             "fillmode": "overlay",
             "size": 10,
             "solidity": 0.2
            },
            "type": "scatter"
           }
          ],
          "scatter3d": [
           {
            "line": {
             "colorbar": {
              "outlinewidth": 0,
              "ticks": ""
             }
            },
            "marker": {
             "colorbar": {
              "outlinewidth": 0,
              "ticks": ""
             }
            },
            "type": "scatter3d"
           }
          ],
          "scattercarpet": [
           {
            "marker": {
             "colorbar": {
              "outlinewidth": 0,
              "ticks": ""
             }
            },
            "type": "scattercarpet"
           }
          ],
          "scattergeo": [
           {
            "marker": {
             "colorbar": {
              "outlinewidth": 0,
              "ticks": ""
             }
            },
            "type": "scattergeo"
           }
          ],
          "scattergl": [
           {
            "marker": {
             "colorbar": {
              "outlinewidth": 0,
              "ticks": ""
             }
            },
            "type": "scattergl"
           }
          ],
          "scattermapbox": [
           {
            "marker": {
             "colorbar": {
              "outlinewidth": 0,
              "ticks": ""
             }
            },
            "type": "scattermapbox"
           }
          ],
          "scatterpolar": [
           {
            "marker": {
             "colorbar": {
              "outlinewidth": 0,
              "ticks": ""
             }
            },
            "type": "scatterpolar"
           }
          ],
          "scatterpolargl": [
           {
            "marker": {
             "colorbar": {
              "outlinewidth": 0,
              "ticks": ""
             }
            },
            "type": "scatterpolargl"
           }
          ],
          "scatterternary": [
           {
            "marker": {
             "colorbar": {
              "outlinewidth": 0,
              "ticks": ""
             }
            },
            "type": "scatterternary"
           }
          ],
          "surface": [
           {
            "colorbar": {
             "outlinewidth": 0,
             "ticks": ""
            },
            "colorscale": [
             [
              0,
              "#0d0887"
             ],
             [
              0.1111111111111111,
              "#46039f"
             ],
             [
              0.2222222222222222,
              "#7201a8"
             ],
             [
              0.3333333333333333,
              "#9c179e"
             ],
             [
              0.4444444444444444,
              "#bd3786"
             ],
             [
              0.5555555555555556,
              "#d8576b"
             ],
             [
              0.6666666666666666,
              "#ed7953"
             ],
             [
              0.7777777777777778,
              "#fb9f3a"
             ],
             [
              0.8888888888888888,
              "#fdca26"
             ],
             [
              1,
              "#f0f921"
             ]
            ],
            "type": "surface"
           }
          ],
          "table": [
           {
            "cells": {
             "fill": {
              "color": "#EBF0F8"
             },
             "line": {
              "color": "white"
             }
            },
            "header": {
             "fill": {
              "color": "#C8D4E3"
             },
             "line": {
              "color": "white"
             }
            },
            "type": "table"
           }
          ]
         },
         "layout": {
          "annotationdefaults": {
           "arrowcolor": "#2a3f5f",
           "arrowhead": 0,
           "arrowwidth": 1
          },
          "autotypenumbers": "strict",
          "coloraxis": {
           "colorbar": {
            "outlinewidth": 0,
            "ticks": ""
           }
          },
          "colorscale": {
           "diverging": [
            [
             0,
             "#8e0152"
            ],
            [
             0.1,
             "#c51b7d"
            ],
            [
             0.2,
             "#de77ae"
            ],
            [
             0.3,
             "#f1b6da"
            ],
            [
             0.4,
             "#fde0ef"
            ],
            [
             0.5,
             "#f7f7f7"
            ],
            [
             0.6,
             "#e6f5d0"
            ],
            [
             0.7,
             "#b8e186"
            ],
            [
             0.8,
             "#7fbc41"
            ],
            [
             0.9,
             "#4d9221"
            ],
            [
             1,
             "#276419"
            ]
           ],
           "sequential": [
            [
             0,
             "#0d0887"
            ],
            [
             0.1111111111111111,
             "#46039f"
            ],
            [
             0.2222222222222222,
             "#7201a8"
            ],
            [
             0.3333333333333333,
             "#9c179e"
            ],
            [
             0.4444444444444444,
             "#bd3786"
            ],
            [
             0.5555555555555556,
             "#d8576b"
            ],
            [
             0.6666666666666666,
             "#ed7953"
            ],
            [
             0.7777777777777778,
             "#fb9f3a"
            ],
            [
             0.8888888888888888,
             "#fdca26"
            ],
            [
             1,
             "#f0f921"
            ]
           ],
           "sequentialminus": [
            [
             0,
             "#0d0887"
            ],
            [
             0.1111111111111111,
             "#46039f"
            ],
            [
             0.2222222222222222,
             "#7201a8"
            ],
            [
             0.3333333333333333,
             "#9c179e"
            ],
            [
             0.4444444444444444,
             "#bd3786"
            ],
            [
             0.5555555555555556,
             "#d8576b"
            ],
            [
             0.6666666666666666,
             "#ed7953"
            ],
            [
             0.7777777777777778,
             "#fb9f3a"
            ],
            [
             0.8888888888888888,
             "#fdca26"
            ],
            [
             1,
             "#f0f921"
            ]
           ]
          },
          "colorway": [
           "#636efa",
           "#EF553B",
           "#00cc96",
           "#ab63fa",
           "#FFA15A",
           "#19d3f3",
           "#FF6692",
           "#B6E880",
           "#FF97FF",
           "#FECB52"
          ],
          "font": {
           "color": "#2a3f5f"
          },
          "geo": {
           "bgcolor": "white",
           "lakecolor": "white",
           "landcolor": "#E5ECF6",
           "showlakes": true,
           "showland": true,
           "subunitcolor": "white"
          },
          "hoverlabel": {
           "align": "left"
          },
          "hovermode": "closest",
          "mapbox": {
           "style": "light"
          },
          "paper_bgcolor": "white",
          "plot_bgcolor": "#E5ECF6",
          "polar": {
           "angularaxis": {
            "gridcolor": "white",
            "linecolor": "white",
            "ticks": ""
           },
           "bgcolor": "#E5ECF6",
           "radialaxis": {
            "gridcolor": "white",
            "linecolor": "white",
            "ticks": ""
           }
          },
          "scene": {
           "xaxis": {
            "backgroundcolor": "#E5ECF6",
            "gridcolor": "white",
            "gridwidth": 2,
            "linecolor": "white",
            "showbackground": true,
            "ticks": "",
            "zerolinecolor": "white"
           },
           "yaxis": {
            "backgroundcolor": "#E5ECF6",
            "gridcolor": "white",
            "gridwidth": 2,
            "linecolor": "white",
            "showbackground": true,
            "ticks": "",
            "zerolinecolor": "white"
           },
           "zaxis": {
            "backgroundcolor": "#E5ECF6",
            "gridcolor": "white",
            "gridwidth": 2,
            "linecolor": "white",
            "showbackground": true,
            "ticks": "",
            "zerolinecolor": "white"
           }
          },
          "shapedefaults": {
           "line": {
            "color": "#2a3f5f"
           }
          },
          "ternary": {
           "aaxis": {
            "gridcolor": "white",
            "linecolor": "white",
            "ticks": ""
           },
           "baxis": {
            "gridcolor": "white",
            "linecolor": "white",
            "ticks": ""
           },
           "bgcolor": "#E5ECF6",
           "caxis": {
            "gridcolor": "white",
            "linecolor": "white",
            "ticks": ""
           }
          },
          "title": {
           "x": 0.05
          },
          "xaxis": {
           "automargin": true,
           "gridcolor": "white",
           "linecolor": "white",
           "ticks": "",
           "title": {
            "standoff": 15
           },
           "zerolinecolor": "white",
           "zerolinewidth": 2
          },
          "yaxis": {
           "automargin": true,
           "gridcolor": "white",
           "linecolor": "white",
           "ticks": "",
           "title": {
            "standoff": 15
           },
           "zerolinecolor": "white",
           "zerolinewidth": 2
          }
         }
        },
        "title": {
         "text": "Fuel Type Price Trend"
        },
        "xaxis": {
         "anchor": "y",
         "domain": [
          0,
          1
         ],
         "title": {
          "text": "Year"
         }
        },
        "yaxis": {
         "anchor": "x",
         "domain": [
          0,
          1
         ],
         "title": {
          "text": "Annual Average Price, Cents per Litre"
         }
        }
       }
      }
     },
     "metadata": {},
     "output_type": "display_data"
    }
   ],
   "source": [
    "exercise4 = data.groupby(['Year','TYPE'])['VALUE'].mean().reset_index(name='Type').round(2)\n",
    "fig = px.line(exercise4,\n",
    "                   x='Year', y = \"Type\", \n",
    "                   color = \"TYPE\", color_discrete_sequence=px.colors.qualitative.Light24)\n",
    "fig.update_traces(mode='markers+lines')\n",
    "fig.update_layout(\n",
    "    title=\"Fuel Type Price Trend\",\n",
    "    xaxis_title=\"Year\",\n",
    "    yaxis_title=\"Annual Average Price, Cents per Litre\")\n",
    "fig.show()"
   ]
  },
  {
   "cell_type": "code",
   "execution_count": 45,
   "metadata": {},
   "outputs": [
    {
     "data": {
      "text/html": [
       "<div>\n",
       "<style scoped>\n",
       "    .dataframe tbody tr th:only-of-type {\n",
       "        vertical-align: middle;\n",
       "    }\n",
       "\n",
       "    .dataframe tbody tr th {\n",
       "        vertical-align: top;\n",
       "    }\n",
       "\n",
       "    .dataframe thead th {\n",
       "        text-align: right;\n",
       "    }\n",
       "</style>\n",
       "<table border=\"1\" class=\"dataframe\">\n",
       "  <thead>\n",
       "    <tr style=\"text-align: right;\">\n",
       "      <th></th>\n",
       "      <th>Year</th>\n",
       "      <th>City</th>\n",
       "      <th>Value</th>\n",
       "    </tr>\n",
       "  </thead>\n",
       "  <tbody>\n",
       "    <tr>\n",
       "      <th>0</th>\n",
       "      <td>1979</td>\n",
       "      <td>Calgary</td>\n",
       "      <td>19.61</td>\n",
       "    </tr>\n",
       "    <tr>\n",
       "      <th>1</th>\n",
       "      <td>1979</td>\n",
       "      <td>Charlottetown and Summerside</td>\n",
       "      <td>25.82</td>\n",
       "    </tr>\n",
       "    <tr>\n",
       "      <th>2</th>\n",
       "      <td>1979</td>\n",
       "      <td>Edmonton</td>\n",
       "      <td>19.08</td>\n",
       "    </tr>\n",
       "    <tr>\n",
       "      <th>3</th>\n",
       "      <td>1979</td>\n",
       "      <td>Halifax</td>\n",
       "      <td>24.52</td>\n",
       "    </tr>\n",
       "    <tr>\n",
       "      <th>4</th>\n",
       "      <td>1979</td>\n",
       "      <td>Montréal</td>\n",
       "      <td>23.86</td>\n",
       "    </tr>\n",
       "  </tbody>\n",
       "</table>\n",
       "</div>"
      ],
      "text/plain": [
       "   Year                          City  Value\n",
       "0  1979                       Calgary  19.61\n",
       "1  1979  Charlottetown and Summerside  25.82\n",
       "2  1979                      Edmonton  19.08\n",
       "3  1979                       Halifax  24.52\n",
       "4  1979                      Montréal  23.86"
      ]
     },
     "execution_count": 45,
     "metadata": {},
     "output_type": "execute_result"
    }
   ],
   "source": [
    "bycity = data.groupby(['Year', 'City'])['VALUE'].mean().reset_index(name ='Value').round(2)\n",
    "bycity.head()"
   ]
  },
  {
   "cell_type": "code",
   "execution_count": 46,
   "metadata": {},
   "outputs": [
    {
     "data": {
      "application/vnd.plotly.v1+json": {
       "config": {
        "plotlyServerURL": "https://plot.ly"
       },
       "data": [
        {
         "alignmentgroup": "True",
         "hovertemplate": "Year=1979<br>City=%{x}<br>Value=%{y}<extra></extra>",
         "legendgroup": "",
         "marker": {
          "color": "#636efa",
          "pattern": {
           "shape": ""
          }
         },
         "name": "",
         "offsetgroup": "",
         "orientation": "v",
         "showlegend": false,
         "textposition": "auto",
         "type": "bar",
         "x": [
          "Calgary",
          "Charlottetown and Summerside",
          "Edmonton",
          "Halifax",
          "Montréal",
          "Ottawa-Gatineau",
          "Québec",
          "Regina",
          "Saint John",
          "Saskatoon",
          "St. John's",
          "Thunder Bay",
          "Toronto",
          "Vancouver",
          "Winnipeg"
         ],
         "xaxis": "x",
         "y": [
          19.61,
          25.82,
          19.08,
          24.52,
          23.86,
          23.95,
          24.09,
          23.47,
          24.38,
          23.92,
          27.22,
          24.15,
          24.18,
          23.21,
          22.62
         ],
         "yaxis": "y"
        }
       ],
       "frames": [
        {
         "data": [
          {
           "alignmentgroup": "True",
           "hovertemplate": "Year=1979<br>City=%{x}<br>Value=%{y}<extra></extra>",
           "legendgroup": "",
           "marker": {
            "color": "#636efa",
            "pattern": {
             "shape": ""
            }
           },
           "name": "",
           "offsetgroup": "",
           "orientation": "v",
           "showlegend": false,
           "textposition": "auto",
           "type": "bar",
           "x": [
            "Calgary",
            "Charlottetown and Summerside",
            "Edmonton",
            "Halifax",
            "Montréal",
            "Ottawa-Gatineau",
            "Québec",
            "Regina",
            "Saint John",
            "Saskatoon",
            "St. John's",
            "Thunder Bay",
            "Toronto",
            "Vancouver",
            "Winnipeg"
           ],
           "xaxis": "x",
           "y": [
            19.61,
            25.82,
            19.08,
            24.52,
            23.86,
            23.95,
            24.09,
            23.47,
            24.38,
            23.92,
            27.22,
            24.15,
            24.18,
            23.21,
            22.62
           ],
           "yaxis": "y"
          }
         ],
         "name": "1979"
        },
        {
         "data": [
          {
           "alignmentgroup": "True",
           "hovertemplate": "Year=1980<br>City=%{x}<br>Value=%{y}<extra></extra>",
           "legendgroup": "",
           "marker": {
            "color": "#636efa",
            "pattern": {
             "shape": ""
            }
           },
           "name": "",
           "offsetgroup": "",
           "orientation": "v",
           "showlegend": false,
           "textposition": "auto",
           "type": "bar",
           "x": [
            "Calgary",
            "Charlottetown and Summerside",
            "Edmonton",
            "Halifax",
            "Montréal",
            "Ottawa-Gatineau",
            "Québec",
            "Regina",
            "Saint John",
            "Saskatoon",
            "St. John's",
            "Thunder Bay",
            "Toronto",
            "Vancouver",
            "Victoria",
            "Winnipeg"
           ],
           "xaxis": "x",
           "y": [
            23.42,
            30.64,
            23.02,
            28.86,
            28.98,
            28.83,
            29.27,
            27.88,
            27.98,
            28.23,
            32.4,
            28.64,
            29,
            28.42,
            26.32,
            27.22
           ],
           "yaxis": "y"
          }
         ],
         "name": "1980"
        },
        {
         "data": [
          {
           "alignmentgroup": "True",
           "hovertemplate": "Year=1981<br>City=%{x}<br>Value=%{y}<extra></extra>",
           "legendgroup": "",
           "marker": {
            "color": "#636efa",
            "pattern": {
             "shape": ""
            }
           },
           "name": "",
           "offsetgroup": "",
           "orientation": "v",
           "showlegend": false,
           "textposition": "auto",
           "type": "bar",
           "x": [
            "Calgary",
            "Charlottetown and Summerside",
            "Edmonton",
            "Halifax",
            "Montréal",
            "Ottawa-Gatineau",
            "Québec",
            "Regina",
            "Saint John",
            "Saskatoon",
            "St. John's",
            "Thunder Bay",
            "Toronto",
            "Vancouver",
            "Victoria",
            "Winnipeg"
           ],
           "xaxis": "x",
           "y": [
            31.85,
            42.28,
            31.06,
            37.8,
            40.2,
            38.71,
            40.46,
            38.04,
            37.46,
            37.62,
            42.82,
            38.63,
            39.1,
            39.16,
            36.54,
            36.32
           ],
           "yaxis": "y"
          }
         ],
         "name": "1981"
        },
        {
         "data": [
          {
           "alignmentgroup": "True",
           "hovertemplate": "Year=1982<br>City=%{x}<br>Value=%{y}<extra></extra>",
           "legendgroup": "",
           "marker": {
            "color": "#636efa",
            "pattern": {
             "shape": ""
            }
           },
           "name": "",
           "offsetgroup": "",
           "orientation": "v",
           "showlegend": false,
           "textposition": "auto",
           "type": "bar",
           "x": [
            "Calgary",
            "Charlottetown and Summerside",
            "Edmonton",
            "Halifax",
            "Montréal",
            "Ottawa-Gatineau",
            "Québec",
            "Regina",
            "Saint John",
            "Saskatoon",
            "St. John's",
            "Thunder Bay",
            "Toronto",
            "Vancouver",
            "Victoria",
            "Winnipeg"
           ],
           "xaxis": "x",
           "y": [
            37.24,
            50.07,
            35.97,
            46.38,
            53.48,
            46.05,
            53.73,
            39.2,
            44.75,
            39.38,
            50.58,
            44.5,
            45.76,
            44.66,
            42.37,
            41.12
           ],
           "yaxis": "y"
          }
         ],
         "name": "1982"
        },
        {
         "data": [
          {
           "alignmentgroup": "True",
           "hovertemplate": "Year=1983<br>City=%{x}<br>Value=%{y}<extra></extra>",
           "legendgroup": "",
           "marker": {
            "color": "#636efa",
            "pattern": {
             "shape": ""
            }
           },
           "name": "",
           "offsetgroup": "",
           "orientation": "v",
           "showlegend": false,
           "textposition": "auto",
           "type": "bar",
           "x": [
            "Calgary",
            "Charlottetown and Summerside",
            "Edmonton",
            "Halifax",
            "Montréal",
            "Ottawa-Gatineau",
            "Québec",
            "Regina",
            "Saint John",
            "Saskatoon",
            "St. John's",
            "Thunder Bay",
            "Toronto",
            "Vancouver",
            "Victoria",
            "Winnipeg"
           ],
           "xaxis": "x",
           "y": [
            41.66,
            54.38,
            40.2,
            51.28,
            56.13,
            46.69,
            55.69,
            40.48,
            50.5,
            41.65,
            55.48,
            44.43,
            46.43,
            48.64,
            45.37,
            47.47
           ],
           "yaxis": "y"
          }
         ],
         "name": "1983"
        },
        {
         "data": [
          {
           "alignmentgroup": "True",
           "hovertemplate": "Year=1984<br>City=%{x}<br>Value=%{y}<extra></extra>",
           "legendgroup": "",
           "marker": {
            "color": "#636efa",
            "pattern": {
             "shape": ""
            }
           },
           "name": "",
           "offsetgroup": "",
           "orientation": "v",
           "showlegend": false,
           "textposition": "auto",
           "type": "bar",
           "x": [
            "Calgary",
            "Charlottetown and Summerside",
            "Edmonton",
            "Halifax",
            "Montréal",
            "Ottawa-Gatineau",
            "Québec",
            "Regina",
            "Saint John",
            "Saskatoon",
            "St. John's",
            "Thunder Bay",
            "Toronto",
            "Vancouver",
            "Victoria",
            "Winnipeg"
           ],
           "xaxis": "x",
           "y": [
            43.71,
            57.18,
            42.24,
            53.93,
            57.88,
            49.93,
            56.2,
            43.85,
            51.68,
            44.38,
            58.07,
            48.46,
            48.64,
            51.98,
            50.48,
            48.47
           ],
           "yaxis": "y"
          }
         ],
         "name": "1984"
        },
        {
         "data": [
          {
           "alignmentgroup": "True",
           "hovertemplate": "Year=1985<br>City=%{x}<br>Value=%{y}<extra></extra>",
           "legendgroup": "",
           "marker": {
            "color": "#636efa",
            "pattern": {
             "shape": ""
            }
           },
           "name": "",
           "offsetgroup": "",
           "orientation": "v",
           "showlegend": false,
           "textposition": "auto",
           "type": "bar",
           "x": [
            "Calgary",
            "Charlottetown and Summerside",
            "Edmonton",
            "Halifax",
            "Montréal",
            "Ottawa-Gatineau",
            "Québec",
            "Regina",
            "Saint John",
            "Saskatoon",
            "St. John's",
            "Thunder Bay",
            "Toronto",
            "Vancouver",
            "Victoria",
            "Winnipeg"
           ],
           "xaxis": "x",
           "y": [
            46.71,
            59.76,
            45.13,
            58.49,
            60.68,
            53.38,
            57.82,
            46.72,
            56.15,
            48.22,
            62.84,
            53.67,
            50.98,
            55.69,
            54.38,
            51.77
           ],
           "yaxis": "y"
          }
         ],
         "name": "1985"
        },
        {
         "data": [
          {
           "alignmentgroup": "True",
           "hovertemplate": "Year=1986<br>City=%{x}<br>Value=%{y}<extra></extra>",
           "legendgroup": "",
           "marker": {
            "color": "#636efa",
            "pattern": {
             "shape": ""
            }
           },
           "name": "",
           "offsetgroup": "",
           "orientation": "v",
           "showlegend": false,
           "textposition": "auto",
           "type": "bar",
           "x": [
            "Calgary",
            "Charlottetown and Summerside",
            "Edmonton",
            "Halifax",
            "Montréal",
            "Ottawa-Gatineau",
            "Québec",
            "Regina",
            "Saint John",
            "Saskatoon",
            "St. John's",
            "Thunder Bay",
            "Toronto",
            "Vancouver",
            "Victoria",
            "Winnipeg"
           ],
           "xaxis": "x",
           "y": [
            41.22,
            53.62,
            39.88,
            51.92,
            54.76,
            48.84,
            55.01,
            38.2,
            52.95,
            43.09,
            57.92,
            48.11,
            45.7,
            47.32,
            46.97,
            48.99
           ],
           "yaxis": "y"
          }
         ],
         "name": "1986"
        },
        {
         "data": [
          {
           "alignmentgroup": "True",
           "hovertemplate": "Year=1987<br>City=%{x}<br>Value=%{y}<extra></extra>",
           "legendgroup": "",
           "marker": {
            "color": "#636efa",
            "pattern": {
             "shape": ""
            }
           },
           "name": "",
           "offsetgroup": "",
           "orientation": "v",
           "showlegend": false,
           "textposition": "auto",
           "type": "bar",
           "x": [
            "Calgary",
            "Charlottetown and Summerside",
            "Edmonton",
            "Halifax",
            "Montréal",
            "Ottawa-Gatineau",
            "Québec",
            "Regina",
            "Saint John",
            "Saskatoon",
            "St. John's",
            "Thunder Bay",
            "Toronto",
            "Vancouver",
            "Victoria",
            "Winnipeg"
           ],
           "xaxis": "x",
           "y": [
            43.78,
            53.65,
            44.05,
            50.25,
            57.08,
            50.72,
            56.41,
            44.78,
            48.83,
            46.51,
            56.52,
            49.35,
            48.38,
            50.32,
            47.52,
            47.99
           ],
           "yaxis": "y"
          }
         ],
         "name": "1987"
        },
        {
         "data": [
          {
           "alignmentgroup": "True",
           "hovertemplate": "Year=1988<br>City=%{x}<br>Value=%{y}<extra></extra>",
           "legendgroup": "",
           "marker": {
            "color": "#636efa",
            "pattern": {
             "shape": ""
            }
           },
           "name": "",
           "offsetgroup": "",
           "orientation": "v",
           "showlegend": false,
           "textposition": "auto",
           "type": "bar",
           "x": [
            "Calgary",
            "Charlottetown and Summerside",
            "Edmonton",
            "Halifax",
            "Montréal",
            "Ottawa-Gatineau",
            "Québec",
            "Regina",
            "Saint John",
            "Saskatoon",
            "St. John's",
            "Thunder Bay",
            "Toronto",
            "Vancouver",
            "Victoria",
            "Winnipeg"
           ],
           "xaxis": "x",
           "y": [
            41.19,
            52.65,
            41.13,
            50.32,
            56.83,
            51.6,
            55.23,
            46.02,
            50.17,
            47.19,
            55.42,
            52.62,
            48.08,
            48.11,
            45.28,
            45.61
           ],
           "yaxis": "y"
          }
         ],
         "name": "1988"
        },
        {
         "data": [
          {
           "alignmentgroup": "True",
           "hovertemplate": "Year=1989<br>City=%{x}<br>Value=%{y}<extra></extra>",
           "legendgroup": "",
           "marker": {
            "color": "#636efa",
            "pattern": {
             "shape": ""
            }
           },
           "name": "",
           "offsetgroup": "",
           "orientation": "v",
           "showlegend": false,
           "textposition": "auto",
           "type": "bar",
           "x": [
            "Calgary",
            "Charlottetown and Summerside",
            "Edmonton",
            "Halifax",
            "Montréal",
            "Ottawa-Gatineau",
            "Québec",
            "Regina",
            "Saint John",
            "Saskatoon",
            "St. John's",
            "Thunder Bay",
            "Toronto",
            "Vancouver",
            "Victoria",
            "Winnipeg"
           ],
           "xaxis": "x",
           "y": [
            44.98,
            52.71,
            44.75,
            50.92,
            57.17,
            53.24,
            56.26,
            49.5,
            52.18,
            51.95,
            57.28,
            53.72,
            50.57,
            52.91,
            50.39,
            48.69
           ],
           "yaxis": "y"
          }
         ],
         "name": "1989"
        },
        {
         "data": [
          {
           "alignmentgroup": "True",
           "hovertemplate": "Year=1990<br>City=%{x}<br>Value=%{y}<extra></extra>",
           "legendgroup": "",
           "marker": {
            "color": "#636efa",
            "pattern": {
             "shape": ""
            }
           },
           "name": "",
           "offsetgroup": "",
           "orientation": "v",
           "showlegend": false,
           "textposition": "auto",
           "type": "bar",
           "x": [
            "Calgary",
            "Charlottetown and Summerside",
            "Edmonton",
            "Halifax",
            "Montréal",
            "Ottawa-Gatineau",
            "Québec",
            "Regina",
            "Saint John",
            "Saskatoon",
            "St. John's",
            "Thunder Bay",
            "Toronto",
            "Vancouver",
            "Victoria",
            "Whitehorse",
            "Winnipeg",
            "Yellowknife"
           ],
           "xaxis": "x",
           "y": [
            52.32,
            53.86,
            52.28,
            52.39,
            58.87,
            54.94,
            57.75,
            51.56,
            51.62,
            54.45,
            59.87,
            57.05,
            53.16,
            55.7,
            55.54,
            58.42,
            51.96,
            57.3
           ],
           "yaxis": "y"
          }
         ],
         "name": "1990"
        },
        {
         "data": [
          {
           "alignmentgroup": "True",
           "hovertemplate": "Year=1991<br>City=%{x}<br>Value=%{y}<extra></extra>",
           "legendgroup": "",
           "marker": {
            "color": "#636efa",
            "pattern": {
             "shape": ""
            }
           },
           "name": "",
           "offsetgroup": "",
           "orientation": "v",
           "showlegend": false,
           "textposition": "auto",
           "type": "bar",
           "x": [
            "Calgary",
            "Charlottetown and Summerside",
            "Edmonton",
            "Halifax",
            "Montréal",
            "Ottawa-Gatineau",
            "Québec",
            "Regina",
            "Saint John",
            "Saskatoon",
            "St. John's",
            "Thunder Bay",
            "Toronto",
            "Vancouver",
            "Victoria",
            "Whitehorse",
            "Winnipeg",
            "Yellowknife"
           ],
           "xaxis": "x",
           "y": [
            51.24,
            59.8,
            50.83,
            57.08,
            61.48,
            56.76,
            60.95,
            49.13,
            54.97,
            52,
            63.39,
            58.29,
            53.83,
            56.55,
            55.84,
            61.48,
            52.47,
            61.37
           ],
           "yaxis": "y"
          }
         ],
         "name": "1991"
        },
        {
         "data": [
          {
           "alignmentgroup": "True",
           "hovertemplate": "Year=1992<br>City=%{x}<br>Value=%{y}<extra></extra>",
           "legendgroup": "",
           "marker": {
            "color": "#636efa",
            "pattern": {
             "shape": ""
            }
           },
           "name": "",
           "offsetgroup": "",
           "orientation": "v",
           "showlegend": false,
           "textposition": "auto",
           "type": "bar",
           "x": [
            "Calgary",
            "Charlottetown and Summerside",
            "Edmonton",
            "Halifax",
            "Montréal",
            "Ottawa-Gatineau",
            "Québec",
            "Regina",
            "Saint John",
            "Saskatoon",
            "St. John's",
            "Thunder Bay",
            "Toronto",
            "Vancouver",
            "Victoria",
            "Whitehorse",
            "Winnipeg",
            "Yellowknife"
           ],
           "xaxis": "x",
           "y": [
            47.79,
            57.14,
            49.07,
            57.42,
            58.35,
            55.37,
            59.43,
            49.9,
            54.27,
            50.81,
            61.3,
            56.86,
            52.12,
            53.49,
            51.79,
            58.29,
            49.72,
            60.49
           ],
           "yaxis": "y"
          }
         ],
         "name": "1992"
        },
        {
         "data": [
          {
           "alignmentgroup": "True",
           "hovertemplate": "Year=1993<br>City=%{x}<br>Value=%{y}<extra></extra>",
           "legendgroup": "",
           "marker": {
            "color": "#636efa",
            "pattern": {
             "shape": ""
            }
           },
           "name": "",
           "offsetgroup": "",
           "orientation": "v",
           "showlegend": false,
           "textposition": "auto",
           "type": "bar",
           "x": [
            "Calgary",
            "Charlottetown and Summerside",
            "Edmonton",
            "Halifax",
            "Montréal",
            "Ottawa-Gatineau",
            "Québec",
            "Regina",
            "Saint John",
            "Saskatoon",
            "St. John's",
            "Thunder Bay",
            "Toronto",
            "Vancouver",
            "Victoria",
            "Whitehorse",
            "Winnipeg",
            "Yellowknife"
           ],
           "xaxis": "x",
           "y": [
            48.3,
            54.43,
            48.22,
            52.71,
            56.36,
            53.96,
            57.64,
            52.6,
            54.97,
            53.68,
            59.64,
            56.75,
            51.62,
            54.43,
            51.45,
            57.5,
            51.5,
            61.83
           ],
           "yaxis": "y"
          }
         ],
         "name": "1993"
        },
        {
         "data": [
          {
           "alignmentgroup": "True",
           "hovertemplate": "Year=1994<br>City=%{x}<br>Value=%{y}<extra></extra>",
           "legendgroup": "",
           "marker": {
            "color": "#636efa",
            "pattern": {
             "shape": ""
            }
           },
           "name": "",
           "offsetgroup": "",
           "orientation": "v",
           "showlegend": false,
           "textposition": "auto",
           "type": "bar",
           "x": [
            "Calgary",
            "Charlottetown and Summerside",
            "Edmonton",
            "Halifax",
            "Montréal",
            "Ottawa-Gatineau",
            "Québec",
            "Regina",
            "Saint John",
            "Saskatoon",
            "St. John's",
            "Thunder Bay",
            "Toronto",
            "Vancouver",
            "Victoria",
            "Whitehorse",
            "Winnipeg",
            "Yellowknife"
           ],
           "xaxis": "x",
           "y": [
            48.45,
            53.81,
            47.91,
            52.76,
            55.1,
            52.76,
            56.33,
            53.73,
            54.22,
            53.41,
            60.38,
            56.56,
            50.87,
            55.29,
            52.24,
            57.81,
            52.01,
            62.41
           ],
           "yaxis": "y"
          }
         ],
         "name": "1994"
        },
        {
         "data": [
          {
           "alignmentgroup": "True",
           "hovertemplate": "Year=1995<br>City=%{x}<br>Value=%{y}<extra></extra>",
           "legendgroup": "",
           "marker": {
            "color": "#636efa",
            "pattern": {
             "shape": ""
            }
           },
           "name": "",
           "offsetgroup": "",
           "orientation": "v",
           "showlegend": false,
           "textposition": "auto",
           "type": "bar",
           "x": [
            "Calgary",
            "Charlottetown and Summerside",
            "Edmonton",
            "Halifax",
            "Montréal",
            "Ottawa-Gatineau",
            "Québec",
            "Regina",
            "Saint John",
            "Saskatoon",
            "St. John's",
            "Thunder Bay",
            "Toronto",
            "Vancouver",
            "Victoria",
            "Whitehorse",
            "Winnipeg",
            "Yellowknife"
           ],
           "xaxis": "x",
           "y": [
            51.08,
            57.43,
            49.76,
            54.3,
            55.83,
            53.56,
            57.2,
            54.95,
            55.78,
            55.8,
            63.28,
            57.99,
            52.65,
            57.27,
            54.37,
            60.66,
            53.78,
            65.06
           ],
           "yaxis": "y"
          }
         ],
         "name": "1995"
        },
        {
         "data": [
          {
           "alignmentgroup": "True",
           "hovertemplate": "Year=1996<br>City=%{x}<br>Value=%{y}<extra></extra>",
           "legendgroup": "",
           "marker": {
            "color": "#636efa",
            "pattern": {
             "shape": ""
            }
           },
           "name": "",
           "offsetgroup": "",
           "orientation": "v",
           "showlegend": false,
           "textposition": "auto",
           "type": "bar",
           "x": [
            "Calgary",
            "Charlottetown and Summerside",
            "Edmonton",
            "Halifax",
            "Montréal",
            "Ottawa-Gatineau",
            "Québec",
            "Regina",
            "Saint John",
            "Saskatoon",
            "St. John's",
            "Thunder Bay",
            "Toronto",
            "Vancouver",
            "Victoria",
            "Whitehorse",
            "Winnipeg",
            "Yellowknife"
           ],
           "xaxis": "x",
           "y": [
            52.9,
            57.82,
            51.61,
            55.02,
            58.26,
            55.77,
            59.12,
            57.05,
            56,
            59.24,
            62.76,
            62.3,
            56.24,
            58.63,
            56.67,
            63.6,
            55.87,
            67.15
           ],
           "yaxis": "y"
          }
         ],
         "name": "1996"
        },
        {
         "data": [
          {
           "alignmentgroup": "True",
           "hovertemplate": "Year=1997<br>City=%{x}<br>Value=%{y}<extra></extra>",
           "legendgroup": "",
           "marker": {
            "color": "#636efa",
            "pattern": {
             "shape": ""
            }
           },
           "name": "",
           "offsetgroup": "",
           "orientation": "v",
           "showlegend": false,
           "textposition": "auto",
           "type": "bar",
           "x": [
            "Calgary",
            "Charlottetown and Summerside",
            "Edmonton",
            "Halifax",
            "Montréal",
            "Ottawa-Gatineau",
            "Québec",
            "Regina",
            "Saint John",
            "Saskatoon",
            "St. John's",
            "Thunder Bay",
            "Toronto",
            "Vancouver",
            "Victoria",
            "Whitehorse",
            "Winnipeg",
            "Yellowknife"
           ],
           "xaxis": "x",
           "y": [
            53.54,
            59.24,
            53.19,
            60.06,
            59.23,
            55.87,
            58.82,
            58,
            60.02,
            58.52,
            66.9,
            61.97,
            55.65,
            57.88,
            57.25,
            65.26,
            56.27,
            68
           ],
           "yaxis": "y"
          }
         ],
         "name": "1997"
        },
        {
         "data": [
          {
           "alignmentgroup": "True",
           "hovertemplate": "Year=1998<br>City=%{x}<br>Value=%{y}<extra></extra>",
           "legendgroup": "",
           "marker": {
            "color": "#636efa",
            "pattern": {
             "shape": ""
            }
           },
           "name": "",
           "offsetgroup": "",
           "orientation": "v",
           "showlegend": false,
           "textposition": "auto",
           "type": "bar",
           "x": [
            "Calgary",
            "Charlottetown and Summerside",
            "Edmonton",
            "Halifax",
            "Montréal",
            "Ottawa-Gatineau",
            "Québec",
            "Regina",
            "Saint John",
            "Saskatoon",
            "St. John's",
            "Thunder Bay",
            "Toronto",
            "Vancouver",
            "Victoria",
            "Whitehorse",
            "Winnipeg",
            "Yellowknife"
           ],
           "xaxis": "x",
           "y": [
            52.03,
            52.6,
            50.93,
            57.21,
            56.23,
            52.7,
            55.7,
            56.1,
            56.57,
            57.07,
            63.96,
            55.72,
            52.74,
            53.35,
            54.11,
            64.23,
            54.78,
            66.34
           ],
           "yaxis": "y"
          }
         ],
         "name": "1998"
        },
        {
         "data": [
          {
           "alignmentgroup": "True",
           "hovertemplate": "Year=1999<br>City=%{x}<br>Value=%{y}<extra></extra>",
           "legendgroup": "",
           "marker": {
            "color": "#636efa",
            "pattern": {
             "shape": ""
            }
           },
           "name": "",
           "offsetgroup": "",
           "orientation": "v",
           "showlegend": false,
           "textposition": "auto",
           "type": "bar",
           "x": [
            "Calgary",
            "Charlottetown and Summerside",
            "Edmonton",
            "Halifax",
            "Montréal",
            "Ottawa-Gatineau",
            "Québec",
            "Regina",
            "Saint John",
            "Saskatoon",
            "St. John's",
            "Thunder Bay",
            "Toronto",
            "Vancouver",
            "Victoria",
            "Whitehorse",
            "Winnipeg",
            "Yellowknife"
           ],
           "xaxis": "x",
           "y": [
            54.92,
            52.27,
            54,
            59.5,
            59.97,
            55.56,
            59.44,
            59.16,
            59.02,
            59.07,
            65.03,
            59.23,
            56.63,
            55.58,
            58.4,
            64.33,
            57.02,
            68.24
           ],
           "yaxis": "y"
          }
         ],
         "name": "1999"
        },
        {
         "data": [
          {
           "alignmentgroup": "True",
           "hovertemplate": "Year=2000<br>City=%{x}<br>Value=%{y}<extra></extra>",
           "legendgroup": "",
           "marker": {
            "color": "#636efa",
            "pattern": {
             "shape": ""
            }
           },
           "name": "",
           "offsetgroup": "",
           "orientation": "v",
           "showlegend": false,
           "textposition": "auto",
           "type": "bar",
           "x": [
            "Calgary",
            "Charlottetown and Summerside",
            "Edmonton",
            "Halifax",
            "Montréal",
            "Ottawa-Gatineau",
            "Québec",
            "Regina",
            "Saint John",
            "Saskatoon",
            "St. John's",
            "Thunder Bay",
            "Toronto",
            "Vancouver",
            "Victoria",
            "Whitehorse",
            "Winnipeg",
            "Yellowknife"
           ],
           "xaxis": "x",
           "y": [
            65.96,
            68.41,
            65.68,
            75.25,
            75.46,
            69.79,
            71.89,
            70.68,
            73.93,
            70.91,
            81.46,
            73.73,
            70.96,
            69.32,
            72.07,
            77.48,
            66.92,
            80.27
           ],
           "yaxis": "y"
          }
         ],
         "name": "2000"
        },
        {
         "data": [
          {
           "alignmentgroup": "True",
           "hovertemplate": "Year=2001<br>City=%{x}<br>Value=%{y}<extra></extra>",
           "legendgroup": "",
           "marker": {
            "color": "#636efa",
            "pattern": {
             "shape": ""
            }
           },
           "name": "",
           "offsetgroup": "",
           "orientation": "v",
           "showlegend": false,
           "textposition": "auto",
           "type": "bar",
           "x": [
            "Calgary",
            "Charlottetown and Summerside",
            "Edmonton",
            "Halifax",
            "Montréal",
            "Ottawa-Gatineau",
            "Québec",
            "Regina",
            "Saint John",
            "Saskatoon",
            "St. John's",
            "Thunder Bay",
            "Toronto",
            "Vancouver",
            "Victoria",
            "Whitehorse",
            "Winnipeg",
            "Yellowknife"
           ],
           "xaxis": "x",
           "y": [
            67.26,
            70.33,
            65.57,
            72.94,
            72.77,
            68.31,
            72.58,
            71.83,
            71.33,
            72.25,
            78.62,
            73.95,
            69.29,
            70.29,
            73.94,
            80.54,
            68.06,
            82.91
           ],
           "yaxis": "y"
          }
         ],
         "name": "2001"
        },
        {
         "data": [
          {
           "alignmentgroup": "True",
           "hovertemplate": "Year=2002<br>City=%{x}<br>Value=%{y}<extra></extra>",
           "legendgroup": "",
           "marker": {
            "color": "#636efa",
            "pattern": {
             "shape": ""
            }
           },
           "name": "",
           "offsetgroup": "",
           "orientation": "v",
           "showlegend": false,
           "textposition": "auto",
           "type": "bar",
           "x": [
            "Calgary",
            "Charlottetown and Summerside",
            "Edmonton",
            "Halifax",
            "Montréal",
            "Ottawa-Gatineau",
            "Québec",
            "Regina",
            "Saint John",
            "Saskatoon",
            "St. John's",
            "Thunder Bay",
            "Toronto",
            "Vancouver",
            "Victoria",
            "Whitehorse",
            "Winnipeg",
            "Yellowknife"
           ],
           "xaxis": "x",
           "y": [
            65.93,
            65.95,
            64.76,
            72.37,
            69.23,
            65.96,
            69.54,
            69.75,
            72.07,
            71.59,
            75.28,
            71.04,
            66.64,
            69.57,
            71.49,
            77.9,
            63.87,
            82.9
           ],
           "yaxis": "y"
          }
         ],
         "name": "2002"
        },
        {
         "data": [
          {
           "alignmentgroup": "True",
           "hovertemplate": "Year=2003<br>City=%{x}<br>Value=%{y}<extra></extra>",
           "legendgroup": "",
           "marker": {
            "color": "#636efa",
            "pattern": {
             "shape": ""
            }
           },
           "name": "",
           "offsetgroup": "",
           "orientation": "v",
           "showlegend": false,
           "textposition": "auto",
           "type": "bar",
           "x": [
            "Calgary",
            "Charlottetown and Summerside",
            "Edmonton",
            "Halifax",
            "Montréal",
            "Ottawa-Gatineau",
            "Québec",
            "Regina",
            "Saint John",
            "Saskatoon",
            "St. John's",
            "Thunder Bay",
            "Toronto",
            "Vancouver",
            "Victoria",
            "Whitehorse",
            "Winnipeg",
            "Yellowknife"
           ],
           "xaxis": "x",
           "y": [
            68.66,
            71.68,
            68.96,
            78.06,
            74.95,
            70.74,
            75.42,
            73.8,
            78.73,
            75.28,
            80.7,
            77.6,
            71.73,
            76.67,
            79.09,
            82.58,
            68.7,
            86.57
           ],
           "yaxis": "y"
          }
         ],
         "name": "2003"
        },
        {
         "data": [
          {
           "alignmentgroup": "True",
           "hovertemplate": "Year=2004<br>City=%{x}<br>Value=%{y}<extra></extra>",
           "legendgroup": "",
           "marker": {
            "color": "#636efa",
            "pattern": {
             "shape": ""
            }
           },
           "name": "",
           "offsetgroup": "",
           "orientation": "v",
           "showlegend": false,
           "textposition": "auto",
           "type": "bar",
           "x": [
            "Calgary",
            "Charlottetown and Summerside",
            "Edmonton",
            "Halifax",
            "Montréal",
            "Ottawa-Gatineau",
            "Québec",
            "Regina",
            "Saint John",
            "Saskatoon",
            "St. John's",
            "Thunder Bay",
            "Toronto",
            "Vancouver",
            "Victoria",
            "Whitehorse",
            "Winnipeg",
            "Yellowknife"
           ],
           "xaxis": "x",
           "y": [
            76.03,
            80.09,
            76.19,
            86.41,
            83.26,
            77.93,
            83.78,
            80.01,
            86.62,
            81.6,
            89.28,
            83,
            77.83,
            85.76,
            88.28,
            89.93,
            76.64,
            90.45
           ],
           "yaxis": "y"
          }
         ],
         "name": "2004"
        },
        {
         "data": [
          {
           "alignmentgroup": "True",
           "hovertemplate": "Year=2005<br>City=%{x}<br>Value=%{y}<extra></extra>",
           "legendgroup": "",
           "marker": {
            "color": "#636efa",
            "pattern": {
             "shape": ""
            }
           },
           "name": "",
           "offsetgroup": "",
           "orientation": "v",
           "showlegend": false,
           "textposition": "auto",
           "type": "bar",
           "x": [
            "Calgary",
            "Charlottetown and Summerside",
            "Edmonton",
            "Halifax",
            "Montréal",
            "Ottawa-Gatineau",
            "Québec",
            "Regina",
            "Saint John",
            "Saskatoon",
            "St. John's",
            "Thunder Bay",
            "Toronto",
            "Vancouver",
            "Victoria",
            "Whitehorse",
            "Winnipeg",
            "Yellowknife"
           ],
           "xaxis": "x",
           "y": [
            90.08,
            95.4,
            89.28,
            98.72,
            95.89,
            91.13,
            96.66,
            93.92,
            99.44,
            94.41,
            101.79,
            95.81,
            90.99,
            99.98,
            101.09,
            103.94,
            91.88,
            102.75
           ],
           "yaxis": "y"
          }
         ],
         "name": "2005"
        },
        {
         "data": [
          {
           "alignmentgroup": "True",
           "hovertemplate": "Year=2006<br>City=%{x}<br>Value=%{y}<extra></extra>",
           "legendgroup": "",
           "marker": {
            "color": "#636efa",
            "pattern": {
             "shape": ""
            }
           },
           "name": "",
           "offsetgroup": "",
           "orientation": "v",
           "showlegend": false,
           "textposition": "auto",
           "type": "bar",
           "x": [
            "Calgary",
            "Charlottetown and Summerside",
            "Edmonton",
            "Halifax",
            "Montréal",
            "Ottawa-Gatineau",
            "Québec",
            "Regina",
            "Saint John",
            "Saskatoon",
            "St. John's",
            "Thunder Bay",
            "Toronto",
            "Vancouver",
            "Victoria",
            "Whitehorse",
            "Winnipeg",
            "Yellowknife"
           ],
           "xaxis": "x",
           "y": [
            95.03,
            101.85,
            94.33,
            103.75,
            100.41,
            95.47,
            101.11,
            98.39,
            103.17,
            99.78,
            107.01,
            100.21,
            95.35,
            104.91,
            106.21,
            107.99,
            96.13,
            109.79
           ],
           "yaxis": "y"
          }
         ],
         "name": "2006"
        },
        {
         "data": [
          {
           "alignmentgroup": "True",
           "hovertemplate": "Year=2007<br>City=%{x}<br>Value=%{y}<extra></extra>",
           "legendgroup": "",
           "marker": {
            "color": "#636efa",
            "pattern": {
             "shape": ""
            }
           },
           "name": "",
           "offsetgroup": "",
           "orientation": "v",
           "showlegend": false,
           "textposition": "auto",
           "type": "bar",
           "x": [
            "Calgary",
            "Charlottetown and Summerside",
            "Edmonton",
            "Halifax",
            "Montréal",
            "Ottawa-Gatineau",
            "Québec",
            "Regina",
            "Saint John",
            "Saskatoon",
            "St. John's",
            "Thunder Bay",
            "Toronto",
            "Vancouver",
            "Victoria",
            "Whitehorse",
            "Winnipeg",
            "Yellowknife"
           ],
           "xaxis": "x",
           "y": [
            101.39,
            103.41,
            99.94,
            106.12,
            103.75,
            99.75,
            104.57,
            103.9,
            103.12,
            104.1,
            109.97,
            108,
            98.86,
            108.55,
            108.97,
            111.56,
            101.73,
            116.75
           ],
           "yaxis": "y"
          }
         ],
         "name": "2007"
        },
        {
         "data": [
          {
           "alignmentgroup": "True",
           "hovertemplate": "Year=2008<br>City=%{x}<br>Value=%{y}<extra></extra>",
           "legendgroup": "",
           "marker": {
            "color": "#636efa",
            "pattern": {
             "shape": ""
            }
           },
           "name": "",
           "offsetgroup": "",
           "orientation": "v",
           "showlegend": false,
           "textposition": "auto",
           "type": "bar",
           "x": [
            "Calgary",
            "Charlottetown and Summerside",
            "Edmonton",
            "Halifax",
            "Montréal",
            "Ottawa-Gatineau",
            "Québec",
            "Regina",
            "Saint John",
            "Saskatoon",
            "St. John's",
            "Thunder Bay",
            "Toronto",
            "Vancouver",
            "Victoria",
            "Whitehorse",
            "Winnipeg",
            "Yellowknife"
           ],
           "xaxis": "x",
           "y": [
            118.15,
            120.08,
            116.86,
            121.92,
            124.82,
            117.5,
            124.55,
            121.89,
            120.17,
            120.85,
            126.46,
            123.63,
            117.46,
            127.07,
            128.44,
            130.37,
            120.65,
            137.1
           ],
           "yaxis": "y"
          }
         ],
         "name": "2008"
        },
        {
         "data": [
          {
           "alignmentgroup": "True",
           "hovertemplate": "Year=2009<br>City=%{x}<br>Value=%{y}<extra></extra>",
           "legendgroup": "",
           "marker": {
            "color": "#636efa",
            "pattern": {
             "shape": ""
            }
           },
           "name": "",
           "offsetgroup": "",
           "orientation": "v",
           "showlegend": false,
           "textposition": "auto",
           "type": "bar",
           "x": [
            "Calgary",
            "Charlottetown and Summerside",
            "Edmonton",
            "Halifax",
            "Montréal",
            "Ottawa-Gatineau",
            "Québec",
            "Regina",
            "Saint John",
            "Saskatoon",
            "St. John's",
            "Thunder Bay",
            "Toronto",
            "Vancouver",
            "Victoria",
            "Whitehorse",
            "Winnipeg",
            "Yellowknife"
           ],
           "xaxis": "x",
           "y": [
            90.86,
            93.7,
            89.61,
            95.81,
            97.25,
            91.11,
            96.72,
            94.91,
            93.66,
            95.95,
            99.98,
            99.95,
            93.12,
            103.21,
            102.9,
            102.79,
            93.28,
            109.23
           ],
           "yaxis": "y"
          }
         ],
         "name": "2009"
        },
        {
         "data": [
          {
           "alignmentgroup": "True",
           "hovertemplate": "Year=2010<br>City=%{x}<br>Value=%{y}<extra></extra>",
           "legendgroup": "",
           "marker": {
            "color": "#636efa",
            "pattern": {
             "shape": ""
            }
           },
           "name": "",
           "offsetgroup": "",
           "orientation": "v",
           "showlegend": false,
           "textposition": "auto",
           "type": "bar",
           "x": [
            "Calgary",
            "Charlottetown and Summerside",
            "Edmonton",
            "Halifax",
            "Montréal",
            "Ottawa-Gatineau",
            "Québec",
            "Regina",
            "Saint John",
            "Saskatoon",
            "St. John's",
            "Thunder Bay",
            "Toronto",
            "Vancouver",
            "Victoria",
            "Whitehorse",
            "Winnipeg",
            "Yellowknife"
           ],
           "xaxis": "x",
           "y": [
            96.91,
            102.65,
            95.64,
            106.64,
            107.6,
            103.61,
            106.58,
            101.99,
            103.14,
            102.96,
            109.89,
            110.55,
            104.6,
            117.02,
            113.19,
            113.38,
            99.77,
            116.44
           ],
           "yaxis": "y"
          }
         ],
         "name": "2010"
        },
        {
         "data": [
          {
           "alignmentgroup": "True",
           "hovertemplate": "Year=2011<br>City=%{x}<br>Value=%{y}<extra></extra>",
           "legendgroup": "",
           "marker": {
            "color": "#636efa",
            "pattern": {
             "shape": ""
            }
           },
           "name": "",
           "offsetgroup": "",
           "orientation": "v",
           "showlegend": false,
           "textposition": "auto",
           "type": "bar",
           "x": [
            "Calgary",
            "Charlottetown and Summerside",
            "Edmonton",
            "Halifax",
            "Montréal",
            "Ottawa-Gatineau",
            "Québec",
            "Regina",
            "Saint John",
            "Saskatoon",
            "St. John's",
            "Thunder Bay",
            "Toronto",
            "Vancouver",
            "Victoria",
            "Whitehorse",
            "Winnipeg",
            "Yellowknife"
           ],
           "xaxis": "x",
           "y": [
            116.39,
            122.45,
            113.52,
            127.2,
            130.95,
            127.18,
            129,
            122.95,
            125.22,
            121.23,
            129.66,
            134.14,
            128.27,
            135.21,
            130.52,
            133.03,
            118.73,
            134.74
           ],
           "yaxis": "y"
          }
         ],
         "name": "2011"
        },
        {
         "data": [
          {
           "alignmentgroup": "True",
           "hovertemplate": "Year=2012<br>City=%{x}<br>Value=%{y}<extra></extra>",
           "legendgroup": "",
           "marker": {
            "color": "#636efa",
            "pattern": {
             "shape": ""
            }
           },
           "name": "",
           "offsetgroup": "",
           "orientation": "v",
           "showlegend": false,
           "textposition": "auto",
           "type": "bar",
           "x": [
            "Calgary",
            "Charlottetown and Summerside",
            "Edmonton",
            "Halifax",
            "Montréal",
            "Ottawa-Gatineau",
            "Québec",
            "Regina",
            "Saint John",
            "Saskatoon",
            "St. John's",
            "Thunder Bay",
            "Toronto",
            "Vancouver",
            "Victoria",
            "Whitehorse",
            "Winnipeg",
            "Yellowknife"
           ],
           "xaxis": "x",
           "y": [
            117.22,
            127.25,
            114.69,
            132.68,
            137.25,
            129.22,
            135.2,
            123.26,
            131.06,
            124.35,
            133.84,
            137.47,
            130.06,
            139.6,
            132.14,
            137.72,
            121.72,
            140.1
           ],
           "yaxis": "y"
          }
         ],
         "name": "2012"
        },
        {
         "data": [
          {
           "alignmentgroup": "True",
           "hovertemplate": "Year=2013<br>City=%{x}<br>Value=%{y}<extra></extra>",
           "legendgroup": "",
           "marker": {
            "color": "#636efa",
            "pattern": {
             "shape": ""
            }
           },
           "name": "",
           "offsetgroup": "",
           "orientation": "v",
           "showlegend": false,
           "textposition": "auto",
           "type": "bar",
           "x": [
            "Calgary",
            "Charlottetown and Summerside",
            "Edmonton",
            "Halifax",
            "Montréal",
            "Ottawa-Gatineau",
            "Québec",
            "Regina",
            "Saint John",
            "Saskatoon",
            "St. John's",
            "Thunder Bay",
            "Toronto",
            "Vancouver",
            "Victoria",
            "Whitehorse",
            "Winnipeg",
            "Yellowknife"
           ],
           "xaxis": "x",
           "y": [
            118.79,
            128.89,
            115.22,
            129.74,
            135.48,
            130.08,
            134.65,
            122.51,
            128.48,
            119.36,
            127.7,
            136.04,
            130.85,
            139.27,
            133.98,
            137.98,
            123.88,
            136.76
           ],
           "yaxis": "y"
          }
         ],
         "name": "2013"
        },
        {
         "data": [
          {
           "alignmentgroup": "True",
           "hovertemplate": "Year=2014<br>City=%{x}<br>Value=%{y}<extra></extra>",
           "legendgroup": "",
           "marker": {
            "color": "#636efa",
            "pattern": {
             "shape": ""
            }
           },
           "name": "",
           "offsetgroup": "",
           "orientation": "v",
           "showlegend": false,
           "textposition": "auto",
           "type": "bar",
           "x": [
            "Calgary",
            "Charlottetown and Summerside",
            "Edmonton",
            "Halifax",
            "Montréal",
            "Ottawa-Gatineau",
            "Québec",
            "Regina",
            "Saint John",
            "Saskatoon",
            "St. John's",
            "Thunder Bay",
            "Toronto",
            "Vancouver",
            "Victoria",
            "Whitehorse",
            "Winnipeg",
            "Yellowknife"
           ],
           "xaxis": "x",
           "y": [
            125.07,
            131.26,
            120.28,
            132.78,
            137.22,
            132.36,
            135.04,
            129.43,
            131.13,
            129.12,
            128.69,
            140.03,
            134.27,
            141.68,
            136.76,
            140.29,
            127.49,
            140.61
           ],
           "yaxis": "y"
          }
         ],
         "name": "2014"
        },
        {
         "data": [
          {
           "alignmentgroup": "True",
           "hovertemplate": "Year=2015<br>City=%{x}<br>Value=%{y}<extra></extra>",
           "legendgroup": "",
           "marker": {
            "color": "#636efa",
            "pattern": {
             "shape": ""
            }
           },
           "name": "",
           "offsetgroup": "",
           "orientation": "v",
           "showlegend": false,
           "textposition": "auto",
           "type": "bar",
           "x": [
            "Calgary",
            "Charlottetown and Summerside",
            "Edmonton",
            "Halifax",
            "Montréal",
            "Ottawa-Gatineau",
            "Québec",
            "Regina",
            "Saint John",
            "Saskatoon",
            "St. John's",
            "Thunder Bay",
            "Toronto",
            "Vancouver",
            "Victoria",
            "Whitehorse",
            "Winnipeg",
            "Yellowknife"
           ],
           "xaxis": "x",
           "y": [
            104.81,
            105.13,
            99.82,
            106.04,
            115.9,
            110.14,
            112.11,
            103.2,
            107.3,
            103.08,
            105.85,
            117.14,
            112.48,
            122.87,
            120.09,
            116.98,
            102.24,
            119.11
           ],
           "yaxis": "y"
          }
         ],
         "name": "2015"
        },
        {
         "data": [
          {
           "alignmentgroup": "True",
           "hovertemplate": "Year=2016<br>City=%{x}<br>Value=%{y}<extra></extra>",
           "legendgroup": "",
           "marker": {
            "color": "#636efa",
            "pattern": {
             "shape": ""
            }
           },
           "name": "",
           "offsetgroup": "",
           "orientation": "v",
           "showlegend": false,
           "textposition": "auto",
           "type": "bar",
           "x": [
            "Calgary",
            "Charlottetown and Summerside",
            "Edmonton",
            "Halifax",
            "Montréal",
            "Ottawa-Gatineau",
            "Québec",
            "Regina",
            "Saint John",
            "Saskatoon",
            "St. John's",
            "Thunder Bay",
            "Toronto",
            "Vancouver",
            "Victoria",
            "Whitehorse",
            "Winnipeg",
            "Yellowknife"
           ],
           "xaxis": "x",
           "y": [
            96.62,
            95.99,
            91.91,
            96.61,
            104.79,
            100.75,
            100.18,
            94.21,
            98.6,
            94.02,
            104.67,
            109.6,
            102.7,
            115.6,
            112.82,
            107.55,
            95.25,
            108.55
           ],
           "yaxis": "y"
          }
         ],
         "name": "2016"
        },
        {
         "data": [
          {
           "alignmentgroup": "True",
           "hovertemplate": "Year=2017<br>City=%{x}<br>Value=%{y}<extra></extra>",
           "legendgroup": "",
           "marker": {
            "color": "#636efa",
            "pattern": {
             "shape": ""
            }
           },
           "name": "",
           "offsetgroup": "",
           "orientation": "v",
           "showlegend": false,
           "textposition": "auto",
           "type": "bar",
           "x": [
            "Calgary",
            "Charlottetown and Summerside",
            "Edmonton",
            "Halifax",
            "Montréal",
            "Ottawa-Gatineau",
            "Québec",
            "Regina",
            "Saint John",
            "Saskatoon",
            "St. John's",
            "Thunder Bay",
            "Toronto",
            "Vancouver",
            "Victoria",
            "Whitehorse",
            "Winnipeg",
            "Yellowknife"
           ],
           "xaxis": "x",
           "y": [
            108.94,
            105.34,
            106.19,
            106.02,
            115.31,
            114.91,
            111.57,
            103.08,
            109.37,
            102.08,
            116.36,
            122.91,
            117.28,
            129.52,
            126.6,
            116.25,
            103.21,
            116.29
           ],
           "yaxis": "y"
          }
         ],
         "name": "2017"
        },
        {
         "data": [
          {
           "alignmentgroup": "True",
           "hovertemplate": "Year=2018<br>City=%{x}<br>Value=%{y}<extra></extra>",
           "legendgroup": "",
           "marker": {
            "color": "#636efa",
            "pattern": {
             "shape": ""
            }
           },
           "name": "",
           "offsetgroup": "",
           "orientation": "v",
           "showlegend": false,
           "textposition": "auto",
           "type": "bar",
           "x": [
            "Calgary",
            "Charlottetown and Summerside",
            "Edmonton",
            "Halifax",
            "Montréal",
            "Ottawa-Gatineau",
            "Québec",
            "Regina",
            "Saint John",
            "Saskatoon",
            "St. John's",
            "Thunder Bay",
            "Toronto",
            "Vancouver",
            "Victoria",
            "Whitehorse",
            "Winnipeg",
            "Yellowknife"
           ],
           "xaxis": "x",
           "y": [
            128.11,
            120.45,
            125.22,
            118.92,
            132.18,
            130.28,
            128.63,
            119.92,
            123.99,
            120.32,
            126.68,
            141.25,
            132.31,
            147.37,
            145.06,
            135.04,
            120.44,
            134.76
           ],
           "yaxis": "y"
          }
         ],
         "name": "2018"
        },
        {
         "data": [
          {
           "alignmentgroup": "True",
           "hovertemplate": "Year=2019<br>City=%{x}<br>Value=%{y}<extra></extra>",
           "legendgroup": "",
           "marker": {
            "color": "#636efa",
            "pattern": {
             "shape": ""
            }
           },
           "name": "",
           "offsetgroup": "",
           "orientation": "v",
           "showlegend": false,
           "textposition": "auto",
           "type": "bar",
           "x": [
            "Calgary",
            "Charlottetown and Summerside",
            "Edmonton",
            "Halifax",
            "Montréal",
            "Ottawa-Gatineau",
            "Québec",
            "Regina",
            "Saint John",
            "Saskatoon",
            "St. John's",
            "Thunder Bay",
            "Toronto",
            "Vancouver",
            "Victoria",
            "Whitehorse",
            "Winnipeg",
            "Yellowknife"
           ],
           "xaxis": "x",
           "y": [
            116.31,
            115.81,
            113.36,
            115.24,
            127.26,
            126.08,
            124.84,
            117.19,
            122.57,
            119.22,
            121.71,
            138.95,
            125.39,
            144.98,
            144.75,
            137.72,
            117.81,
            132.61
           ],
           "yaxis": "y"
          }
         ],
         "name": "2019"
        },
        {
         "data": [
          {
           "alignmentgroup": "True",
           "hovertemplate": "Year=2020<br>City=%{x}<br>Value=%{y}<extra></extra>",
           "legendgroup": "",
           "marker": {
            "color": "#636efa",
            "pattern": {
             "shape": ""
            }
           },
           "name": "",
           "offsetgroup": "",
           "orientation": "v",
           "showlegend": false,
           "textposition": "auto",
           "type": "bar",
           "x": [
            "Calgary",
            "Charlottetown and Summerside",
            "Edmonton",
            "Halifax",
            "Montréal",
            "Ottawa-Gatineau",
            "Québec",
            "Regina",
            "Saint John",
            "Saskatoon",
            "St. John's",
            "Thunder Bay",
            "Toronto",
            "Vancouver",
            "Victoria",
            "Whitehorse",
            "Winnipeg",
            "Yellowknife"
           ],
           "xaxis": "x",
           "y": [
            103.98,
            94.42,
            99.21,
            92.2,
            108.26,
            109.64,
            107.91,
            101.78,
            99.44,
            101.48,
            101.59,
            122.85,
            109.48,
            121.94,
            125.58,
            122.62,
            101.78,
            113.75
           ],
           "yaxis": "y"
          }
         ],
         "name": "2020"
        },
        {
         "data": [
          {
           "alignmentgroup": "True",
           "hovertemplate": "Year=2021<br>City=%{x}<br>Value=%{y}<extra></extra>",
           "legendgroup": "",
           "marker": {
            "color": "#636efa",
            "pattern": {
             "shape": ""
            }
           },
           "name": "",
           "offsetgroup": "",
           "orientation": "v",
           "showlegend": false,
           "textposition": "auto",
           "type": "bar",
           "x": [
            "Calgary",
            "Charlottetown and Summerside",
            "Edmonton",
            "Halifax",
            "Montréal",
            "Ottawa-Gatineau",
            "Québec",
            "Regina",
            "Saint John",
            "Saskatoon",
            "St. John's",
            "Thunder Bay",
            "Toronto",
            "Vancouver",
            "Victoria",
            "Whitehorse",
            "Winnipeg",
            "Yellowknife"
           ],
           "xaxis": "x",
           "y": [
            132.13,
            123.8,
            128.83,
            123.54,
            131.02,
            135.79,
            131.86,
            126.42,
            128.35,
            125.36,
            135.54,
            146.54,
            136.58,
            151.04,
            151.3,
            141.5,
            127.48,
            136.13
           ],
           "yaxis": "y"
          }
         ],
         "name": "2021"
        }
       ],
       "layout": {
        "barmode": "relative",
        "legend": {
         "tracegroupgap": 0
        },
        "margin": {
         "t": 60
        },
        "sliders": [
         {
          "active": 0,
          "currentvalue": {
           "prefix": "Year="
          },
          "len": 0.9,
          "pad": {
           "b": 10,
           "t": 60
          },
          "steps": [
           {
            "args": [
             [
              "1979"
             ],
             {
              "frame": {
               "duration": 0,
               "redraw": true
              },
              "fromcurrent": true,
              "mode": "immediate",
              "transition": {
               "duration": 0,
               "easing": "linear"
              }
             }
            ],
            "label": "1979",
            "method": "animate"
           },
           {
            "args": [
             [
              "1980"
             ],
             {
              "frame": {
               "duration": 0,
               "redraw": true
              },
              "fromcurrent": true,
              "mode": "immediate",
              "transition": {
               "duration": 0,
               "easing": "linear"
              }
             }
            ],
            "label": "1980",
            "method": "animate"
           },
           {
            "args": [
             [
              "1981"
             ],
             {
              "frame": {
               "duration": 0,
               "redraw": true
              },
              "fromcurrent": true,
              "mode": "immediate",
              "transition": {
               "duration": 0,
               "easing": "linear"
              }
             }
            ],
            "label": "1981",
            "method": "animate"
           },
           {
            "args": [
             [
              "1982"
             ],
             {
              "frame": {
               "duration": 0,
               "redraw": true
              },
              "fromcurrent": true,
              "mode": "immediate",
              "transition": {
               "duration": 0,
               "easing": "linear"
              }
             }
            ],
            "label": "1982",
            "method": "animate"
           },
           {
            "args": [
             [
              "1983"
             ],
             {
              "frame": {
               "duration": 0,
               "redraw": true
              },
              "fromcurrent": true,
              "mode": "immediate",
              "transition": {
               "duration": 0,
               "easing": "linear"
              }
             }
            ],
            "label": "1983",
            "method": "animate"
           },
           {
            "args": [
             [
              "1984"
             ],
             {
              "frame": {
               "duration": 0,
               "redraw": true
              },
              "fromcurrent": true,
              "mode": "immediate",
              "transition": {
               "duration": 0,
               "easing": "linear"
              }
             }
            ],
            "label": "1984",
            "method": "animate"
           },
           {
            "args": [
             [
              "1985"
             ],
             {
              "frame": {
               "duration": 0,
               "redraw": true
              },
              "fromcurrent": true,
              "mode": "immediate",
              "transition": {
               "duration": 0,
               "easing": "linear"
              }
             }
            ],
            "label": "1985",
            "method": "animate"
           },
           {
            "args": [
             [
              "1986"
             ],
             {
              "frame": {
               "duration": 0,
               "redraw": true
              },
              "fromcurrent": true,
              "mode": "immediate",
              "transition": {
               "duration": 0,
               "easing": "linear"
              }
             }
            ],
            "label": "1986",
            "method": "animate"
           },
           {
            "args": [
             [
              "1987"
             ],
             {
              "frame": {
               "duration": 0,
               "redraw": true
              },
              "fromcurrent": true,
              "mode": "immediate",
              "transition": {
               "duration": 0,
               "easing": "linear"
              }
             }
            ],
            "label": "1987",
            "method": "animate"
           },
           {
            "args": [
             [
              "1988"
             ],
             {
              "frame": {
               "duration": 0,
               "redraw": true
              },
              "fromcurrent": true,
              "mode": "immediate",
              "transition": {
               "duration": 0,
               "easing": "linear"
              }
             }
            ],
            "label": "1988",
            "method": "animate"
           },
           {
            "args": [
             [
              "1989"
             ],
             {
              "frame": {
               "duration": 0,
               "redraw": true
              },
              "fromcurrent": true,
              "mode": "immediate",
              "transition": {
               "duration": 0,
               "easing": "linear"
              }
             }
            ],
            "label": "1989",
            "method": "animate"
           },
           {
            "args": [
             [
              "1990"
             ],
             {
              "frame": {
               "duration": 0,
               "redraw": true
              },
              "fromcurrent": true,
              "mode": "immediate",
              "transition": {
               "duration": 0,
               "easing": "linear"
              }
             }
            ],
            "label": "1990",
            "method": "animate"
           },
           {
            "args": [
             [
              "1991"
             ],
             {
              "frame": {
               "duration": 0,
               "redraw": true
              },
              "fromcurrent": true,
              "mode": "immediate",
              "transition": {
               "duration": 0,
               "easing": "linear"
              }
             }
            ],
            "label": "1991",
            "method": "animate"
           },
           {
            "args": [
             [
              "1992"
             ],
             {
              "frame": {
               "duration": 0,
               "redraw": true
              },
              "fromcurrent": true,
              "mode": "immediate",
              "transition": {
               "duration": 0,
               "easing": "linear"
              }
             }
            ],
            "label": "1992",
            "method": "animate"
           },
           {
            "args": [
             [
              "1993"
             ],
             {
              "frame": {
               "duration": 0,
               "redraw": true
              },
              "fromcurrent": true,
              "mode": "immediate",
              "transition": {
               "duration": 0,
               "easing": "linear"
              }
             }
            ],
            "label": "1993",
            "method": "animate"
           },
           {
            "args": [
             [
              "1994"
             ],
             {
              "frame": {
               "duration": 0,
               "redraw": true
              },
              "fromcurrent": true,
              "mode": "immediate",
              "transition": {
               "duration": 0,
               "easing": "linear"
              }
             }
            ],
            "label": "1994",
            "method": "animate"
           },
           {
            "args": [
             [
              "1995"
             ],
             {
              "frame": {
               "duration": 0,
               "redraw": true
              },
              "fromcurrent": true,
              "mode": "immediate",
              "transition": {
               "duration": 0,
               "easing": "linear"
              }
             }
            ],
            "label": "1995",
            "method": "animate"
           },
           {
            "args": [
             [
              "1996"
             ],
             {
              "frame": {
               "duration": 0,
               "redraw": true
              },
              "fromcurrent": true,
              "mode": "immediate",
              "transition": {
               "duration": 0,
               "easing": "linear"
              }
             }
            ],
            "label": "1996",
            "method": "animate"
           },
           {
            "args": [
             [
              "1997"
             ],
             {
              "frame": {
               "duration": 0,
               "redraw": true
              },
              "fromcurrent": true,
              "mode": "immediate",
              "transition": {
               "duration": 0,
               "easing": "linear"
              }
             }
            ],
            "label": "1997",
            "method": "animate"
           },
           {
            "args": [
             [
              "1998"
             ],
             {
              "frame": {
               "duration": 0,
               "redraw": true
              },
              "fromcurrent": true,
              "mode": "immediate",
              "transition": {
               "duration": 0,
               "easing": "linear"
              }
             }
            ],
            "label": "1998",
            "method": "animate"
           },
           {
            "args": [
             [
              "1999"
             ],
             {
              "frame": {
               "duration": 0,
               "redraw": true
              },
              "fromcurrent": true,
              "mode": "immediate",
              "transition": {
               "duration": 0,
               "easing": "linear"
              }
             }
            ],
            "label": "1999",
            "method": "animate"
           },
           {
            "args": [
             [
              "2000"
             ],
             {
              "frame": {
               "duration": 0,
               "redraw": true
              },
              "fromcurrent": true,
              "mode": "immediate",
              "transition": {
               "duration": 0,
               "easing": "linear"
              }
             }
            ],
            "label": "2000",
            "method": "animate"
           },
           {
            "args": [
             [
              "2001"
             ],
             {
              "frame": {
               "duration": 0,
               "redraw": true
              },
              "fromcurrent": true,
              "mode": "immediate",
              "transition": {
               "duration": 0,
               "easing": "linear"
              }
             }
            ],
            "label": "2001",
            "method": "animate"
           },
           {
            "args": [
             [
              "2002"
             ],
             {
              "frame": {
               "duration": 0,
               "redraw": true
              },
              "fromcurrent": true,
              "mode": "immediate",
              "transition": {
               "duration": 0,
               "easing": "linear"
              }
             }
            ],
            "label": "2002",
            "method": "animate"
           },
           {
            "args": [
             [
              "2003"
             ],
             {
              "frame": {
               "duration": 0,
               "redraw": true
              },
              "fromcurrent": true,
              "mode": "immediate",
              "transition": {
               "duration": 0,
               "easing": "linear"
              }
             }
            ],
            "label": "2003",
            "method": "animate"
           },
           {
            "args": [
             [
              "2004"
             ],
             {
              "frame": {
               "duration": 0,
               "redraw": true
              },
              "fromcurrent": true,
              "mode": "immediate",
              "transition": {
               "duration": 0,
               "easing": "linear"
              }
             }
            ],
            "label": "2004",
            "method": "animate"
           },
           {
            "args": [
             [
              "2005"
             ],
             {
              "frame": {
               "duration": 0,
               "redraw": true
              },
              "fromcurrent": true,
              "mode": "immediate",
              "transition": {
               "duration": 0,
               "easing": "linear"
              }
             }
            ],
            "label": "2005",
            "method": "animate"
           },
           {
            "args": [
             [
              "2006"
             ],
             {
              "frame": {
               "duration": 0,
               "redraw": true
              },
              "fromcurrent": true,
              "mode": "immediate",
              "transition": {
               "duration": 0,
               "easing": "linear"
              }
             }
            ],
            "label": "2006",
            "method": "animate"
           },
           {
            "args": [
             [
              "2007"
             ],
             {
              "frame": {
               "duration": 0,
               "redraw": true
              },
              "fromcurrent": true,
              "mode": "immediate",
              "transition": {
               "duration": 0,
               "easing": "linear"
              }
             }
            ],
            "label": "2007",
            "method": "animate"
           },
           {
            "args": [
             [
              "2008"
             ],
             {
              "frame": {
               "duration": 0,
               "redraw": true
              },
              "fromcurrent": true,
              "mode": "immediate",
              "transition": {
               "duration": 0,
               "easing": "linear"
              }
             }
            ],
            "label": "2008",
            "method": "animate"
           },
           {
            "args": [
             [
              "2009"
             ],
             {
              "frame": {
               "duration": 0,
               "redraw": true
              },
              "fromcurrent": true,
              "mode": "immediate",
              "transition": {
               "duration": 0,
               "easing": "linear"
              }
             }
            ],
            "label": "2009",
            "method": "animate"
           },
           {
            "args": [
             [
              "2010"
             ],
             {
              "frame": {
               "duration": 0,
               "redraw": true
              },
              "fromcurrent": true,
              "mode": "immediate",
              "transition": {
               "duration": 0,
               "easing": "linear"
              }
             }
            ],
            "label": "2010",
            "method": "animate"
           },
           {
            "args": [
             [
              "2011"
             ],
             {
              "frame": {
               "duration": 0,
               "redraw": true
              },
              "fromcurrent": true,
              "mode": "immediate",
              "transition": {
               "duration": 0,
               "easing": "linear"
              }
             }
            ],
            "label": "2011",
            "method": "animate"
           },
           {
            "args": [
             [
              "2012"
             ],
             {
              "frame": {
               "duration": 0,
               "redraw": true
              },
              "fromcurrent": true,
              "mode": "immediate",
              "transition": {
               "duration": 0,
               "easing": "linear"
              }
             }
            ],
            "label": "2012",
            "method": "animate"
           },
           {
            "args": [
             [
              "2013"
             ],
             {
              "frame": {
               "duration": 0,
               "redraw": true
              },
              "fromcurrent": true,
              "mode": "immediate",
              "transition": {
               "duration": 0,
               "easing": "linear"
              }
             }
            ],
            "label": "2013",
            "method": "animate"
           },
           {
            "args": [
             [
              "2014"
             ],
             {
              "frame": {
               "duration": 0,
               "redraw": true
              },
              "fromcurrent": true,
              "mode": "immediate",
              "transition": {
               "duration": 0,
               "easing": "linear"
              }
             }
            ],
            "label": "2014",
            "method": "animate"
           },
           {
            "args": [
             [
              "2015"
             ],
             {
              "frame": {
               "duration": 0,
               "redraw": true
              },
              "fromcurrent": true,
              "mode": "immediate",
              "transition": {
               "duration": 0,
               "easing": "linear"
              }
             }
            ],
            "label": "2015",
            "method": "animate"
           },
           {
            "args": [
             [
              "2016"
             ],
             {
              "frame": {
               "duration": 0,
               "redraw": true
              },
              "fromcurrent": true,
              "mode": "immediate",
              "transition": {
               "duration": 0,
               "easing": "linear"
              }
             }
            ],
            "label": "2016",
            "method": "animate"
           },
           {
            "args": [
             [
              "2017"
             ],
             {
              "frame": {
               "duration": 0,
               "redraw": true
              },
              "fromcurrent": true,
              "mode": "immediate",
              "transition": {
               "duration": 0,
               "easing": "linear"
              }
             }
            ],
            "label": "2017",
            "method": "animate"
           },
           {
            "args": [
             [
              "2018"
             ],
             {
              "frame": {
               "duration": 0,
               "redraw": true
              },
              "fromcurrent": true,
              "mode": "immediate",
              "transition": {
               "duration": 0,
               "easing": "linear"
              }
             }
            ],
            "label": "2018",
            "method": "animate"
           },
           {
            "args": [
             [
              "2019"
             ],
             {
              "frame": {
               "duration": 0,
               "redraw": true
              },
              "fromcurrent": true,
              "mode": "immediate",
              "transition": {
               "duration": 0,
               "easing": "linear"
              }
             }
            ],
            "label": "2019",
            "method": "animate"
           },
           {
            "args": [
             [
              "2020"
             ],
             {
              "frame": {
               "duration": 0,
               "redraw": true
              },
              "fromcurrent": true,
              "mode": "immediate",
              "transition": {
               "duration": 0,
               "easing": "linear"
              }
             }
            ],
            "label": "2020",
            "method": "animate"
           },
           {
            "args": [
             [
              "2021"
             ],
             {
              "frame": {
               "duration": 0,
               "redraw": true
              },
              "fromcurrent": true,
              "mode": "immediate",
              "transition": {
               "duration": 0,
               "easing": "linear"
              }
             }
            ],
            "label": "2021",
            "method": "animate"
           }
          ],
          "x": 0.1,
          "xanchor": "left",
          "y": 0,
          "yanchor": "top"
         }
        ],
        "template": {
         "data": {
          "bar": [
           {
            "error_x": {
             "color": "#2a3f5f"
            },
            "error_y": {
             "color": "#2a3f5f"
            },
            "marker": {
             "line": {
              "color": "#E5ECF6",
              "width": 0.5
             },
             "pattern": {
              "fillmode": "overlay",
              "size": 10,
              "solidity": 0.2
             }
            },
            "type": "bar"
           }
          ],
          "barpolar": [
           {
            "marker": {
             "line": {
              "color": "#E5ECF6",
              "width": 0.5
             },
             "pattern": {
              "fillmode": "overlay",
              "size": 10,
              "solidity": 0.2
             }
            },
            "type": "barpolar"
           }
          ],
          "carpet": [
           {
            "aaxis": {
             "endlinecolor": "#2a3f5f",
             "gridcolor": "white",
             "linecolor": "white",
             "minorgridcolor": "white",
             "startlinecolor": "#2a3f5f"
            },
            "baxis": {
             "endlinecolor": "#2a3f5f",
             "gridcolor": "white",
             "linecolor": "white",
             "minorgridcolor": "white",
             "startlinecolor": "#2a3f5f"
            },
            "type": "carpet"
           }
          ],
          "choropleth": [
           {
            "colorbar": {
             "outlinewidth": 0,
             "ticks": ""
            },
            "type": "choropleth"
           }
          ],
          "contour": [
           {
            "colorbar": {
             "outlinewidth": 0,
             "ticks": ""
            },
            "colorscale": [
             [
              0,
              "#0d0887"
             ],
             [
              0.1111111111111111,
              "#46039f"
             ],
             [
              0.2222222222222222,
              "#7201a8"
             ],
             [
              0.3333333333333333,
              "#9c179e"
             ],
             [
              0.4444444444444444,
              "#bd3786"
             ],
             [
              0.5555555555555556,
              "#d8576b"
             ],
             [
              0.6666666666666666,
              "#ed7953"
             ],
             [
              0.7777777777777778,
              "#fb9f3a"
             ],
             [
              0.8888888888888888,
              "#fdca26"
             ],
             [
              1,
              "#f0f921"
             ]
            ],
            "type": "contour"
           }
          ],
          "contourcarpet": [
           {
            "colorbar": {
             "outlinewidth": 0,
             "ticks": ""
            },
            "type": "contourcarpet"
           }
          ],
          "heatmap": [
           {
            "colorbar": {
             "outlinewidth": 0,
             "ticks": ""
            },
            "colorscale": [
             [
              0,
              "#0d0887"
             ],
             [
              0.1111111111111111,
              "#46039f"
             ],
             [
              0.2222222222222222,
              "#7201a8"
             ],
             [
              0.3333333333333333,
              "#9c179e"
             ],
             [
              0.4444444444444444,
              "#bd3786"
             ],
             [
              0.5555555555555556,
              "#d8576b"
             ],
             [
              0.6666666666666666,
              "#ed7953"
             ],
             [
              0.7777777777777778,
              "#fb9f3a"
             ],
             [
              0.8888888888888888,
              "#fdca26"
             ],
             [
              1,
              "#f0f921"
             ]
            ],
            "type": "heatmap"
           }
          ],
          "heatmapgl": [
           {
            "colorbar": {
             "outlinewidth": 0,
             "ticks": ""
            },
            "colorscale": [
             [
              0,
              "#0d0887"
             ],
             [
              0.1111111111111111,
              "#46039f"
             ],
             [
              0.2222222222222222,
              "#7201a8"
             ],
             [
              0.3333333333333333,
              "#9c179e"
             ],
             [
              0.4444444444444444,
              "#bd3786"
             ],
             [
              0.5555555555555556,
              "#d8576b"
             ],
             [
              0.6666666666666666,
              "#ed7953"
             ],
             [
              0.7777777777777778,
              "#fb9f3a"
             ],
             [
              0.8888888888888888,
              "#fdca26"
             ],
             [
              1,
              "#f0f921"
             ]
            ],
            "type": "heatmapgl"
           }
          ],
          "histogram": [
           {
            "marker": {
             "pattern": {
              "fillmode": "overlay",
              "size": 10,
              "solidity": 0.2
             }
            },
            "type": "histogram"
           }
          ],
          "histogram2d": [
           {
            "colorbar": {
             "outlinewidth": 0,
             "ticks": ""
            },
            "colorscale": [
             [
              0,
              "#0d0887"
             ],
             [
              0.1111111111111111,
              "#46039f"
             ],
             [
              0.2222222222222222,
              "#7201a8"
             ],
             [
              0.3333333333333333,
              "#9c179e"
             ],
             [
              0.4444444444444444,
              "#bd3786"
             ],
             [
              0.5555555555555556,
              "#d8576b"
             ],
             [
              0.6666666666666666,
              "#ed7953"
             ],
             [
              0.7777777777777778,
              "#fb9f3a"
             ],
             [
              0.8888888888888888,
              "#fdca26"
             ],
             [
              1,
              "#f0f921"
             ]
            ],
            "type": "histogram2d"
           }
          ],
          "histogram2dcontour": [
           {
            "colorbar": {
             "outlinewidth": 0,
             "ticks": ""
            },
            "colorscale": [
             [
              0,
              "#0d0887"
             ],
             [
              0.1111111111111111,
              "#46039f"
             ],
             [
              0.2222222222222222,
              "#7201a8"
             ],
             [
              0.3333333333333333,
              "#9c179e"
             ],
             [
              0.4444444444444444,
              "#bd3786"
             ],
             [
              0.5555555555555556,
              "#d8576b"
             ],
             [
              0.6666666666666666,
              "#ed7953"
             ],
             [
              0.7777777777777778,
              "#fb9f3a"
             ],
             [
              0.8888888888888888,
              "#fdca26"
             ],
             [
              1,
              "#f0f921"
             ]
            ],
            "type": "histogram2dcontour"
           }
          ],
          "mesh3d": [
           {
            "colorbar": {
             "outlinewidth": 0,
             "ticks": ""
            },
            "type": "mesh3d"
           }
          ],
          "parcoords": [
           {
            "line": {
             "colorbar": {
              "outlinewidth": 0,
              "ticks": ""
             }
            },
            "type": "parcoords"
           }
          ],
          "pie": [
           {
            "automargin": true,
            "type": "pie"
           }
          ],
          "scatter": [
           {
            "fillpattern": {
             "fillmode": "overlay",
             "size": 10,
             "solidity": 0.2
            },
            "type": "scatter"
           }
          ],
          "scatter3d": [
           {
            "line": {
             "colorbar": {
              "outlinewidth": 0,
              "ticks": ""
             }
            },
            "marker": {
             "colorbar": {
              "outlinewidth": 0,
              "ticks": ""
             }
            },
            "type": "scatter3d"
           }
          ],
          "scattercarpet": [
           {
            "marker": {
             "colorbar": {
              "outlinewidth": 0,
              "ticks": ""
             }
            },
            "type": "scattercarpet"
           }
          ],
          "scattergeo": [
           {
            "marker": {
             "colorbar": {
              "outlinewidth": 0,
              "ticks": ""
             }
            },
            "type": "scattergeo"
           }
          ],
          "scattergl": [
           {
            "marker": {
             "colorbar": {
              "outlinewidth": 0,
              "ticks": ""
             }
            },
            "type": "scattergl"
           }
          ],
          "scattermapbox": [
           {
            "marker": {
             "colorbar": {
              "outlinewidth": 0,
              "ticks": ""
             }
            },
            "type": "scattermapbox"
           }
          ],
          "scatterpolar": [
           {
            "marker": {
             "colorbar": {
              "outlinewidth": 0,
              "ticks": ""
             }
            },
            "type": "scatterpolar"
           }
          ],
          "scatterpolargl": [
           {
            "marker": {
             "colorbar": {
              "outlinewidth": 0,
              "ticks": ""
             }
            },
            "type": "scatterpolargl"
           }
          ],
          "scatterternary": [
           {
            "marker": {
             "colorbar": {
              "outlinewidth": 0,
              "ticks": ""
             }
            },
            "type": "scatterternary"
           }
          ],
          "surface": [
           {
            "colorbar": {
             "outlinewidth": 0,
             "ticks": ""
            },
            "colorscale": [
             [
              0,
              "#0d0887"
             ],
             [
              0.1111111111111111,
              "#46039f"
             ],
             [
              0.2222222222222222,
              "#7201a8"
             ],
             [
              0.3333333333333333,
              "#9c179e"
             ],
             [
              0.4444444444444444,
              "#bd3786"
             ],
             [
              0.5555555555555556,
              "#d8576b"
             ],
             [
              0.6666666666666666,
              "#ed7953"
             ],
             [
              0.7777777777777778,
              "#fb9f3a"
             ],
             [
              0.8888888888888888,
              "#fdca26"
             ],
             [
              1,
              "#f0f921"
             ]
            ],
            "type": "surface"
           }
          ],
          "table": [
           {
            "cells": {
             "fill": {
              "color": "#EBF0F8"
             },
             "line": {
              "color": "white"
             }
            },
            "header": {
             "fill": {
              "color": "#C8D4E3"
             },
             "line": {
              "color": "white"
             }
            },
            "type": "table"
           }
          ]
         },
         "layout": {
          "annotationdefaults": {
           "arrowcolor": "#2a3f5f",
           "arrowhead": 0,
           "arrowwidth": 1
          },
          "autotypenumbers": "strict",
          "coloraxis": {
           "colorbar": {
            "outlinewidth": 0,
            "ticks": ""
           }
          },
          "colorscale": {
           "diverging": [
            [
             0,
             "#8e0152"
            ],
            [
             0.1,
             "#c51b7d"
            ],
            [
             0.2,
             "#de77ae"
            ],
            [
             0.3,
             "#f1b6da"
            ],
            [
             0.4,
             "#fde0ef"
            ],
            [
             0.5,
             "#f7f7f7"
            ],
            [
             0.6,
             "#e6f5d0"
            ],
            [
             0.7,
             "#b8e186"
            ],
            [
             0.8,
             "#7fbc41"
            ],
            [
             0.9,
             "#4d9221"
            ],
            [
             1,
             "#276419"
            ]
           ],
           "sequential": [
            [
             0,
             "#0d0887"
            ],
            [
             0.1111111111111111,
             "#46039f"
            ],
            [
             0.2222222222222222,
             "#7201a8"
            ],
            [
             0.3333333333333333,
             "#9c179e"
            ],
            [
             0.4444444444444444,
             "#bd3786"
            ],
            [
             0.5555555555555556,
             "#d8576b"
            ],
            [
             0.6666666666666666,
             "#ed7953"
            ],
            [
             0.7777777777777778,
             "#fb9f3a"
            ],
            [
             0.8888888888888888,
             "#fdca26"
            ],
            [
             1,
             "#f0f921"
            ]
           ],
           "sequentialminus": [
            [
             0,
             "#0d0887"
            ],
            [
             0.1111111111111111,
             "#46039f"
            ],
            [
             0.2222222222222222,
             "#7201a8"
            ],
            [
             0.3333333333333333,
             "#9c179e"
            ],
            [
             0.4444444444444444,
             "#bd3786"
            ],
            [
             0.5555555555555556,
             "#d8576b"
            ],
            [
             0.6666666666666666,
             "#ed7953"
            ],
            [
             0.7777777777777778,
             "#fb9f3a"
            ],
            [
             0.8888888888888888,
             "#fdca26"
            ],
            [
             1,
             "#f0f921"
            ]
           ]
          },
          "colorway": [
           "#636efa",
           "#EF553B",
           "#00cc96",
           "#ab63fa",
           "#FFA15A",
           "#19d3f3",
           "#FF6692",
           "#B6E880",
           "#FF97FF",
           "#FECB52"
          ],
          "font": {
           "color": "#2a3f5f"
          },
          "geo": {
           "bgcolor": "white",
           "lakecolor": "white",
           "landcolor": "#E5ECF6",
           "showlakes": true,
           "showland": true,
           "subunitcolor": "white"
          },
          "hoverlabel": {
           "align": "left"
          },
          "hovermode": "closest",
          "mapbox": {
           "style": "light"
          },
          "paper_bgcolor": "white",
          "plot_bgcolor": "#E5ECF6",
          "polar": {
           "angularaxis": {
            "gridcolor": "white",
            "linecolor": "white",
            "ticks": ""
           },
           "bgcolor": "#E5ECF6",
           "radialaxis": {
            "gridcolor": "white",
            "linecolor": "white",
            "ticks": ""
           }
          },
          "scene": {
           "xaxis": {
            "backgroundcolor": "#E5ECF6",
            "gridcolor": "white",
            "gridwidth": 2,
            "linecolor": "white",
            "showbackground": true,
            "ticks": "",
            "zerolinecolor": "white"
           },
           "yaxis": {
            "backgroundcolor": "#E5ECF6",
            "gridcolor": "white",
            "gridwidth": 2,
            "linecolor": "white",
            "showbackground": true,
            "ticks": "",
            "zerolinecolor": "white"
           },
           "zaxis": {
            "backgroundcolor": "#E5ECF6",
            "gridcolor": "white",
            "gridwidth": 2,
            "linecolor": "white",
            "showbackground": true,
            "ticks": "",
            "zerolinecolor": "white"
           }
          },
          "shapedefaults": {
           "line": {
            "color": "#2a3f5f"
           }
          },
          "ternary": {
           "aaxis": {
            "gridcolor": "white",
            "linecolor": "white",
            "ticks": ""
           },
           "baxis": {
            "gridcolor": "white",
            "linecolor": "white",
            "ticks": ""
           },
           "bgcolor": "#E5ECF6",
           "caxis": {
            "gridcolor": "white",
            "linecolor": "white",
            "ticks": ""
           }
          },
          "title": {
           "x": 0.05
          },
          "xaxis": {
           "automargin": true,
           "gridcolor": "white",
           "linecolor": "white",
           "ticks": "",
           "title": {
            "standoff": 15
           },
           "zerolinecolor": "white",
           "zerolinewidth": 2
          },
          "yaxis": {
           "automargin": true,
           "gridcolor": "white",
           "linecolor": "white",
           "ticks": "",
           "title": {
            "standoff": 15
           },
           "zerolinecolor": "white",
           "zerolinewidth": 2
          }
         }
        },
        "title": {
         "text": "Time Lapse of Average Price of Gasoline, by Province"
        },
        "updatemenus": [
         {
          "buttons": [
           {
            "args": [
             null,
             {
              "frame": {
               "duration": 500,
               "redraw": true
              },
              "fromcurrent": true,
              "mode": "immediate",
              "transition": {
               "duration": 500,
               "easing": "linear"
              }
             }
            ],
            "label": "&#9654;",
            "method": "animate"
           },
           {
            "args": [
             [
              null
             ],
             {
              "frame": {
               "duration": 0,
               "redraw": true
              },
              "fromcurrent": true,
              "mode": "immediate",
              "transition": {
               "duration": 0,
               "easing": "linear"
              }
             }
            ],
            "label": "&#9724;",
            "method": "animate"
           }
          ],
          "direction": "left",
          "pad": {
           "r": 10,
           "t": 70
          },
          "showactive": false,
          "type": "buttons",
          "x": 0.1,
          "xanchor": "right",
          "y": 0,
          "yanchor": "top"
         }
        ],
        "xaxis": {
         "anchor": "y",
         "domain": [
          0,
          1
         ],
         "title": {
          "text": "Year"
         }
        },
        "yaxis": {
         "anchor": "x",
         "domain": [
          0,
          1
         ],
         "title": {
          "text": "Average Price of Gasoline, Cents per Litre"
         }
        }
       }
      }
     },
     "metadata": {},
     "output_type": "display_data"
    }
   ],
   "source": [
    "fig = px.bar(bycity,  \n",
    "            x='City', y = \"Value\", animation_frame=\"Year\")\n",
    "fig.update_layout(\n",
    "    title=\"Time Lapse of Average Price of Gasoline, by Province\",\n",
    "    xaxis_title=\"Year\",\n",
    "    yaxis_title=\"Average Price of Gasoline, Cents per Litre\")\n",
    "\n",
    "fig.show()\n",
    " "
   ]
  },
  {
   "cell_type": "code",
   "execution_count": 47,
   "metadata": {},
   "outputs": [
    {
     "data": {
      "text/html": [
       "<div>\n",
       "<style scoped>\n",
       "    .dataframe tbody tr th:only-of-type {\n",
       "        vertical-align: middle;\n",
       "    }\n",
       "\n",
       "    .dataframe tbody tr th {\n",
       "        vertical-align: top;\n",
       "    }\n",
       "\n",
       "    .dataframe thead th {\n",
       "        text-align: right;\n",
       "    }\n",
       "</style>\n",
       "<table border=\"1\" class=\"dataframe\">\n",
       "  <thead>\n",
       "    <tr style=\"text-align: right;\">\n",
       "      <th></th>\n",
       "      <th>DATE</th>\n",
       "      <th>GEO</th>\n",
       "      <th>TYPE</th>\n",
       "      <th>VALUE</th>\n",
       "      <th>City</th>\n",
       "      <th>Province</th>\n",
       "      <th>Month</th>\n",
       "      <th>Year</th>\n",
       "    </tr>\n",
       "  </thead>\n",
       "  <tbody>\n",
       "    <tr>\n",
       "      <th>41252</th>\n",
       "      <td>2021-01-01</td>\n",
       "      <td>St. John's, Newfoundland and Labrador</td>\n",
       "      <td>Regular unleaded gasoline at self service fill...</td>\n",
       "      <td>124.8</td>\n",
       "      <td>St. John's</td>\n",
       "      <td>Newfoundland and Labrador</td>\n",
       "      <td>Jan</td>\n",
       "      <td>2021</td>\n",
       "    </tr>\n",
       "    <tr>\n",
       "      <th>41253</th>\n",
       "      <td>2021-01-01</td>\n",
       "      <td>St. John's, Newfoundland and Labrador</td>\n",
       "      <td>Premium unleaded gasoline at self service fill...</td>\n",
       "      <td>130.6</td>\n",
       "      <td>St. John's</td>\n",
       "      <td>Newfoundland and Labrador</td>\n",
       "      <td>Jan</td>\n",
       "      <td>2021</td>\n",
       "    </tr>\n",
       "    <tr>\n",
       "      <th>41254</th>\n",
       "      <td>2021-01-01</td>\n",
       "      <td>St. John's, Newfoundland and Labrador</td>\n",
       "      <td>Diesel fuel at self service filling stations</td>\n",
       "      <td>126.7</td>\n",
       "      <td>St. John's</td>\n",
       "      <td>Newfoundland and Labrador</td>\n",
       "      <td>Jan</td>\n",
       "      <td>2021</td>\n",
       "    </tr>\n",
       "    <tr>\n",
       "      <th>41255</th>\n",
       "      <td>2021-01-01</td>\n",
       "      <td>St. John's, Newfoundland and Labrador</td>\n",
       "      <td>Household heating fuel</td>\n",
       "      <td>89.8</td>\n",
       "      <td>St. John's</td>\n",
       "      <td>Newfoundland and Labrador</td>\n",
       "      <td>Jan</td>\n",
       "      <td>2021</td>\n",
       "    </tr>\n",
       "    <tr>\n",
       "      <th>41256</th>\n",
       "      <td>2021-01-01</td>\n",
       "      <td>Charlottetown and Summerside, Prince Edward Is...</td>\n",
       "      <td>Regular unleaded gasoline at self service fill...</td>\n",
       "      <td>109.1</td>\n",
       "      <td>Charlottetown and Summerside</td>\n",
       "      <td>Prince Edward Island</td>\n",
       "      <td>Jan</td>\n",
       "      <td>2021</td>\n",
       "    </tr>\n",
       "  </tbody>\n",
       "</table>\n",
       "</div>"
      ],
      "text/plain": [
       "            DATE                                                GEO  \\\n",
       "41252 2021-01-01              St. John's, Newfoundland and Labrador   \n",
       "41253 2021-01-01              St. John's, Newfoundland and Labrador   \n",
       "41254 2021-01-01              St. John's, Newfoundland and Labrador   \n",
       "41255 2021-01-01              St. John's, Newfoundland and Labrador   \n",
       "41256 2021-01-01  Charlottetown and Summerside, Prince Edward Is...   \n",
       "\n",
       "                                                    TYPE  VALUE  \\\n",
       "41252  Regular unleaded gasoline at self service fill...  124.8   \n",
       "41253  Premium unleaded gasoline at self service fill...  130.6   \n",
       "41254       Diesel fuel at self service filling stations  126.7   \n",
       "41255                             Household heating fuel   89.8   \n",
       "41256  Regular unleaded gasoline at self service fill...  109.1   \n",
       "\n",
       "                               City                    Province Month  Year  \n",
       "41252                    St. John's   Newfoundland and Labrador   Jan  2021  \n",
       "41253                    St. John's   Newfoundland and Labrador   Jan  2021  \n",
       "41254                    St. John's   Newfoundland and Labrador   Jan  2021  \n",
       "41255                    St. John's   Newfoundland and Labrador   Jan  2021  \n",
       "41256  Charlottetown and Summerside        Prince Edward Island   Jan  2021  "
      ]
     },
     "execution_count": 47,
     "metadata": {},
     "output_type": "execute_result"
    }
   ],
   "source": [
    "one_year = data[data['Year'] == 2021]\n",
    "one_year.head()"
   ]
  },
  {
   "cell_type": "code",
   "execution_count": 48,
   "metadata": {},
   "outputs": [
    {
     "data": {
      "text/html": [
       "<div>\n",
       "<style scoped>\n",
       "    .dataframe tbody tr th:only-of-type {\n",
       "        vertical-align: middle;\n",
       "    }\n",
       "\n",
       "    .dataframe tbody tr th {\n",
       "        vertical-align: top;\n",
       "    }\n",
       "\n",
       "    .dataframe thead th {\n",
       "        text-align: right;\n",
       "    }\n",
       "</style>\n",
       "<table border=\"1\" class=\"dataframe\">\n",
       "  <thead>\n",
       "    <tr style=\"text-align: right;\">\n",
       "      <th></th>\n",
       "      <th>Province</th>\n",
       "      <th>Average Gasoline Price</th>\n",
       "      <th>ProvinceID</th>\n",
       "    </tr>\n",
       "  </thead>\n",
       "  <tbody>\n",
       "    <tr>\n",
       "      <th>0</th>\n",
       "      <td>Alberta</td>\n",
       "      <td>130.48</td>\n",
       "      <td>4</td>\n",
       "    </tr>\n",
       "    <tr>\n",
       "      <th>1</th>\n",
       "      <td>British Columbia</td>\n",
       "      <td>151.17</td>\n",
       "      <td>6</td>\n",
       "    </tr>\n",
       "    <tr>\n",
       "      <th>2</th>\n",
       "      <td>Manitoba</td>\n",
       "      <td>127.48</td>\n",
       "      <td>10</td>\n",
       "    </tr>\n",
       "    <tr>\n",
       "      <th>3</th>\n",
       "      <td>New Brunswick</td>\n",
       "      <td>128.35</td>\n",
       "      <td>7</td>\n",
       "    </tr>\n",
       "    <tr>\n",
       "      <th>4</th>\n",
       "      <td>Newfoundland and Labrador</td>\n",
       "      <td>135.54</td>\n",
       "      <td>5</td>\n",
       "    </tr>\n",
       "    <tr>\n",
       "      <th>5</th>\n",
       "      <td>Northwest Territories</td>\n",
       "      <td>136.13</td>\n",
       "      <td>13</td>\n",
       "    </tr>\n",
       "    <tr>\n",
       "      <th>6</th>\n",
       "      <td>Nova Scotia</td>\n",
       "      <td>123.54</td>\n",
       "      <td>2</td>\n",
       "    </tr>\n",
       "    <tr>\n",
       "      <th>7</th>\n",
       "      <td>Ontario</td>\n",
       "      <td>140.85</td>\n",
       "      <td>11</td>\n",
       "    </tr>\n",
       "    <tr>\n",
       "      <th>8</th>\n",
       "      <td>Ontario part, Ontario/Quebec</td>\n",
       "      <td>135.79</td>\n",
       "      <td>12</td>\n",
       "    </tr>\n",
       "    <tr>\n",
       "      <th>9</th>\n",
       "      <td>Prince Edward Island</td>\n",
       "      <td>123.80</td>\n",
       "      <td>8</td>\n",
       "    </tr>\n",
       "    <tr>\n",
       "      <th>10</th>\n",
       "      <td>Quebec</td>\n",
       "      <td>131.44</td>\n",
       "      <td>1</td>\n",
       "    </tr>\n",
       "    <tr>\n",
       "      <th>11</th>\n",
       "      <td>Saskatchewan</td>\n",
       "      <td>125.89</td>\n",
       "      <td>3</td>\n",
       "    </tr>\n",
       "    <tr>\n",
       "      <th>12</th>\n",
       "      <td>Yukon</td>\n",
       "      <td>141.50</td>\n",
       "      <td>9</td>\n",
       "    </tr>\n",
       "  </tbody>\n",
       "</table>\n",
       "</div>"
      ],
      "text/plain": [
       "                         Province  Average Gasoline Price  ProvinceID\n",
       "0                         Alberta                  130.48           4\n",
       "1                British Columbia                  151.17           6\n",
       "2                        Manitoba                  127.48          10\n",
       "3                   New Brunswick                  128.35           7\n",
       "4       Newfoundland and Labrador                  135.54           5\n",
       "5           Northwest Territories                  136.13          13\n",
       "6                     Nova Scotia                  123.54           2\n",
       "7                         Ontario                  140.85          11\n",
       "8    Ontario part, Ontario/Quebec                  135.79          12\n",
       "9            Prince Edward Island                  123.80           8\n",
       "10                         Quebec                  131.44           1\n",
       "11                   Saskatchewan                  125.89           3\n",
       "12                          Yukon                  141.50           9"
      ]
     },
     "metadata": {},
     "output_type": "display_data"
    }
   ],
   "source": [
    "geodata =  one_year.groupby('Province')['VALUE'].mean().reset_index(name ='Average Gasoline Price').round(2)\n",
    "\n",
    "provinces={' Newfoundland and Labrador':5,\n",
    " ' Prince Edward Island':8,\n",
    " ' Nova Scotia':2,\n",
    " ' New Brunswick':7,\n",
    " ' Quebec':1,\n",
    " ' Ontario':11,\n",
    " ' Ontario part, Ontario/Quebec':12,\n",
    " ' Manitoba':10,\n",
    " ' Saskatchewan':3,\n",
    " ' Alberta':4,\n",
    " ' British Columbia':6,\n",
    " ' Yukon':9,\n",
    " ' Northwest Territories':13\n",
    "}\n",
    "geodata['ProvinceID']=geodata['Province'].map(provinces)\n",
    "display(geodata)\n"
   ]
  },
  {
   "cell_type": "code",
   "execution_count": null,
   "metadata": {},
   "outputs": [],
   "source": [
    "mp = json.load('../data/canada_provinces.geojson')"
   ]
  }
 ],
 "metadata": {
  "kernelspec": {
   "display_name": ".venv",
   "language": "python",
   "name": "python3"
  },
  "language_info": {
   "codemirror_mode": {
    "name": "ipython",
    "version": 3
   },
   "file_extension": ".py",
   "mimetype": "text/x-python",
   "name": "python",
   "nbconvert_exporter": "python",
   "pygments_lexer": "ipython3",
   "version": "3.11.4"
  }
 },
 "nbformat": 4,
 "nbformat_minor": 2
}
